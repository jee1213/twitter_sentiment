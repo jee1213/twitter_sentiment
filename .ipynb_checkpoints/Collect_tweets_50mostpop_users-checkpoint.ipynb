{
 "cells": [
  {
   "cell_type": "code",
   "execution_count": 1,
   "metadata": {
    "collapsed": true
   },
   "outputs": [],
   "source": [
    "try:\n",
    "    import json\n",
    "except ImportError:\n",
    "    import simplejson as json\n",
    "\n",
    "# Import the necessary methods from \"twitter\" library\n",
    "from twitter import Twitter, OAuth, TwitterHTTPError, TwitterStream"
   ]
  },
  {
   "cell_type": "code",
   "execution_count": 2,
   "metadata": {
    "collapsed": false
   },
   "outputs": [],
   "source": [
    "import pandas as pd\n",
    "# Obtain list of 50 most followed people worldwide from wikipedia\n",
    "import wikipedia as wp\n",
    " \n",
    "#Get the html source\n",
    "#html = wp.page(\"List of most-followed Twitter accounts\").html().encode(\"UTF-8\")\n",
    "#df = pd.read_html(html)[0]\n",
    "#df.to_csv('twitter_list_of_influencers.csv',header=0,index=False)\n",
    "df = pd.read_csv('twitter_list_of_influencers.csv')\n",
    "user_list = list(df['Account name'])[:]\n",
    "# remove '@' infront of the screen names and save the list as user_list\n",
    "user_list = [a[1:] for a in user_list]"
   ]
  },
  {
   "cell_type": "code",
   "execution_count": 3,
   "metadata": {
    "collapsed": false
   },
   "outputs": [
    {
     "name": "stdout",
     "output_type": "stream",
     "text": [
      "   Rank  Change (monthly)    Account name          Owner  \\\n",
      "0   1.0               NaN      @katyperry     Katy Perry   \n",
      "1   2.0               NaN   @justinbieber  Justin Bieber   \n",
      "2   3.0               NaN    @BarackObama   Barack Obama   \n",
      "3   4.0               NaN        @rihanna        Rihanna   \n",
      "4   5.0               NaN  @taylorswift13   Taylor Swift   \n",
      "\n",
      "   Followers (millions)               Activity Country  \n",
      "0                   110               Musician     USA  \n",
      "1                   107               Musician     CAN  \n",
      "2                   103  Former U.S. President     USA  \n",
      "3                    89               Musician     BAR  \n",
      "4                    86               Musician     USA  \n"
     ]
    }
   ],
   "source": [
    "print(df.head(5))"
   ]
  },
  {
   "cell_type": "code",
   "execution_count": 4,
   "metadata": {
    "collapsed": false
   },
   "outputs": [],
   "source": [
    "# Variables that contains the user credentials to access Twitter API \n",
    "ACCESS_TOKEN = '187549975-3LD41YaLCw3XnOvRUJVkqXrjt6gMsuT1HrEUlqDi'\n",
    "ACCESS_SECRET = 'ZykwgJpFYQaZdP6vEFHtbqBfkQfgBo9mV0LM3MkmEp5Oj'\n",
    "CONSUMER_KEY = 'qQTzJ4OceyUFMLcWkn7ZZ5Wrp'\n",
    "CONSUMER_SECRET = 'z6aV6zjg2yac1TiZw5ERUvZ2XLXAGBQJ1OD0yUCFtCczWNKjik'\n",
    "\n",
    "oauth = OAuth(ACCESS_TOKEN, ACCESS_SECRET, CONSUMER_KEY, CONSUMER_SECRET)\n",
    "\n",
    "t = Twitter(auth=oauth)\n",
    "id_list = t.users.lookup(screen_name=','.join(user_list))"
   ]
  },
  {
   "cell_type": "code",
   "execution_count": 5,
   "metadata": {
    "collapsed": false
   },
   "outputs": [
    {
     "name": "stdout",
     "output_type": "stream",
     "text": [
      "['21447363', '27260086', '813286', '79293791', '17919972', '14230524', '15846407', '155659213', '10228272', '26565946', '783214', '25365536', '16409683', '34507480', '21111883', '23375688', '428333', '25073877', '44409004', '15485441', '50393960', '85603854', '18839785', '100220864', '19397785', '807095', '23083404', '268414482', '759251', '105119490', '158487331', '180505807', '5402612', '27195114', '101311381', '26257166', '23151437', '145125358', '116362700', '2557521', '20322929', '132385468', '84279963', '28706024', '158314798', '181561712', '209708391', '35094637', '14872237', '60865434']\n"
     ]
    }
   ],
   "source": [
    "user_id = [id_list[x]['id_str'] for x in range(50)]\n",
    "print(user_id)"
   ]
  },
  {
   "cell_type": "code",
   "execution_count": 6,
   "metadata": {
    "collapsed": false
   },
   "outputs": [],
   "source": [
    "user_info = pd.DataFrame({\"user_name\":user_list,\"user_id\":user_id,\"activity\":df['Activity'],\"country\":df['Country']})\n",
    "user_info.head(10)\n",
    "user_info.to_csv(\"user_info.csv\")"
   ]
  },
  {
   "cell_type": "code",
   "execution_count": 7,
   "metadata": {
    "collapsed": false
   },
   "outputs": [
    {
     "name": "stdout",
     "output_type": "stream",
     "text": [
      "file not complete, stream twitter for collecting further tweets\n"
     ]
    }
   ],
   "source": [
    "# Initiate the connection to Twitter Streaming API\n",
    "twitter_stream = TwitterStream(auth=oauth)\n",
    "iterator = twitter_stream.statuses.filter(lang='en',follow=','.join(user_id))\n",
    "\n",
    "# Get a sample of the public data following through Twitter\n",
    "# iterator = twitter_stream.statuses.sample()\n",
    "# As a pilot survey we set it to stop after getting 1000 tweets. \n",
    "# You don't have to set it to stop, but can continue running \n",
    "# the Twitter API to collect data for days or even longer. \n",
    "\n",
    "tweets_filename = 'twitter_savereplies_nsamp30000.json'\n",
    "#tweets_file = open(tweets_filename, \"r\")\n",
    "import os.path\n",
    "# find out a way to filter replies only:\n",
    "# save to json file\n",
    "tweet_count = 30000\n",
    "tweet_cnt = tweet_count\n",
    "tweets = []\n",
    "try:\n",
    "    os.path.isfile(tweets_filename)\n",
    "    with open(tweets_filename, 'r') as f:\n",
    "        tweets = json.load(f) # readline only the first tweet/line\n",
    "        print(\"file exists\")\n",
    "        if len(tweets) < tweet_cnt:\n",
    "            raise DataError\n",
    "        pass\n",
    "except:\n",
    "    tweet_count = tweet_cnt - len(tweets)\n",
    "    print(\"file not complete, stream twitter for collecting further tweets\")\n",
    "    new_tweets = []\n",
    "    for tweet in iterator:\n",
    "    # select only \"replies\" to top 50 followed users\n",
    "        try:\n",
    "            if str(tweet['in_reply_to_user_id']) in user_id:\n",
    "        #print(tweet['in_reply_to_user_id'])\n",
    "                tweet_count -= 1\n",
    "                new_tweets.append(tweet)\n",
    "        except:\n",
    "            continue\n",
    "        if tweet_count <= 0:\n",
    "            break \n",
    "    # Twitter Python Tool wraps the data returned by Twitter \n",
    "    # as a TwitterDictResponse object.\n",
    "    # We convert it back to the JSON format to print/score\n",
    "    # loads converts json format to python dictionary\n",
    "    # dumps converts python dictionary to json format\n",
    "    # The command below will do pretty printing for JSON data, try it out\n",
    "    # print json.dumps(tweet, indent=4)\n",
    "#        with open(tweets_filename, 'w') as outfile:\n",
    "#            json.dump(tweets,outfile,indent=4)\n",
    "\n",
    "#    tweets.update(new_tweets)\n",
    "    tweets.extend(new_tweets)\n",
    "    with open(tweets_filename, 'w') as f:\n",
    "        json.dump(tweets, f)"
   ]
  },
  {
   "cell_type": "code",
   "execution_count": 8,
   "metadata": {
    "collapsed": false
   },
   "outputs": [
    {
     "name": "stdout",
     "output_type": "stream",
     "text": [
      "30000\n"
     ]
    }
   ],
   "source": [
    "print(len(tweets))"
   ]
  },
  {
   "cell_type": "code",
   "execution_count": null,
   "metadata": {
    "collapsed": true
   },
   "outputs": [],
   "source": []
  }
 ],
 "metadata": {
  "kernelspec": {
   "display_name": "Python [anaconda3]",
   "language": "python",
   "name": "Python [anaconda3]"
  },
  "language_info": {
   "codemirror_mode": {
    "name": "ipython",
    "version": 3
   },
   "file_extension": ".py",
   "mimetype": "text/x-python",
   "name": "python",
   "nbconvert_exporter": "python",
   "pygments_lexer": "ipython3",
   "version": "3.5.2"
  }
 },
 "nbformat": 4,
 "nbformat_minor": 2
}

{
 "cells": [
  {
   "cell_type": "markdown",
   "metadata": {},
   "source": [
    "# Introduction\n",
    "The goal of this project is to use twitter streaming API to collect text data, and perform Natural Language Processing (NLP) for sentiment analysis, and do a statistical analysis to see if a tweet in reply to different gender / affiliation, to see if the result shows statistically meaningful difference in terms of aggression / insult. The degree of \"aggression/ insult\" in a text are modeled based on https://arxiv.org/ftp/arxiv/papers/1604/1604.06648.pdf\n",
    "https://arxiv.org/pdf/1604.06650.pdf\n",
    "https://arxiv.org/pdf/1702.06877.pdf\n",
    "and references therein.\n",
    "As a pilot survey, we only include 50 significant figures on twitter according to wikipedia (whose gender is known). Accounts for groups / organizations are hand-picked and removed. We only collect tweets that have replies. \n",
    "\n",
    "# Data\n",
    "Uses of twitter APIata collecting and preprocessing step reference:\n",
    "https://marcobonzanini.com/2015/03/09/mining-twitter-data-with-python-part-2/\n",
    "\n",
    "## Training data\n",
    "For training purposes, we started by collecting aggressive users on twitter and their tweets, provided by Despoina Chatzakou (Mean Birds): https://arxiv.org/pdf/1702.06877.pdf\n",
    "However many of the tweets are unaccessible due to user suspension / authorization issues.\n",
    "http://www.yichang-cs.com/yahoo/WWW16_Abusivedetection.pdf and dataset provided therein (e.g. Kaggle challenge) provides insulting comments with verification set.\n",
    "The list of Google-banned bad words are obtained via https://www.freewebheaders.com/full-list-of-bad-words-banned-by-google/\n",
    "We also apply GloVe and see how the result appears.\n",
    "## Test data\n",
    "Using Twitter streaming API, we collect tweets in reply to top 50 most followed users on twitter according to Wikipedia. The size of the dataset is 10k tweets to start with. \n",
    "\n",
    "# Processing tweets\n",
    "We perform standard pre-processing of the tweeter text data, which involves:\n",
    "tokenize, removing stop words, twitter-specific features (e.g. RT, @, ...).\n",
    "\n",
    "# Analysis\n",
    "We test various sentiment analysis here. We use Vader as a starter, to assess the performance of a typical and easy-to-use sentiment analyzer on our training / verification data. We then test various widely used word embedding and algorithm to assess the performance of themover Vader. Finally we apply the algorithm to collected tweets, visualize and understand the result.\n",
    "\n",
    "## Word embedding\n",
    "### TfidfVectorizer\n",
    "CountVectorizer (simple token count)-> TfidfTransformer. Probably more suitable for a large corpus with consistent context.\n",
    "### GloVe\n",
    "pre-trained unsupervised word clustering / vetorization of words provided by Stanford group.\n",
    "\n",
    "## Classification\n",
    "### Vader \n",
    "Pre-trained positive / negtaive sentiment analyzer. Tweets can be classifies with the intensity of the sentiment. \n",
    "### RNN\n",
    "RNN is a standard choice for sequence modeling (especially text data). We implemented RNN using Keras."
   ]
  },
  {
   "cell_type": "code",
   "execution_count": 1,
   "metadata": {
    "collapsed": true
   },
   "outputs": [],
   "source": [
    "# TIP: Install a pip package in the current Jupyter kernel\n",
    "#import sys\n",
    "#!{sys.executable} -m pip install numpy"
   ]
  },
  {
   "cell_type": "code",
   "execution_count": 2,
   "metadata": {
    "collapsed": false
   },
   "outputs": [],
   "source": [
    "try:\n",
    "    import json\n",
    "except ImportError:\n",
    "    import simplejson as json\n",
    "\n",
    "# Import the necessary methods from \"twitter\" library\n",
    "# from twitter import Twitter, OAuth, TwitterHTTPError, TwitterStream"
   ]
  },
  {
   "cell_type": "code",
   "execution_count": 129,
   "metadata": {
    "collapsed": false
   },
   "outputs": [],
   "source": [
    "import pandas as pd\n",
    "user_info = pd.read_csv('user_info.csv')\n",
    "# hand-put gender to the user_info: F, M, G (group)"
   ]
  },
  {
   "cell_type": "code",
   "execution_count": 130,
   "metadata": {
    "collapsed": false
   },
   "outputs": [],
   "source": [
    "# hand-put gender to the user_info: Female, Male, Group (an organization or platform, or multiple people)\n",
    "a = 'FMMFFFFMGMGFFFFFGMFMMFMMFGMFGMMGGMMGMMMGMMMFMMGFGM'\n",
    "g = list(a)\n",
    "g = pd.Series(g)\n",
    "user_info = user_info.assign(gender= g.values)"
   ]
  },
  {
   "cell_type": "code",
   "execution_count": 229,
   "metadata": {
    "collapsed": false
   },
   "outputs": [
    {
     "name": "stdout",
     "output_type": "stream",
     "text": [
      "   Unnamed: 0               activity country  followers   user_id  \\\n",
      "0           0               Musician     USA        110  21447363   \n",
      "1           1               Musician     CAN        107  27260086   \n",
      "2           2  Former U.S. President     USA        103    813286   \n",
      "3           3               Musician     BAR         89  79293791   \n",
      "4           4               Musician     USA         86  17919972   \n",
      "\n",
      "       user_name gender  \n",
      "0      katyperry      F  \n",
      "1   justinbieber      M  \n",
      "2    BarackObama      M  \n",
      "3        rihanna      F  \n",
      "4  taylorswift13      F  \n"
     ]
    }
   ],
   "source": [
    "print(user_info.head(5))"
   ]
  },
  {
   "cell_type": "code",
   "execution_count": 161,
   "metadata": {
    "collapsed": true
   },
   "outputs": [],
   "source": [
    "# estimate the activity level of each users and include it to the user_info dataframe\n",
    "# collecting tweets are again, done using Collect_tweetw_50mostpop_users.ipynb\n",
    "past_filename = 'past_100_tweets.json'\n",
    "with open(past_filename) as f:\n",
    "    pasts = json.load(f)"
   ]
  },
  {
   "cell_type": "code",
   "execution_count": 196,
   "metadata": {
    "collapsed": false
   },
   "outputs": [],
   "source": [
    "from datetime import datetime\n",
    "import re\n",
    "unformatted = \"Thu Oct 20 02:40:55 +0000 2016\"\n",
    "\n",
    "def convert_time(twitter_time):\n",
    "# Use re to get rid of the milliseconds.\n",
    "    remove_ms = lambda x:re.sub(\"\\+\\d+\\s\",\"\",x)\n",
    "# Make the string into a datetime object.\n",
    "    mk_dt = lambda x:datetime.strptime(remove_ms(x), \"%a %b %d %H:%M:%S %Y\")\n",
    "# Format your datetime object.\n",
    "#    my_form = lambda x:\"{:%Y%m%d}\".format(mk_dt(x))\n",
    "    return mk_dt(twitter_time)"
   ]
  },
  {
   "cell_type": "code",
   "execution_count": 232,
   "metadata": {
    "collapsed": false
   },
   "outputs": [
    {
     "data": {
      "text/plain": [
       "<matplotlib.text.Text at 0x7f97f822ff60>"
      ]
     },
     "execution_count": 232,
     "metadata": {},
     "output_type": "execute_result"
    },
    {
     "data": {
      "image/png": "[encoded data removed]",
      "text/plain": [
       "<matplotlib.figure.Figure at 0x7f97f82af0b8>"
      ]
     },
     "metadata": {},
     "output_type": "display_data"
    }
   ],
   "source": [
    "u = 15\n",
    "test = [convert_time(pasts[u][i]['created_at']) for i in range(50)]\n",
    "test = test[::-1]\n",
    "plt.hist(test,bins=5)\n",
    "plt.ylabel(\"number of tweets\")\n",
    "plt.title(\"User %d\"%(u))"
   ]
  },
  {
   "cell_type": "markdown",
   "metadata": {},
   "source": [
    "## poisson distribution and 95% confidence interval\n",
    "http://ms.mcmaster.ca/peter/s743/poissonalpha.html"
   ]
  },
  {
   "cell_type": "markdown",
   "metadata": {},
   "source": [
    "# Modeling activity of the user\n",
    "We model the activity of each user at the current time interval (where the streaming data was collected) using Poisson distribution to test whether the user is particularly more / less active in the given time bin. We estimate l as the average number of tweets per bin, and k to be the number of tweets in the bin where streaming data is collected. The probability of obtaining k tweets when average is l is then:\n",
    "\n",
    "p(k) = exp(-l)l^k/(k!)."
   ]
  },
  {
   "cell_type": "code",
   "execution_count": 137,
   "metadata": {
    "collapsed": false
   },
   "outputs": [
    {
     "name": "stdout",
     "output_type": "stream",
     "text": [
      "files exists\n"
     ]
    }
   ],
   "source": [
    "tweets_filename = 'twitter_savereplies_nsamp10000.json'\n",
    "tweets_filename2 = 'twitter_savereplies_nsamp20000.json'\n",
    "tweets_filename3 = 'twitter_savereplies_nsamp30000.json'\n",
    "tweets_filename4 = 'twitter_savereplies_nsamp40000.json'\n",
    "\n",
    "import os.path\n",
    "# save to json file\n",
    "tweet_count = 100\n",
    "tweet_cnt = tweet_count\n",
    "try:\n",
    "    os.path.isfile(tweets_filename)\n",
    "    os.path.isfile(tweets_filename2)\n",
    "    print(\"files exists\")\n",
    "    with open(tweets_filename, 'r') as f:\n",
    "        tweets = json.load(f) # readline only the first tweet/line\n",
    "    with open(tweets_filename2, 'r') as f:\n",
    "        tweets2 = json.load(f) # readline only the first tweet/line\n",
    "    with open(tweets_filename3, 'r') as f:\n",
    "        tweets3 = json.load(f) # readline only the first tweet/line\n",
    "    with open(tweets_filename4, 'r') as f:\n",
    "        tweets4 = json.load(f) # readline only the first tweet/line\n",
    "    pass\n",
    "except:\n",
    "    print(\"file does not exist, stream twitter for collecting tweets\")\n",
    "    tweets = []\n",
    "    for tweet in iterator:\n",
    "    # select only \"replies\" to top 50 followed users\n",
    "        if str(tweet['in_reply_to_user_id']) in user_id:\n",
    "        #print(tweet['in_reply_to_user_id'])\n",
    "            tweet_count -= 1\n",
    "            tweets.append(tweet)\n",
    "    # Twitter Python Tool wraps the data returned by Twitter \n",
    "    # as a TwitterDictResponse object.\n",
    "    # We convert it back to the JSON format to print/score\n",
    "    # loads converts json format to python dictionary\n",
    "    # dumps converts python dictionary to json format\n",
    "    # The command below will do pretty printing for JSON data, try it out\n",
    "    # print json.dumps(tweet, indent=4)\n",
    "            if tweet_count <= 0:\n",
    "                break     \n",
    "    with open(tweets_filename, 'w') as outfile:\n",
    "        json.dump(tweets,outfile,indent=4)\n",
    "text = []\n",
    "for i0 in range(tweet_cnt):\n",
    "    text.append(tweets[i0]['text'])"
   ]
  },
  {
   "cell_type": "code",
   "execution_count": 5,
   "metadata": {
    "collapsed": false
   },
   "outputs": [],
   "source": [
    "# feature extractor function\n",
    "def bag_of_words(tweet):\n",
    "    words = clean_tweets(tweet)\n",
    "    words_dictionary = dict([word, True] for word in words)    \n",
    "    return words_dictionary"
   ]
  },
  {
   "cell_type": "markdown",
   "metadata": {},
   "source": [
    "# External dataset\n",
    "We use external data (corpus with sentiment labels) to train the network, from i) Kaggle challenge, ii) banned words by Google (not a official list, obtained from https://www.freewebheaders.com/full-list-of-bad-words-banned-by-google/), and iii) Mean Birds: https://arxiv.org/pdf/1702.06877.pdf and private communication with the first author (Despoina Chatzakou)."
   ]
  },
  {
   "cell_type": "code",
   "execution_count": 6,
   "metadata": {
    "collapsed": false
   },
   "outputs": [],
   "source": [
    "banwords_file = './Google_BanWords/full-list-of-bad-words-text-file_2018_03_26.txt'\n",
    "insult_corpus_file = './kaggle_insult/train.csv'\n",
    "insult_train = pd.read_csv(insult_corpus_file)\n",
    "banwords = pd.read_csv(banwords_file,sep='\\r\\n',engine='python',names = ['banword'])"
   ]
  },
  {
   "cell_type": "code",
   "execution_count": 7,
   "metadata": {
    "collapsed": false
   },
   "outputs": [
    {
     "name": "stdout",
     "output_type": "stream",
     "text": [
      "\"You fuck your dad.\"\n",
      "2898\n"
     ]
    }
   ],
   "source": [
    "insult = insult_train.loc[insult_train['Insult']==1]\n",
    "normal = insult_train.loc[insult_train['Insult']==0]\n",
    "print((insult['Comment'][0]))\n",
    "print(len(normal))"
   ]
  },
  {
   "cell_type": "code",
   "execution_count": 8,
   "metadata": {
    "collapsed": false,
    "scrolled": true
   },
   "outputs": [],
   "source": [
    "import numpy as np\n",
    "training_file = './dataset/data'\n",
    "training_data = pd.read_csv(training_file,delim_whitespace=True,names=['user','category','tweet_id'])\n",
    "ID = []\n",
    "for i in range(len(training_data)):\n",
    "    ID.append(training_data['tweet_id'][i].split(\",\"))\n",
    "#print(training_data)\n",
    "# category is divided into four: aggressor, bully, normal and spammer\n",
    "# each up to (43, 101, 883, 1303) id indices and 5-10 tweets.\n",
    "# It can take long time to collect these tweets, so I save them as json files with their indices provided in the dataset."
   ]
  },
  {
   "cell_type": "code",
   "execution_count": 9,
   "metadata": {
    "collapsed": true
   },
   "outputs": [],
   "source": [
    "# saved aggressive / bullying tweets for later runs\n",
    "agg_filename = 'agg_tweets.json'\n",
    "bull_filename= 'bull_tweets.json'\n",
    "norm_filename = 'norm_tweets.json' "
   ]
  },
  {
   "cell_type": "code",
   "execution_count": 10,
   "metadata": {
    "collapsed": false,
    "scrolled": true
   },
   "outputs": [
    {
     "name": "stdout",
     "output_type": "stream",
     "text": [
      "agg_file exist: read and pass\n"
     ]
    }
   ],
   "source": [
    "#t.statuses.oembed(_id=672282716436467714)\n",
    "try:\n",
    "    os.path.isfile(agg_filename)\n",
    "    with open(agg_filename, 'r') as f:\n",
    "        agg_tweets = json.load(f) # readline only the first tweet/line\n",
    "    print(\"agg_file exist: read and pass\")\n",
    "    pass\n",
    "except:\n",
    "    print(\"agg_file does not exist: collect tweets from twitter database\")\n",
    "    agg_tweets = []\n",
    "    agg_index = []\n",
    "    ID_idx = [len(x) for x in ID]\n",
    "    for i in range(0,43):\n",
    "        for j in range(ID_idx[i]):\n",
    "            try:\n",
    "                agg_tweets.append(t.statuses.show(_id=ID[i][j]))\n",
    "                agg_index.append(i)\n",
    "                print(i,j)\n",
    "            except:\n",
    "                pass\n",
    "    with open(agg_filename, 'w') as outfile:\n",
    "        json.dump(agg_tweets,outfile,indent=4)\n",
    "    with open('agg_tweets_idx.txt','w') as outfile:\n",
    "        json.dump(agg_index,outfile)\n",
    "    print(\"aggressive tweets collected and saved\")"
   ]
  },
  {
   "cell_type": "code",
   "execution_count": 11,
   "metadata": {
    "collapsed": false,
    "scrolled": true
   },
   "outputs": [
    {
     "name": "stdout",
     "output_type": "stream",
     "text": [
      "bull_file exist: read and pass\n"
     ]
    }
   ],
   "source": [
    "#t.statuses.oembed(_id=672282716436467714)\n",
    "try:\n",
    "    os.path.isfile(bull_filename)\n",
    "    with open(bull_filename, 'r') as f:\n",
    "        bull_tweets = json.load(f) # readline only the first tweet/line\n",
    "    print(\"bull_file exist: read and pass\")\n",
    "    pass\n",
    "except:\n",
    "    print(\"bull_file does not exist: collect tweets from twitter database\")\n",
    "    ID_idx = [len(x) for x in ID]\n",
    "    bull_tweets = []\n",
    "    bull_index = []\n",
    "    for i in range(43,101):\n",
    "        for j in range(ID_idx[i]):\n",
    "            try:\n",
    "                bull_tweets.append(t.statuses.show(_id=ID[i][j]))\n",
    "                bull_index.append(i)\n",
    "                print(i,j)\n",
    "            except:\n",
    "                pass\n",
    "    with open(bull_filename, 'w') as outfile:\n",
    "        json.dump(bull_tweets,outfile,indent=4)\n",
    "    with open('bull_tweets_idx.txt','w') as outfile:\n",
    "        json.dump(bull_index,outfile)\n",
    "    print(\"bully tweets collected and saved\")"
   ]
  },
  {
   "cell_type": "code",
   "execution_count": 12,
   "metadata": {
    "collapsed": false,
    "scrolled": true
   },
   "outputs": [
    {
     "name": "stdout",
     "output_type": "stream",
     "text": [
      "norm_file exist: read and pass\n"
     ]
    }
   ],
   "source": [
    "#t.statuses.oembed(_id=672282716436467714)\n",
    "try:\n",
    "    os.path.isfile(norm_filename)\n",
    "    with open(norm_filename, 'r') as f:\n",
    "        norm_tweets = json.load(f) # readline only the first tweet/line\n",
    "    print(\"norm_file exist: read and pass\")\n",
    "    pass\n",
    "except:\n",
    "    print(\"norm_file does not exist: collect tweets from twitter database\")\n",
    "    norm_tweets = []\n",
    "    norm_index = []\n",
    "    ID_idx = [len(x) for x in ID]\n",
    "    for i in range(101,883):\n",
    "        for j in range(ID_idx[i]):\n",
    "            try:\n",
    "                norm_tweets.append(t.statuses.show(_id=ID[i][j]))\n",
    "                norm_index.append(i)\n",
    "                print(i,j)\n",
    "            except:\n",
    "                pass\n",
    "    with open(norm_filename, 'w') as outfile:\n",
    "        json.dump(norm_tweets,outfile,indent=4)\n",
    "    with open('norm_tweets_idx.txt','w') as outfile:\n",
    "        json.dump(norm_index,outfile)\n",
    "    print(\"normal tweets collected and saved\")"
   ]
  },
  {
   "cell_type": "code",
   "execution_count": 13,
   "metadata": {
    "collapsed": false
   },
   "outputs": [],
   "source": [
    "norm_tweets_text = [norm_tweets[i]['text'] for i in range(len(norm_tweets))]\n",
    "# tweets from aggressive + bullying users currently available are about 100... :x"
   ]
  },
  {
   "cell_type": "code",
   "execution_count": 14,
   "metadata": {
    "collapsed": true
   },
   "outputs": [],
   "source": [
    "# tweeter seems to have worked well and suspended most of the accounts the authors classified as aggressors / bullies,\n",
    "# which is unfortunate for our purpose but we will proceed with the currently available data...?"
   ]
  },
  {
   "cell_type": "markdown",
   "metadata": {},
   "source": [
    "# Processing the text\n",
    "Using nltk, we pre-process the text here. Tokenized words will be feed into multiple classifier to determine the degree of aggression in the text. We compare their performances and decide which algorithm to use."
   ]
  },
  {
   "cell_type": "code",
   "execution_count": 15,
   "metadata": {
    "collapsed": false
   },
   "outputs": [],
   "source": [
    "import nltk\n",
    "from nltk.tokenize import word_tokenize\n",
    "from nltk.tokenize import TweetTokenizer\n",
    "tweet_tokenizer = TweetTokenizer(preserve_case=False, strip_handles=True, reduce_len=False)"
   ]
  },
  {
   "cell_type": "code",
   "execution_count": 16,
   "metadata": {
    "collapsed": true
   },
   "outputs": [],
   "source": [
    "\n",
    " \n",
    "emoticons_str = r\"\"\"\n",
    "    (?:\n",
    "        [:=;] # Eyes\n",
    "        [oO\\-]? # Nose (optional)\n",
    "        [D\\)\\]\\(\\]/\\\\OpP] # Mouth\n",
    "    )\"\"\"\n",
    " \n",
    "regex_str = [\n",
    "    emoticons_str,\n",
    "    r'<[^>]+>', # HTML tags\n",
    "    r'(?:@[\\w_]+)', # @-mentions\n",
    "    r\"(?:\\#+[\\w_]+[\\w\\'_\\-]*[\\w_]+)\", # hash-tags\n",
    "    r'http[s]?://(?:[a-z]|[0-9]|[$-_@.&amp;+]|[!*\\(\\),]|(?:%[0-9a-f][0-9a-f]))+', # URLs\n",
    " \n",
    "    r'(?:(?:\\d+,?)+(?:\\.?\\d+)?)', # numbers\n",
    "    r\"(?:[a-z][a-z'\\-_]+[a-z])\", # words with - and '\n",
    "    r'(?:[\\w_]+)', # other words\n",
    "    r'(?:\\S)' # anything else\n",
    "]\n",
    "    \n",
    "tokens_re = re.compile(r'('+'|'.join(regex_str)+')', re.VERBOSE | re.IGNORECASE)\n",
    "emoticon_re = re.compile(r'^'+emoticons_str+'$', re.VERBOSE | re.IGNORECASE)"
   ]
  },
  {
   "cell_type": "code",
   "execution_count": 17,
   "metadata": {
    "collapsed": false
   },
   "outputs": [],
   "source": [
    "import string\n",
    " \n",
    "from nltk.corpus import stopwords \n",
    "stopwords_english = stopwords.words('english')\n",
    " \n",
    "from nltk.stem import PorterStemmer, WordNetLemmatizer\n",
    "stemmer = PorterStemmer()\n",
    "wnl = WordNetLemmatizer()\n",
    "\n",
    "from nltk.tokenize import TweetTokenizer\n",
    " \n",
    "# Happy Emoticons\n",
    "emoticons_happy = set([\n",
    "    ':-)', ':)', ';)', ':o)', ':]', ':3', ':c)', ':>', '=]', '8)', '=)', ':}',\n",
    "    ':^)', ':-D', ':D', '8-D', '8D', 'x-D', 'xD', 'X-D', 'XD', '=-D', '=D',\n",
    "    '=-3', '=3', ':-))', \":'-)\", \":')\", ':*', ':^*', '>:P', ':-P', ':P', 'X-P',\n",
    "    'x-p', 'xp', 'XP', ':-p', ':p', '=p', ':-b', ':b', '>:)', '>;)', '>:-)',\n",
    "    '<3'\n",
    "    ])\n",
    " \n",
    "# Sad Emoticons\n",
    "emoticons_sad = set([\n",
    "    ':L', ':-/', '>:/', ':S', '>:[', ':@', ':-(', ':[', ':-||', '=L', ':<',\n",
    "    ':-[', ':-<', '=\\\\', '=/', '>:(', ':(', '>.<', \":'-(\", \":'(\", ':\\\\', ':-c',\n",
    "    ':c', ':{', '>:\\\\', ';('\n",
    "    ])\n",
    " \n",
    "# all emoticons (happy + sad)\n",
    "emoticons = emoticons_happy.union(emoticons_sad)\n",
    " \n",
    "def clean_tweets(tweet):\n",
    "    # remove stock market tickers like $GE\n",
    "    tweet = re.sub(r'\\$\\w*', '', tweet)\n",
    "    # remove old style retweet text \"RT\"\n",
    "    tweet = re.sub(r'^RT[\\s]+', '', tweet)\n",
    "    # remove hyperlinks\n",
    "    tweet = re.sub(r'https?:\\/\\/.*[\\r\\n]*', '', tweet)\n",
    "    # remove hashtags\n",
    "    # only removing the hash # sign from the word\n",
    "    tweet = re.sub(r'#', '', tweet)    \n",
    "    # remove abbreviation marks?\n",
    "    tweet = re.sub(r'/[.]{2,}/g','',tweet)\n",
    "    # tokenize tweets\n",
    "    tokenizer = TweetTokenizer(preserve_case=False, strip_handles=True, reduce_len=True)\n",
    "    tweet_tokens = tokenizer.tokenize(tweet)\n",
    " \n",
    "    tweets_clean = []    \n",
    "    for word in tweet_tokens:\n",
    "        if (word not in stopwords_english and # remove stopwords\n",
    "              word not in emoticons and # remove emoticons\n",
    "                word not in string.punctuation): # remove punctuation\n",
    "            #tweets_clean.append(word)\n",
    "            #stem_word = stemmer.stem(word) \n",
    "            # stemming word : tend to remove 'e' from ending of some words. replaced by WordNetLemmatizer\n",
    "            wnl_word = wnl.lemmatize(word)\n",
    "            #tweets_clean.append(stem_word)\n",
    "            tweets_clean.append(wnl_word)\n",
    " \n",
    "    return tweets_clean"
   ]
  },
  {
   "cell_type": "code",
   "execution_count": 18,
   "metadata": {
    "collapsed": true
   },
   "outputs": [],
   "source": [
    "def tokenize(tweet):\n",
    "    tweet = re.sub(r'http\\S+', '', tweet)\n",
    "    tweet = re.sub(r\"#(\\w+)\", '', tweet)\n",
    "    tweet = re.sub(r\"@(\\w+)\", '', tweet)\n",
    "    tweet = re.sub(r'[^\\w\\s]', '', tweet)\n",
    "    tweet = tweet.strip().lower()\n",
    "    tokens = word_tokenize(tweet)\n",
    "    return tokens"
   ]
  },
  {
   "cell_type": "code",
   "execution_count": 19,
   "metadata": {
    "collapsed": true
   },
   "outputs": [],
   "source": [
    "def preprocess(s, lowercase=False):\n",
    "    tokens = tokenize(s)\n",
    "    if lowercase:\n",
    "        tokens = [token if emoticon_re.search(token) else token.lower() for token in tokens]\n",
    "    return tokens"
   ]
  },
  {
   "cell_type": "code",
   "execution_count": 20,
   "metadata": {
    "collapsed": false
   },
   "outputs": [
    {
     "name": "stdout",
     "output_type": "stream",
     "text": [
      "['let', 'a', 'mexican', 'replace', 'you', 'not', 'italian', 'as', 'it', 'was', 'supposed', 'as', 'next', 'potus', 'they', 'are', 'too', 'violent', 'i']\n",
      "['let', 'mexican', 'replace', 'italian', 'supposed', 'next', 'potus', 'violent', '…']\n"
     ]
    }
   ],
   "source": [
    "print(preprocess(text[50]))\n",
    "print(clean_tweets(text[50]))"
   ]
  },
  {
   "cell_type": "code",
   "execution_count": 21,
   "metadata": {
    "collapsed": false,
    "scrolled": true
   },
   "outputs": [
    {
     "name": "stdout",
     "output_type": "stream",
     "text": [
      "   id  Insult             Date  \\\n",
      "0   1       0  20120603163526Z   \n",
      "1   2       1  20120531215447Z   \n",
      "2   3       1  20120823164228Z   \n",
      "3   4       1  20120826010752Z   \n",
      "4   5       1  20120602223825Z   \n",
      "\n",
      "                                             Comment        Usage  \n",
      "0                 \"like this if you are a tribe fan\"  PrivateTest  \n",
      "1              \"you're idiot.......................\"  PrivateTest  \n",
      "2  \"I am a woman Babs, and the only \"war on women...  PrivateTest  \n",
      "3  \"WOW & YOU BENEFITTED SO MANY WINS THIS YEAR F...  PrivateTest  \n",
      "4  \"haha green me red you now loser whos winning ...  PrivateTest  \n"
     ]
    }
   ],
   "source": [
    "# let's import verification data from the Kaggle challenge\n",
    "ver_file = './kaggle_insult/impermium_verification_labels.csv'\n",
    "ver_data = pd.read_csv(ver_file)\n",
    "print(ver_data.head(5))\n",
    "\n",
    "insult = ver_data.loc[ver_data['Insult']==1]\n",
    "normal = ver_data.loc[ver_data['Insult']==0]\n",
    "\n",
    "insult_ver_set = []\n",
    "for tweet in insult['Comment']:\n",
    "    insult_ver_set.append((bag_of_words(tweet), 'ins'))\n",
    "    \n",
    "norm_ver_set = []\n",
    "for tweet in normal['Comment']:\n",
    "    norm_ver_set.append((bag_of_words(tweet), 'norm'))\n",
    "    \n",
    "train_x = insult_train['Comment'][:]\n",
    "train_y = insult_train['Insult'][:]\n",
    "ver_x = ver_data['Comment'][:]\n",
    "ver_y = ver_data['Insult'][:]"
   ]
  },
  {
   "cell_type": "code",
   "execution_count": 22,
   "metadata": {
    "collapsed": false
   },
   "outputs": [
    {
     "name": "stderr",
     "output_type": "stream",
     "text": [
      "Using TensorFlow backend.\n"
     ]
    }
   ],
   "source": [
    "from keras.preprocessing.text import Tokenizer\n",
    "from keras.preprocessing.text import text_to_word_sequence\n",
    "from keras.preprocessing.sequence import pad_sequences\n",
    "\n",
    "from keras.models import Model\n",
    "from keras.models import Sequential\n",
    "\n",
    "from keras.layers import Input, Dense, Embedding, Conv1D, Conv2D, MaxPooling1D, MaxPool2D\n",
    "from keras.layers import Reshape, Flatten, Dropout, Concatenate\n",
    "from keras.layers import SpatialDropout1D, concatenate\n",
    "from keras.layers import GRU, Bidirectional, GlobalAveragePooling1D, GlobalMaxPooling1D\n",
    "\n",
    "from keras.callbacks import Callback\n",
    "from keras.optimizers import Adam\n",
    "\n",
    "from keras.callbacks import ModelCheckpoint, EarlyStopping\n",
    "from keras.models import load_model\n",
    "from keras.utils.vis_utils import plot_model"
   ]
  },
  {
   "cell_type": "code",
   "execution_count": 23,
   "metadata": {
    "collapsed": false
   },
   "outputs": [],
   "source": [
    "def get_coefs(word, *arr):\n",
    "    try:\n",
    "        return word, np.asarray(arr, dtype='float32')\n",
    "    except:\n",
    "        return None, None\n",
    "    \n",
    "embeddings_index = dict(get_coefs(*o.strip().split()) for o in open('../GloVe/glove.twitter.27B.200d.txt'))\n",
    "\n",
    "embed_size=200\n",
    "for k in list(embeddings_index.keys()):\n",
    "    v = embeddings_index[k]\n",
    "    try:\n",
    "        if v.shape != (embed_size, ):\n",
    "            embeddings_index.pop(k)\n",
    "    except:\n",
    "        pass\n",
    "            \n",
    "#embeddings_index.pop(None)  "
   ]
  },
  {
   "cell_type": "code",
   "execution_count": 24,
   "metadata": {
    "collapsed": false
   },
   "outputs": [],
   "source": [
    "values = list(embeddings_index.values())\n",
    "all_embs = np.stack(values)\n",
    "\n",
    "emb_mean, emb_std = all_embs.mean(), all_embs.std()"
   ]
  },
  {
   "cell_type": "code",
   "execution_count": 25,
   "metadata": {
    "collapsed": true
   },
   "outputs": [],
   "source": [
    "# we try uni-/bigram (word / character) approach here following \n",
    "# https://ahmedbesbes.com/overview-and-benchmark-of-traditional-and-deep-learning-models-in-text-classification.html\n",
    "from sklearn.model_selection import train_test_split\n",
    "from sklearn.feature_extraction.text import TfidfVectorizer\n",
    "from sklearn.linear_model import LogisticRegression\n",
    "from sklearn.metrics import accuracy_score, auc, roc_auc_score\n",
    "from sklearn.externals import joblib\n",
    "\n",
    "import scipy\n",
    "from scipy.sparse import hstack"
   ]
  },
  {
   "cell_type": "code",
   "execution_count": 26,
   "metadata": {
    "collapsed": false
   },
   "outputs": [],
   "source": [
    "# Try TFIDF \n",
    "vectorizer_word = TfidfVectorizer(max_features=40000,\n",
    "                             min_df=5, \n",
    "                             max_df=0.5, \n",
    "                             analyzer='word', \n",
    "                             stop_words='english', \n",
    "                             ngram_range=(1, 2))\n",
    "\n",
    "vectorizer_word.fit(train_x)\n",
    "\n",
    "tfidf_matrix_word_train = vectorizer_word.transform(train_x)\n",
    "tfidf_matrix_word_test = vectorizer_word.transform(ver_x)"
   ]
  },
  {
   "cell_type": "code",
   "execution_count": 27,
   "metadata": {
    "collapsed": false
   },
   "outputs": [
    {
     "name": "stdout",
     "output_type": "stream",
     "text": [
      "convergence after 19 epochs took 0 seconds\n"
     ]
    },
    {
     "name": "stderr",
     "output_type": "stream",
     "text": [
      "[Parallel(n_jobs=1)]: Done   1 out of   1 | elapsed:    0.1s remaining:    0.0s\n",
      "[Parallel(n_jobs=1)]: Done   1 out of   1 | elapsed:    0.1s finished\n"
     ]
    },
    {
     "data": {
      "text/plain": [
       "LogisticRegression(C=1.0, class_weight=None, dual=False, fit_intercept=True,\n",
       "          intercept_scaling=1, max_iter=100, multi_class='ovr', n_jobs=1,\n",
       "          penalty='l2', random_state=None, solver='sag', tol=0.0001,\n",
       "          verbose=2, warm_start=False)"
      ]
     },
     "execution_count": 27,
     "metadata": {},
     "output_type": "execute_result"
    }
   ],
   "source": [
    "lr_word = LogisticRegression(solver='sag', verbose=2)\n",
    "lr_word.fit(tfidf_matrix_word_train, train_y)"
   ]
  },
  {
   "cell_type": "code",
   "execution_count": 28,
   "metadata": {
    "collapsed": false
   },
   "outputs": [],
   "source": [
    "joblib.dump(lr_word, 'lr_word_ngram.pkl')\n",
    "\n",
    "y_pred_word = lr_word.predict(tfidf_matrix_word_test)\n",
    "pd.DataFrame(y_pred_word, columns=['y_pred']).to_csv('lr_word_ngram.csv', index=False)"
   ]
  },
  {
   "cell_type": "code",
   "execution_count": 29,
   "metadata": {
    "collapsed": false
   },
   "outputs": [
    {
     "name": "stdout",
     "output_type": "stream",
     "text": [
      "0.656823266219\n"
     ]
    }
   ],
   "source": [
    "y_pred_word = pd.read_csv('lr_word_ngram.csv')\n",
    "print(accuracy_score(ver_y, y_pred_word))"
   ]
  },
  {
   "cell_type": "code",
   "execution_count": 30,
   "metadata": {
    "collapsed": false
   },
   "outputs": [
    {
     "name": "stdout",
     "output_type": "stream",
     "text": [
      "convergence after 17 epochs took 1 seconds\n"
     ]
    },
    {
     "name": "stderr",
     "output_type": "stream",
     "text": [
      "[Parallel(n_jobs=1)]: Done   1 out of   1 | elapsed:    0.6s remaining:    0.0s\n",
      "[Parallel(n_jobs=1)]: Done   1 out of   1 | elapsed:    0.6s finished\n"
     ]
    }
   ],
   "source": [
    "vectorizer_char = TfidfVectorizer(max_features=40000,\n",
    "                             min_df=5, \n",
    "                             max_df=0.5, \n",
    "                             analyzer='char', \n",
    "                             ngram_range=(1, 4))\n",
    "\n",
    "vectorizer_char.fit(train_x);\n",
    "\n",
    "tfidf_matrix_char_train = vectorizer_char.transform(train_x)\n",
    "tfidf_matrix_char_test = vectorizer_char.transform(ver_x)\n",
    "\n",
    "lr_char = LogisticRegression(solver='sag', verbose=2)\n",
    "lr_char.fit(tfidf_matrix_char_train, train_y)\n",
    "\n",
    "y_pred_char = lr_char.predict(tfidf_matrix_char_test)\n",
    "joblib.dump(lr_char, 'lr_char_ngram.pkl')\n",
    "\n",
    "pd.DataFrame(y_pred_char, columns=['y_pred']).to_csv('lr_char_ngram.csv', index=False)"
   ]
  },
  {
   "cell_type": "code",
   "execution_count": 31,
   "metadata": {
    "collapsed": false
   },
   "outputs": [
    {
     "name": "stdout",
     "output_type": "stream",
     "text": [
      "0.663982102908\n"
     ]
    }
   ],
   "source": [
    "y_pred_char = pd.read_csv('lr_char_ngram.csv')\n",
    "print(accuracy_score(ver_y, y_pred_char))"
   ]
  },
  {
   "cell_type": "code",
   "execution_count": 32,
   "metadata": {
    "collapsed": false
   },
   "outputs": [
    {
     "name": "stdout",
     "output_type": "stream",
     "text": [
      "{'good': True, 'morning': True, 'day': True, 'hello': True, 'great': True}\n",
      "2326 4053\n"
     ]
    }
   ],
   "source": [
    " \n",
    "custom_tweet = \"RT @Twitter @chapagain Hello There! Have a great day. :) #good #morning http://chapagain.com.np\"\n",
    "print (bag_of_words(custom_tweet))\n",
    "'''\n",
    "Output:\n",
    " \n",
    "{'great': True, 'good': True, 'morning': True, 'hello': True, 'day': True}\n",
    "'''\n",
    "# insult tweets feature set\n",
    "insult_tweets_set = []\n",
    "for tweet in insult['Comment']:\n",
    "    insult_tweets_set.append((bag_of_words(tweet), 'ins'))    \n",
    "for words in banwords['banword']:\n",
    "    insult_tweets_set.append((bag_of_words(words),'ins'))\n",
    "# normal tweets feature set\n",
    "normal_tweets_set = []\n",
    "for tweet in normal['Comment']:\n",
    "    normal_tweets_set.append((bag_of_words(tweet), 'norm'))\n",
    "for tweet in norm_tweets_text:\n",
    "    normal_tweets_set.append((bag_of_words(tweet), 'norm'))\n",
    "print(len(insult_tweets_set), len(normal_tweets_set))"
   ]
  },
  {
   "cell_type": "code",
   "execution_count": 33,
   "metadata": {
    "collapsed": false
   },
   "outputs": [
    {
     "name": "stdout",
     "output_type": "stream",
     "text": [
      "({\"nwhat's\": True, 'nme': True, 'a-fag-and': True, 'refrigerator': True, 'fart': True, 'hate-faggots': True, 'god': True, 'nrefrigerators': True, 'put': True, 'meat': True, 'n': True, 'difference': True}, 'norm')\n"
     ]
    }
   ],
   "source": [
    "print(normal_tweets_set[1])"
   ]
  },
  {
   "cell_type": "code",
   "execution_count": 34,
   "metadata": {
    "collapsed": false
   },
   "outputs": [
    {
     "name": "stdout",
     "output_type": "stream",
     "text": [
      "2235 6379\n"
     ]
    }
   ],
   "source": [
    "# try n-fold (minibatch) later\n",
    "from random import shuffle, seed\n",
    "seed(10)\n",
    "shuffle(insult_tweets_set)\n",
    "shuffle(normal_tweets_set)\n",
    " \n",
    "#test_set = insult_tweets_set[:1000] + normal_tweets_set[:1000]\n",
    "#train_set = insult_tweets_set[1000:] + normal_tweets_set[1000:]\n",
    "train_set = insult_tweets_set + normal_tweets_set\n",
    "test_set = insult_ver_set + norm_ver_set\n",
    "print(len(test_set),  len(train_set)) # Output: (2000, 8000)"
   ]
  },
  {
   "cell_type": "markdown",
   "metadata": {},
   "source": [
    "# Word embedding: efficient vectorization of words\n",
    "By vectorizing words, we can reduce the sparcity and dimensionality of the feature space. \n",
    "The representation is normally ~ 100-1000 dimension. The basic concept behind it is that words used in\n",
    "similar context have similar meanings.\n",
    "## Embedding layer\n",
    "Using NN for language modeling or document classification. \n",
    "## Word2vec\n",
    "probably not easy with twitter texts as individual tweets are very short and thus predicting word from the surrounding (both for CBoW and Cont. skip-gram) would be hard? : not much freedom in choosing the sliding window size...\n",
    "## GloVe\n",
    "Word2Vec with additional information about the context from the whole corpus. Provides \"Unsupervised\" clustering of vocab, purely based on a large corpus of data. We use pre-trained GloVe vocabulary vector library collected from Twitter data from https://github.com/stanfordnlp/GloVe (2B tweets, 27B tokens, 1.2M vocab, uncased, 25d, 50d, 100d, & 200d vectors, 1.42 GB).\n",
    "\n",
    "Reference : https://machinelearningmastery.com/what-are-word-embeddings/\n",
    "\n",
    "### Vader sentiment analysis (pos,neg)- how useful is it? Let's see!"
   ]
  },
  {
   "cell_type": "code",
   "execution_count": 35,
   "metadata": {
    "collapsed": false
   },
   "outputs": [],
   "source": [
    "from vaderSentiment.vaderSentiment import SentimentIntensityAnalyzer\n",
    "analyser = SentimentIntensityAnalyzer()\n",
    "#AttributeError: 'SentimentIntensityAnalyzer' object has no attribute 'polarity_score'"
   ]
  },
  {
   "cell_type": "code",
   "execution_count": 36,
   "metadata": {
    "collapsed": false
   },
   "outputs": [
    {
     "name": "stderr",
     "output_type": "stream",
     "text": [
      "/home/ijee/anaconda3/lib/python3.5/site-packages/nltk/twitter/__init__.py:20: UserWarning: The twython library has not been installed. Some functionality from the twitter package will not be available.\n",
      "  warnings.warn(\"The twython library has not been installed. \"\n"
     ]
    },
    {
     "name": "stdout",
     "output_type": "stream",
     "text": [
      "0.564531104921077\n",
      "\"You're a crank.\"\n"
     ]
    }
   ],
   "source": [
    "from nltk.sentiment.vader import SentimentIntensityAnalyzer\n",
    "analyser = SentimentIntensityAnalyzer()\n",
    "cnt = 0\n",
    "insult_cmt = insult.reset_index()\n",
    "for i in range(len(insult_cmt)):\n",
    "    snt = analyser.polarity_scores(insult_cmt['Comment'][i])\n",
    "    if snt.get('neg') > snt.get('pos'):\n",
    "        cnt += 1\n",
    "#        print(i,snt)\n",
    "print(cnt/len(insult))\n",
    "print(insult_cmt['Comment'][10])\n",
    "# only about 11% of the ban words are categorized as having negative connotation according to Vader.\n",
    "# only 9% of the insult comments from Kaggle competition are negative if neg > .5 is counted.\n",
    "# (when negative > positive: 63% : this is similar to our NBC result)."
   ]
  },
  {
   "cell_type": "code",
   "execution_count": 37,
   "metadata": {
    "collapsed": false
   },
   "outputs": [
    {
     "name": "stdout",
     "output_type": "stream",
     "text": [
      "!!!NaiveBayesClassifier!!!\n"
     ]
    },
    {
     "name": "stderr",
     "output_type": "stream",
     "text": [
      "/home/ijee/anaconda3/lib/python3.5/site-packages/sklearn/cross_validation.py:44: DeprecationWarning: This module was deprecated in version 0.18 in favor of the model_selection module into which all the refactored classes and functions are moved. Also note that the interface of the new CV iterators are different from that of this module. This module will be removed in 0.20.\n",
      "  \"This module will be removed in 0.20.\", DeprecationWarning)\n"
     ]
    },
    {
     "name": "stdout",
     "output_type": "stream",
     "text": [
      "0.9006711409395973\n",
      "Most Informative Features\n",
      "               direction = True             norm : ins    =     43.4 : 1.0\n",
      "                       � = True              ins : norm   =     33.6 : 1.0\n",
      "                    vote = True             norm : ins    =     33.4 : 1.0\n",
      "                     ang = True             norm : ins    =     30.8 : 1.0\n",
      "                   moron = True              ins : norm   =     29.6 : 1.0\n",
      "                      sa = True             norm : ins    =     27.0 : 1.0\n",
      "                  result = True             norm : ins    =     22.8 : 1.0\n",
      "                      ng = True             norm : ins    =     20.5 : 1.0\n",
      "                   troll = True              ins : norm   =     18.5 : 1.0\n",
      "                   photo = True             norm : ins    =     17.0 : 1.0\n",
      "None\n",
      "!!!MaxEntropyClassifier!!!\n",
      "0.7861297539149888\n",
      "  -0.000 direction==True and label is 'ins'\n",
      "  -0.000 ang==True and label is 'ins'\n",
      "  -0.000 vote==True and label is 'ins'\n",
      "  -0.000 sa==True and label is 'ins'\n",
      "  -0.000 result==True and label is 'ins'\n",
      "  -0.000 ng==True and label is 'ins'\n",
      "  -0.000 photo==True and label is 'ins'\n",
      "  -0.000 thousand==True and label is 'ins'\n",
      "  -0.000 na==True and label is 'ins'\n",
      "  -0.000 quote==True and label is 'ins'\n",
      "None\n",
      "!!!LinearSVM!!!\n",
      "0.9825503355704698\n"
     ]
    }
   ],
   "source": [
    "from nltk import classify\n",
    "import nltk.classify.util, nltk.metrics\n",
    "from nltk.classify import NaiveBayesClassifier, MaxentClassifier, SklearnClassifier, DecisionTreeClassifier\n",
    "from sklearn import cross_validation\n",
    "from sklearn.svm import LinearSVC, SVC\n",
    "import itertools\n",
    "from nltk.collocations import BigramCollocationFinder\n",
    "from nltk.metrics import BigramAssocMeasures\n",
    "\n",
    "print(\"!!!NaiveBayesClassifier!!!\")\n",
    "nbclassifier = NaiveBayesClassifier.train(train_set)\n",
    "accuracy = classify.accuracy(nbclassifier, test_set)\n",
    "print(accuracy) # Output: 0.765\n",
    "print (nbclassifier.show_most_informative_features(10)) \n",
    "\n",
    "print(\"!!!MaxEntropyClassifier!!!\")\n",
    "classifier = MaxentClassifier.train(train_set, 'GIS', trace=0, encoding=None, labels=None, gaussian_prior_sigma=0, max_iter = 1)\n",
    "accuracy = nltk.classify.util.accuracy(classifier, test_set)\n",
    "print(accuracy)\n",
    "print(classifier.show_most_informative_features(10))\n",
    "\n",
    "# SVM takes long to run so we comment out this part. The accuracy was 0.622\n",
    "#print(\"!!!SVM!!!\")\n",
    "#svmclassifier = SklearnClassifier(SVC(kernel='linear',probability=True), sparse=False)\n",
    "#svmclassifier.train(train_set)\n",
    "#accuracy = nltk.classify.util.accuracy(svmclassifier, test_set)\n",
    "#print(accuracy)\n",
    "\n",
    "print(\"!!!LinearSVM!!!\")\n",
    "lsvmclassifier = SklearnClassifier(LinearSVC(), sparse=False)\n",
    "lsvmclassifier.train(train_set)\n",
    "accuracy = nltk.classify.util.accuracy(lsvmclassifier, test_set)\n",
    "print(accuracy)"
   ]
  },
  {
   "cell_type": "code",
   "execution_count": 38,
   "metadata": {
    "collapsed": false
   },
   "outputs": [
    {
     "name": "stdout",
     "output_type": "stream",
     "text": [
      "{'academic': True, 'racism': True, 'racist': True, 'academ': True, '–': True, 'parliament': True, 'town': True, 'uct': True, '...': True, 'university': True, 'mp': True, 'lash': True, 'cape': True}\n",
      "norm\n",
      "norm\n"
     ]
    }
   ],
   "source": [
    "custom_tweet = \"I hated the film. It was a disaster. Poor direction, bad acting.\"\n",
    "custom_tweet_set = bag_of_words(agg_tweets[30]['text'])\n",
    "print(custom_tweet_set)\n",
    "print (lsvmclassifier.classify(custom_tweet_set)) # Output: neg\n",
    "# Negative tweet correctly classified as negative\n",
    "\n",
    "# probability result\n",
    "#prob_result = lsvmclassifier.prob_classify(custom_tweet_set)\n",
    "#print (prob_result) # Output: <ProbDist with 2 samples>\n",
    "#print (prob_result.max()) # Output: neg\n",
    "#print (prob_result.prob(\"ins\")) # Output: 0.941844352481\n",
    "#print (prob_result.prob(\"norm\")) # Output: 0.0581556475194\n",
    " \n",
    " \n",
    "#custom_tweet = \"It was a wonderful and amazing movie. I loved it. Best direction, good acting.\"\n",
    "#custom_tweet_set = bag_of_words(custom_tweet)\n",
    " \n",
    "print (lsvmclassifier.classify(custom_tweet_set)) # Output: pos\n",
    "# Positive tweet correctly classified as positive\n",
    " \n",
    "# probability result\n",
    "#prob_result = svmclassifier.prob_classify(custom_tweet_set)\n",
    "#print (prob_result) # Output: <ProbDist with 2 samples>\n",
    "#print (prob_result.max()) # Output: pos\n",
    "#print (prob_result.prob(\"ins\")) # Output: 0.00131055449755\n",
    "#print (prob_result.prob(\"norm\")) # Output: 0.998689445502"
   ]
  },
  {
   "cell_type": "code",
   "execution_count": 39,
   "metadata": {
    "collapsed": false
   },
   "outputs": [
    {
     "name": "stderr",
     "output_type": "stream",
     "text": [
      "/home/ijee/anaconda3/lib/python3.5/site-packages/ipykernel/__main__.py:4: SettingWithCopyWarning: \n",
      "A value is trying to be set on a copy of a slice from a DataFrame.\n",
      "Try using .loc[row_indexer,col_indexer] = value instead\n",
      "\n",
      "See the caveats in the documentation: http://pandas.pydata.org/pandas-docs/stable/indexing.html#indexing-view-versus-copy\n"
     ]
    },
    {
     "name": "stdout",
     "output_type": "stream",
     "text": [
      "youre a crank\n",
      "[[19, 2, 1642]]\n"
     ]
    },
    {
     "name": "stderr",
     "output_type": "stream",
     "text": [
      "/home/ijee/anaconda3/lib/python3.5/site-packages/ipykernel/__main__.py:5: SettingWithCopyWarning: \n",
      "A value is trying to be set on a copy of a slice from a DataFrame.\n",
      "Try using .loc[row_indexer,col_indexer] = value instead\n",
      "\n",
      "See the caveats in the documentation: http://pandas.pydata.org/pandas-docs/stable/indexing.html#indexing-view-versus-copy\n"
     ]
    }
   ],
   "source": [
    "MAX_NB_WORDS = 80000\n",
    "tokenizer = Tokenizer(num_words=MAX_NB_WORDS,char_level=False)\n",
    "\n",
    "insult['tokens'] = insult.Comment.map(tokenize)\n",
    "insult['cleaned_text'] = insult['tokens'].map(lambda tokens: ' '.join(tokens))\n",
    "print(insult['cleaned_text'][15])\n",
    "tokenizer.fit_on_texts(insult['cleaned_text'])\n",
    "print(tokenizer.texts_to_sequences([insult['cleaned_text'][15]]))"
   ]
  },
  {
   "cell_type": "code",
   "execution_count": 40,
   "metadata": {
    "collapsed": true
   },
   "outputs": [],
   "source": [
    "train_sequences = tokenizer.texts_to_sequences(train_x)\n",
    "test_sequences = tokenizer.texts_to_sequences(ver_x)"
   ]
  },
  {
   "cell_type": "code",
   "execution_count": 41,
   "metadata": {
    "collapsed": true
   },
   "outputs": [],
   "source": [
    "MAX_LENGTH = 35\n",
    "\n",
    "padded_train_sequences = pad_sequences(train_sequences, maxlen=MAX_LENGTH)\n",
    "padded_test_sequences = pad_sequences(test_sequences, maxlen=MAX_LENGTH)"
   ]
  },
  {
   "cell_type": "code",
   "execution_count": 42,
   "metadata": {
    "collapsed": false
   },
   "outputs": [
    {
     "name": "stdout",
     "output_type": "stream",
     "text": [
      "945\n",
      "Train on 3947 samples, validate on 2235 samples\n",
      "Epoch 1/20\n",
      "3840/3947 [============================>.] - ETA: 1s - loss: 0.5540 - acc: 0.7331Epoch 00000: val_acc improved from -inf to 0.53244, saving model to ./models/rnn_with_embeddings/weights-improvement-00-0.5324-200.hdf5\n",
      "3947/3947 [==============================] - 56s - loss: 0.5505 - acc: 0.7352 - val_loss: 0.7281 - val_acc: 0.5324\n",
      "Epoch 2/20\n",
      "3840/3947 [============================>.] - ETA: 1s - loss: 0.4221 - acc: 0.8099Epoch 00001: val_acc improved from 0.53244 to 0.69888, saving model to ./models/rnn_with_embeddings/weights-improvement-01-0.6989-200.hdf5\n",
      "3947/3947 [==============================] - 54s - loss: 0.4222 - acc: 0.8092 - val_loss: 0.6162 - val_acc: 0.6989\n",
      "Epoch 3/20\n",
      "3840/3947 [============================>.] - ETA: 1s - loss: 0.3429 - acc: 0.8523Epoch 00002: val_acc improved from 0.69888 to 0.70738, saving model to ./models/rnn_with_embeddings/weights-improvement-02-0.7074-200.hdf5\n",
      "3947/3947 [==============================] - 53s - loss: 0.3424 - acc: 0.8528 - val_loss: 0.6237 - val_acc: 0.7074\n",
      "Epoch 4/20\n",
      "3840/3947 [============================>.] - ETA: 1s - loss: 0.3082 - acc: 0.8693Epoch 00003: val_acc improved from 0.70738 to 0.75302, saving model to ./models/rnn_with_embeddings/weights-improvement-03-0.7530-200.hdf5\n",
      "3947/3947 [==============================] - 51s - loss: 0.3109 - acc: 0.8672 - val_loss: 0.5460 - val_acc: 0.7530\n",
      "Epoch 5/20\n",
      "3840/3947 [============================>.] - ETA: 1s - loss: 0.2936 - acc: 0.8742Epoch 00004: val_acc did not improve\n",
      "3947/3947 [==============================] - 47s - loss: 0.2926 - acc: 0.8751 - val_loss: 0.6990 - val_acc: 0.6984\n",
      "Epoch 6/20\n",
      "3840/3947 [============================>.] - ETA: 1s - loss: 0.2726 - acc: 0.8875Epoch 00005: val_acc did not improve\n",
      "3947/3947 [==============================] - 53s - loss: 0.2759 - acc: 0.8865 - val_loss: 0.6747 - val_acc: 0.7123\n",
      "Epoch 7/20\n",
      "3840/3947 [============================>.] - ETA: 1s - loss: 0.2477 - acc: 0.8953Epoch 00006: val_acc did not improve\n",
      "3947/3947 [==============================] - 52s - loss: 0.2499 - acc: 0.8933 - val_loss: 0.6178 - val_acc: 0.7427\n",
      "Epoch 8/20\n",
      "3840/3947 [============================>.] - ETA: 1s - loss: 0.2249 - acc: 0.9078Epoch 00007: val_acc did not improve\n",
      "3947/3947 [==============================] - 53s - loss: 0.2257 - acc: 0.9075 - val_loss: 0.6132 - val_acc: 0.7459\n",
      "Epoch 9/20\n",
      "3840/3947 [============================>.] - ETA: 1s - loss: 0.2018 - acc: 0.9219Epoch 00008: val_acc did not improve\n",
      "3947/3947 [==============================] - 52s - loss: 0.2046 - acc: 0.9204 - val_loss: 0.7203 - val_acc: 0.7284\n",
      "Epoch 10/20\n",
      "3840/3947 [============================>.] - ETA: 1s - loss: 0.1843 - acc: 0.9224Epoch 00009: val_acc improved from 0.75302 to 0.75302, saving model to ./models/rnn_with_embeddings/weights-improvement-09-0.7530-200.hdf5\n",
      "3947/3947 [==============================] - 55s - loss: 0.1870 - acc: 0.9217 - val_loss: 0.6785 - val_acc: 0.7530\n",
      "Epoch 11/20\n",
      "3840/3947 [============================>.] - ETA: 1s - loss: 0.1634 - acc: 0.9378Epoch 00010: val_acc did not improve\n",
      "3947/3947 [==============================] - 52s - loss: 0.1624 - acc: 0.9382 - val_loss: 0.7663 - val_acc: 0.7418\n",
      "Epoch 12/20\n",
      "3840/3947 [============================>.] - ETA: 1s - loss: 0.1443 - acc: 0.9432Epoch 00011: val_acc did not improve\n",
      "3947/3947 [==============================] - 50s - loss: 0.1474 - acc: 0.9415 - val_loss: 0.8044 - val_acc: 0.7400\n",
      "Epoch 13/20\n",
      "3840/3947 [============================>.] - ETA: 1s - loss: 0.1229 - acc: 0.9547Epoch 00012: val_acc did not improve\n",
      "3947/3947 [==============================] - 50s - loss: 0.1236 - acc: 0.9544 - val_loss: 0.9267 - val_acc: 0.7351\n",
      "Epoch 14/20\n",
      "3840/3947 [============================>.] - ETA: 1s - loss: 0.1060 - acc: 0.9622Epoch 00013: val_acc did not improve\n",
      "3947/3947 [==============================] - 51s - loss: 0.1076 - acc: 0.9617 - val_loss: 0.9560 - val_acc: 0.7418\n",
      "Epoch 15/20\n",
      "3840/3947 [============================>.] - ETA: 1s - loss: 0.1017 - acc: 0.9617Epoch 00014: val_acc did not improve\n",
      "3947/3947 [==============================] - 50s - loss: 0.1013 - acc: 0.9622 - val_loss: 0.9549 - val_acc: 0.7396\n",
      "Epoch 16/20\n",
      "3840/3947 [============================>.] - ETA: 1s - loss: 0.0884 - acc: 0.9682Epoch 00015: val_acc did not improve\n",
      "3947/3947 [==============================] - 51s - loss: 0.0879 - acc: 0.9681 - val_loss: 1.1065 - val_acc: 0.7329\n",
      "Epoch 17/20\n",
      "3840/3947 [============================>.] - ETA: 1s - loss: 0.0754 - acc: 0.9724Epoch 00016: val_acc did not improve\n",
      "3947/3947 [==============================] - 52s - loss: 0.0753 - acc: 0.9726 - val_loss: 1.1246 - val_acc: 0.7311\n",
      "Epoch 18/20\n",
      "3840/3947 [============================>.] - ETA: 1s - loss: 0.0643 - acc: 0.9760Epoch 00017: val_acc did not improve\n",
      "3947/3947 [==============================] - 44s - loss: 0.0660 - acc: 0.9754 - val_loss: 1.2450 - val_acc: 0.7302\n",
      "Epoch 19/20\n",
      "3840/3947 [============================>.] - ETA: 0s - loss: 0.0647 - acc: 0.9758Epoch 00018: val_acc did not improve\n",
      "3947/3947 [==============================] - 27s - loss: 0.0641 - acc: 0.9759 - val_loss: 1.2035 - val_acc: 0.7217\n",
      "Epoch 20/20\n",
      "3840/3947 [============================>.] - ETA: 0s - loss: 0.0448 - acc: 0.9849Epoch 00019: val_acc did not improve\n",
      "3947/3947 [==============================] - 27s - loss: 0.0457 - acc: 0.9843 - val_loss: 1.3872 - val_acc: 0.7217\n"
     ]
    }
   ],
   "source": [
    "\n",
    "word_index = tokenizer.word_index\n",
    "nb_words = MAX_NB_WORDS\n",
    "embedding_matrix = np.random.normal(emb_mean, emb_std, (nb_words, embed_size))\n",
    "\n",
    "oov = 0\n",
    "for word, i in word_index.items():\n",
    "    if i >= MAX_NB_WORDS: continue\n",
    "    embedding_vector = embeddings_index.get(word)\n",
    "    if embedding_vector is not None:\n",
    "        embedding_matrix[i] = embedding_vector\n",
    "    else:\n",
    "        oov += 1\n",
    "\n",
    "print(oov)\n",
    "\n",
    "embedding_dim = 200\n",
    "def get_rnn_model_with_glove_embeddings():\n",
    "    inp = Input(shape=(MAX_LENGTH, ))\n",
    "    x = Embedding(MAX_NB_WORDS, embedding_dim, weights=[embedding_matrix], input_length=MAX_LENGTH, trainable=True)(inp)\n",
    "    x = SpatialDropout1D(0.3)(x)\n",
    "    x = Bidirectional(GRU(100, return_sequences=True))(x)\n",
    "    avg_pool = GlobalAveragePooling1D()(x)\n",
    "    max_pool = GlobalMaxPooling1D()(x)\n",
    "    conc = concatenate([avg_pool, max_pool])\n",
    "    outp = Dense(1, activation=\"sigmoid\")(conc)\n",
    "    \n",
    "    model = Model(inputs=inp, outputs=outp)\n",
    "    model.compile(loss='binary_crossentropy',\n",
    "                  optimizer='adam',\n",
    "                  metrics=['accuracy'])\n",
    "    return model\n",
    "\n",
    "rnn_model_with_embeddings = get_rnn_model_with_glove_embeddings()\n",
    "\n",
    "filepath=\"./models/rnn_with_embeddings/weights-improvement-{epoch:02d}-{val_acc:.4f}-%03d.hdf5\"%(embedding_dim)\n",
    "checkpoint = ModelCheckpoint(filepath, monitor='val_acc', verbose=1, save_best_only=True, mode='max')\n",
    "\n",
    "batch_size = 128\n",
    "epochs = 20\n",
    "\n",
    "\n",
    "history = rnn_model_with_embeddings.fit(x=padded_train_sequences, \n",
    "                    y=train_y, \n",
    "                    validation_data=(padded_test_sequences, ver_y), \n",
    "                    batch_size=batch_size, \n",
    "                    callbacks=[checkpoint], \n",
    "                    epochs=epochs, \n",
    "                    verbose=1)\n"
   ]
  },
  {
   "cell_type": "code",
   "execution_count": 45,
   "metadata": {
    "collapsed": false
   },
   "outputs": [
    {
     "name": "stdout",
     "output_type": "stream",
     "text": [
      "2235/2235 [==============================] - 2s     \n"
     ]
    }
   ],
   "source": [
    "best_rnn_model_with_glove_embeddings = load_model('./models/rnn_with_embeddings/weights-improvement-07-0.7606-200.hdf5')\n",
    "\n",
    "y_pred_rnn_with_glove_embeddings = best_rnn_model_with_glove_embeddings.predict(\n",
    "    padded_test_sequences, verbose=1, batch_size=2048)\n",
    "\n",
    "y_pred_rnn_with_glove_embeddings = pd.DataFrame(y_pred_rnn_with_glove_embeddings, columns=['prediction'])\n",
    "y_pred_rnn_with_glove_embeddings['prediction'] = y_pred_rnn_with_glove_embeddings['prediction'].map(lambda p: \n",
    "                                                                                                    1 if p >= 0.5 else 0)\n",
    "y_pred_rnn_with_glove_embeddings.to_csv('./predictions/y_pred_rnn_with_glove_embeddings.csv', index=False)"
   ]
  },
  {
   "cell_type": "code",
   "execution_count": 46,
   "metadata": {
    "collapsed": false
   },
   "outputs": [
    {
     "name": "stdout",
     "output_type": "stream",
     "text": [
      "0.76062639821\n"
     ]
    }
   ],
   "source": [
    "y_pred_rnn_with_glove_embeddings = pd.read_csv('./predictions/y_pred_rnn_with_glove_embeddings.csv')\n",
    "print(accuracy_score(ver_y, y_pred_rnn_with_glove_embeddings))"
   ]
  },
  {
   "cell_type": "code",
   "execution_count": 139,
   "metadata": {
    "collapsed": false
   },
   "outputs": [],
   "source": [
    "tweets.extend(tweets2)\n",
    "tweets.extend(tweets3)\n",
    "tweets.extend(tweets4)\n",
    "\n",
    "text = [tweets[i]['text'] for i in range(100000)]\n",
    "rep_to = [tweets[i]['in_reply_to_user_id'] for i in range(100000)]\n"
   ]
  },
  {
   "cell_type": "code",
   "execution_count": 140,
   "metadata": {
    "collapsed": false
   },
   "outputs": [
    {
     "name": "stdout",
     "output_type": "stream",
     "text": [
      "100000\n"
     ]
    }
   ],
   "source": [
    "text_sequences = tokenizer.texts_to_sequences(text)\n",
    "print(len(text_sequences))\n",
    "padded_text_sequences = pad_sequences(text_sequences, maxlen=MAX_LENGTH)"
   ]
  },
  {
   "cell_type": "code",
   "execution_count": 141,
   "metadata": {
    "collapsed": false
   },
   "outputs": [
    {
     "name": "stdout",
     "output_type": "stream",
     "text": [
      "100000/100000 [==============================] - 252s   \n"
     ]
    }
   ],
   "source": [
    "best_rnn_model_with_glove_embeddings = load_model('./models/rnn_with_embeddings/weights-improvement-07-0.7606-200.hdf5')\n",
    "\n",
    "y_pred_rnn_with_glove_embeddings = best_rnn_model_with_glove_embeddings.predict(\n",
    "    padded_text_sequences, verbose=1, batch_size=2048)\n",
    "\n",
    "y_pred_rnn_with_glove_embeddings = pd.DataFrame(y_pred_rnn_with_glove_embeddings, columns=['prediction'])\n",
    "y_pred_rnn_with_glove_embeddings['prediction'] = y_pred_rnn_with_glove_embeddings['prediction'].map(lambda p: \n",
    "                                                                                                    1 if p >= 0.5 else 0)\n",
    "y_pred_rnn_with_glove_embeddings.to_csv('./predictions/tweets_rnn_with_glove_embeddings.csv', index=False)"
   ]
  },
  {
   "cell_type": "code",
   "execution_count": 142,
   "metadata": {
    "collapsed": false
   },
   "outputs": [],
   "source": [
    "y_pred_rnn_with_glove_embeddings['user_id'] = rep_to"
   ]
  },
  {
   "cell_type": "code",
   "execution_count": 143,
   "metadata": {
    "collapsed": false
   },
   "outputs": [],
   "source": [
    "data = y_pred_rnn_with_glove_embeddings.join(user_info.set_index('user_id'),on='user_id')"
   ]
  },
  {
   "cell_type": "code",
   "execution_count": 144,
   "metadata": {
    "collapsed": false
   },
   "outputs": [],
   "source": [
    "tweet_set = []\n",
    "for tweet in text:\n",
    "    tweet_set.append(bag_of_words(tweet))"
   ]
  },
  {
   "cell_type": "code",
   "execution_count": 145,
   "metadata": {
    "collapsed": false
   },
   "outputs": [],
   "source": [
    "lsvmdata = lsvmclassifier.classify_many(tweet_set)"
   ]
  },
  {
   "cell_type": "code",
   "execution_count": 146,
   "metadata": {
    "collapsed": false
   },
   "outputs": [],
   "source": [
    "lsvmdata = pd.DataFrame(lsvmdata,columns=['prediction'])\n",
    "lsvmdata['user_id'] = rep_to\n",
    "lsvmdata = lsvmdata.join(user_info.set_index('user_id'),on='user_id')"
   ]
  },
  {
   "cell_type": "markdown",
   "metadata": {},
   "source": [
    "# Playing aroud the data"
   ]
  },
  {
   "cell_type": "code",
   "execution_count": 147,
   "metadata": {
    "collapsed": true
   },
   "outputs": [],
   "source": [
    "import seaborn as sns\n",
    "from matplotlib import pyplot as plt\n",
    "%matplotlib inline"
   ]
  },
  {
   "cell_type": "code",
   "execution_count": 148,
   "metadata": {
    "collapsed": false
   },
   "outputs": [],
   "source": [
    "data = data.rename(index=str, columns={\"Unnamed: 0\": \"follower_rank\"})\n",
    "lsvmdata = lsvmdata.rename(index=str, columns={\"Unnamed: 0\": \"follower_rank\"})"
   ]
  },
  {
   "cell_type": "code",
   "execution_count": 149,
   "metadata": {
    "collapsed": false,
    "scrolled": false
   },
   "outputs": [
    {
     "data": {
      "text/plain": [
       "array(['Musician', 'Current U.S. President', 'News channel', 'Newspaper',\n",
       "       'Actor and producer', 'Social media platform', 'Sports channel',\n",
       "       'Current Prime Minister of India', 'Online video platform',\n",
       "       'Footballer', 'Actor', 'Musician and actress', 'Comedian', 'Rapper',\n",
       "       'Football club', 'Former U.S. President', 'Basketball player',\n",
       "       'Sports news', 'Television personality', 'Musician and actor',\n",
       "       'Comedian and actor', 'Television personality and businesswoman',\n",
       "       'Businessman and philanthropist', 'Band'], dtype=object)"
      ]
     },
     "execution_count": 149,
     "metadata": {},
     "output_type": "execute_result"
    }
   ],
   "source": [
    "data['activity'].unique()"
   ]
  },
  {
   "cell_type": "code",
   "execution_count": 150,
   "metadata": {
    "collapsed": false
   },
   "outputs": [],
   "source": [
    "# Categorizing activity into jobs\n",
    "data.loc[data.activity.apply(lambda x: ('Musician' or 'Rapper' or 'Band') in x), 'job'] = 'artist'\n",
    "data.loc[data.activity.apply(lambda x: ('Comedian' or 'Actor') in x), 'job'] = 'artist'\n",
    "data.loc[data.activity.apply(lambda x: ('President' or 'Minister') in x), 'job'] = 'politician'\n",
    "data.loc[data.activity.apply(lambda x: ('usiness' in x)), 'job'] = 'business'\n",
    "data.loc[data.activity.apply(lambda x: ('platform' in x)), 'job'] = 'platform'\n",
    "data.loc[data.activity.apply(lambda x: ('channel') in x), 'job'] = 'channel'\n",
    "data.loc[data.activity.apply(lambda x: ('ball') in x), 'job'] = 'sports'\n",
    "data.loc[data.activity.apply(lambda x: ('ews') in x), 'job'] = 'news'\n",
    "data.loc[data.activity.apply(lambda x: ('elevision') in x), 'job'] = 'TV'"
   ]
  },
  {
   "cell_type": "code",
   "execution_count": 151,
   "metadata": {
    "collapsed": false
   },
   "outputs": [],
   "source": [
    "# Categorizing activity into jobs\n",
    "lsvmdata.loc[lsvmdata.activity.apply(lambda x: ('Musician' or 'Rapper' or 'Band') in x), 'job'] = 'artist'\n",
    "lsvmdata.loc[lsvmdata.activity.apply(lambda x: ('Comedian' or 'Actor') in x), 'job'] = 'artist'\n",
    "lsvmdata.loc[lsvmdata.activity.apply(lambda x: ('President' or 'Minister') in x), 'job'] = 'politician'\n",
    "lsvmdata.loc[lsvmdata.activity.apply(lambda x: ('usiness' in x)), 'job'] = 'business'\n",
    "lsvmdata.loc[lsvmdata.activity.apply(lambda x: ('platform' in x)), 'job'] = 'platform'\n",
    "lsvmdata.loc[lsvmdata.activity.apply(lambda x: ('channel') in x), 'job'] = 'channel'\n",
    "lsvmdata.loc[lsvmdata.activity.apply(lambda x: ('ball') in x), 'job'] = 'sports'\n",
    "lsvmdata.loc[lsvmdata.activity.apply(lambda x: ('ews') in x), 'job'] = 'news'\n",
    "lsvmdata.loc[lsvmdata.activity.apply(lambda x: ('elevision') in x), 'job'] = 'TV'"
   ]
  },
  {
   "cell_type": "code",
   "execution_count": 152,
   "metadata": {
    "collapsed": false
   },
   "outputs": [
    {
     "data": {
      "text/html": [
       "<div>\n",
       "<style scoped>\n",
       "    .dataframe tbody tr th:only-of-type {\n",
       "        vertical-align: middle;\n",
       "    }\n",
       "\n",
       "    .dataframe tbody tr th {\n",
       "        vertical-align: top;\n",
       "    }\n",
       "\n",
       "    .dataframe thead th {\n",
       "        text-align: right;\n",
       "    }\n",
       "</style>\n",
       "<table border=\"1\" class=\"dataframe\">\n",
       "  <thead>\n",
       "    <tr style=\"text-align: right;\">\n",
       "      <th></th>\n",
       "      <th>prediction</th>\n",
       "      <th>user_id</th>\n",
       "      <th>follower_rank</th>\n",
       "      <th>activity</th>\n",
       "      <th>country</th>\n",
       "      <th>followers</th>\n",
       "      <th>user_name</th>\n",
       "      <th>gender</th>\n",
       "      <th>job</th>\n",
       "    </tr>\n",
       "  </thead>\n",
       "  <tbody>\n",
       "    <tr>\n",
       "      <th>0</th>\n",
       "      <td>ins</td>\n",
       "      <td>79293791</td>\n",
       "      <td>3</td>\n",
       "      <td>Musician</td>\n",
       "      <td>BAR</td>\n",
       "      <td>89</td>\n",
       "      <td>rihanna</td>\n",
       "      <td>F</td>\n",
       "      <td>artist</td>\n",
       "    </tr>\n",
       "    <tr>\n",
       "      <th>1</th>\n",
       "      <td>norm</td>\n",
       "      <td>25073877</td>\n",
       "      <td>17</td>\n",
       "      <td>Current U.S. President</td>\n",
       "      <td>USA</td>\n",
       "      <td>53</td>\n",
       "      <td>realDonaldTrump</td>\n",
       "      <td>M</td>\n",
       "      <td>politician</td>\n",
       "    </tr>\n",
       "    <tr>\n",
       "      <th>2</th>\n",
       "      <td>norm</td>\n",
       "      <td>25073877</td>\n",
       "      <td>17</td>\n",
       "      <td>Current U.S. President</td>\n",
       "      <td>USA</td>\n",
       "      <td>53</td>\n",
       "      <td>realDonaldTrump</td>\n",
       "      <td>M</td>\n",
       "      <td>politician</td>\n",
       "    </tr>\n",
       "    <tr>\n",
       "      <th>3</th>\n",
       "      <td>norm</td>\n",
       "      <td>25073877</td>\n",
       "      <td>17</td>\n",
       "      <td>Current U.S. President</td>\n",
       "      <td>USA</td>\n",
       "      <td>53</td>\n",
       "      <td>realDonaldTrump</td>\n",
       "      <td>M</td>\n",
       "      <td>politician</td>\n",
       "    </tr>\n",
       "    <tr>\n",
       "      <th>4</th>\n",
       "      <td>ins</td>\n",
       "      <td>25073877</td>\n",
       "      <td>17</td>\n",
       "      <td>Current U.S. President</td>\n",
       "      <td>USA</td>\n",
       "      <td>53</td>\n",
       "      <td>realDonaldTrump</td>\n",
       "      <td>M</td>\n",
       "      <td>politician</td>\n",
       "    </tr>\n",
       "  </tbody>\n",
       "</table>\n",
       "</div>"
      ],
      "text/plain": [
       "  prediction   user_id  follower_rank                activity country  \\\n",
       "0        ins  79293791              3                Musician     BAR   \n",
       "1       norm  25073877             17  Current U.S. President     USA   \n",
       "2       norm  25073877             17  Current U.S. President     USA   \n",
       "3       norm  25073877             17  Current U.S. President     USA   \n",
       "4        ins  25073877             17  Current U.S. President     USA   \n",
       "\n",
       "   followers        user_name gender         job  \n",
       "0         89          rihanna      F      artist  \n",
       "1         53  realDonaldTrump      M  politician  \n",
       "2         53  realDonaldTrump      M  politician  \n",
       "3         53  realDonaldTrump      M  politician  \n",
       "4         53  realDonaldTrump      M  politician  "
      ]
     },
     "execution_count": 152,
     "metadata": {},
     "output_type": "execute_result"
    }
   ],
   "source": [
    "lsvmdata.head(5)"
   ]
  },
  {
   "cell_type": "markdown",
   "metadata": {},
   "source": [
    "## Adding data\n",
    "define target activity via measures such as: \n",
    "i) the number of replies recieved normalized by the number of followers, or,\n",
    "ii) the active_level which is (# reply / number of tweets in the past) (some given amount of time: prob some amount of time before the tweets are collected)\n",
    "-> insult level is independently measured from the replies as it only relies on the sentiment from the text!"
   ]
  },
  {
   "cell_type": "code",
   "execution_count": 159,
   "metadata": {
    "collapsed": false
   },
   "outputs": [
    {
     "data": {
      "text/plain": [
       "<matplotlib.axes._subplots.AxesSubplot at 0x7f98070f0780>"
      ]
     },
     "execution_count": 159,
     "metadata": {},
     "output_type": "execute_result"
    },
    {
     "data": {
      "image/png": "[encoded data removed]",
      "text/plain": [
       "<matplotlib.figure.Figure at 0x7f980861d1d0>"
      ]
     },
     "metadata": {},
     "output_type": "display_data"
    }
   ],
   "source": [
    "sns.countplot(data['follower_rank'])"
   ]
  },
  {
   "cell_type": "code",
   "execution_count": 154,
   "metadata": {
    "collapsed": false
   },
   "outputs": [
    {
     "data": {
      "image/png": "[encoded data removed]",
      "text/plain": [
       "<matplotlib.figure.Figure at 0x7f98086d60f0>"
      ]
     },
     "metadata": {},
     "output_type": "display_data"
    }
   ],
   "source": [
    "sns.countplot(x=\"job\",hue=\"prediction\", data=data);"
   ]
  },
  {
   "cell_type": "code",
   "execution_count": 155,
   "metadata": {
    "collapsed": false
   },
   "outputs": [
    {
     "data": {
      "text/plain": [
       "array(['artist', 'politician', 'news', nan, 'platform', 'channel',\n",
       "       'sports', 'TV', 'business'], dtype=object)"
      ]
     },
     "execution_count": 155,
     "metadata": {},
     "output_type": "execute_result"
    }
   ],
   "source": [
    "data[\"job\"].unique()"
   ]
  },
  {
   "cell_type": "code",
   "execution_count": 156,
   "metadata": {
    "collapsed": false
   },
   "outputs": [
    {
     "data": {
      "text/plain": [
       "<matplotlib.axes._subplots.AxesSubplot at 0x7f9808665a58>"
      ]
     },
     "execution_count": 156,
     "metadata": {},
     "output_type": "execute_result"
    },
    {
     "data": {
      "image/png": "[encoded data removed]",
      "text/plain": [
       "<matplotlib.figure.Figure at 0x7f98086460f0>"
      ]
     },
     "metadata": {},
     "output_type": "display_data"
    }
   ],
   "source": [
    "# remove outlier and plot #\n",
    "sns.countplot(x=\"gender\",hue=\"prediction\", data=lsvmdata.loc[(lsvmdata['user_name']!='realDonaldTrump')&(lsvmdata['job']=='artist')])"
   ]
  },
  {
   "cell_type": "code",
   "execution_count": 160,
   "metadata": {
    "collapsed": false
   },
   "outputs": [
    {
     "data": {
      "text/plain": [
       "<matplotlib.axes._subplots.AxesSubplot at 0x7f97fb895320>"
      ]
     },
     "execution_count": 160,
     "metadata": {},
     "output_type": "execute_result"
    },
    {
     "data": {
      "image/png": "[encoded data removed]",
      "text/plain": [
       "<matplotlib.figure.Figure at 0x7f9807096978>"
      ]
     },
     "metadata": {},
     "output_type": "display_data"
    }
   ],
   "source": [
    "#sns.countplot(x=\"job\",hue=\"prediction\", data=lsvmdata.loc[lsvmdata['user_name']=='CNN'])\n",
    "sns.countplot(x=\"job\",hue=\"prediction\", data=lsvmdata.loc[lsvmdata['user_name']!='realDonaldTrump'])"
   ]
  },
  {
   "cell_type": "code",
   "execution_count": 158,
   "metadata": {
    "collapsed": false
   },
   "outputs": [
    {
     "name": "stderr",
     "output_type": "stream",
     "text": [
      "/home/ijee/anaconda3/lib/python3.5/site-packages/seaborn/axisgrid.py:703: UserWarning: Using the countplot function without specifying `order` is likely to produce an incorrect plot.\n",
      "  warnings.warn(warning)\n"
     ]
    },
    {
     "data": {
      "image/png": "[encoded data removed]",
      "text/plain": [
       "<matplotlib.figure.Figure at 0x7f98079ac4a8>"
      ]
     },
     "metadata": {},
     "output_type": "display_data"
    }
   ],
   "source": [
    "# removing outlier (getting WAY TOO MANY replies than other users)\n",
    "grid = sns.FacetGrid(lsvmdata.loc[lsvmdata['user_name']!='realDonaldTrump'], col='gender', row='job', size=2.2, aspect=1.6)\n",
    "grid.map(sns.countplot, 'prediction', alpha=.5)\n",
    "grid.add_legend();\n",
    "# among artists, where they have recieved similar amount of replies, the amount of insult female recieve is higher than that toward males"
   ]
  },
  {
   "cell_type": "markdown",
   "metadata": {
    "collapsed": true
   },
   "source": [
    "# Conclusions\n",
    "We have performed sentiment analysis on collected Twitter replies to 50 most followed people, to see if there is a bias in the degree of insult people perceive depending on their background. A few interesting results were found:\n",
    "## Gender bias in occupation:\n",
    "Note that all female figures has job that can be categorized either in \"artist\" or \"TV personality\", while fields e.g. \"business\" or \"politician\", \"sports\" are all males. \n",
    "## Insult bias\n",
    "\n",
    "##"
   ]
  }
 ],
 "metadata": {
  "anaconda-cloud": {},
  "kernelspec": {
   "display_name": "Python [anaconda3]",
   "language": "python",
   "name": "Python [anaconda3]"
  },
  "language_info": {
   "codemirror_mode": {
    "name": "ipython",
    "version": 3
   },
   "file_extension": ".py",
   "mimetype": "text/x-python",
   "name": "python",
   "nbconvert_exporter": "python",
   "pygments_lexer": "ipython3",
   "version": "3.5.2"
  }
 },
 "nbformat": 4,
 "nbformat_minor": 2
}

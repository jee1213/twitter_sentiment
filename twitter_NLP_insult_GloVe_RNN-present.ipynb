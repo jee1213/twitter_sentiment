{
 "cells": [
  {
   "cell_type": "markdown",
   "metadata": {},
   "source": [
    "# Introduction\n",
    "The goal of this project is to use twitter streaming API to collect text data, and perform Natural Language Processing (NLP) for sentiment analysis, and do a statistical analysis to see if a tweet in reply to different gender / affiliation, to see if the result shows statistically meaningful difference in terms of aggression / insult. The degree of \"aggression/ insult\" in a text are modeled based on https://arxiv.org/ftp/arxiv/papers/1604/1604.06648.pdf\n",
    "https://arxiv.org/pdf/1604.06650.pdf\n",
    "https://arxiv.org/pdf/1702.06877.pdf\n",
    "and references therein.\n",
    "As a pilot survey, we only include the 50 most significant figures on twitter according to wikipedia (whose gender is known). Accounts for groups / organizations are hand-picked and used as a comparison group. We only collect replies to these users. \n",
    "\n",
    "# Data\n",
    "Uses of twitter API data collecting and preprocessing step reference:\n",
    "https://marcobonzanini.com/2015/03/09/mining-twitter-data-with-python-part-2/\n",
    "\n",
    "## Training data\n",
    "For training purposes, we started by collecting aggressive users on twitter and their tweets, provided by Despoina Chatzakou (Mean Birds): https://arxiv.org/pdf/1702.06877.pdf\n",
    "However many of the tweets are unaccessible due to user suspension / authorization issues.\n",
    "http://www.yichang-cs.com/yahoo/WWW16_Abusivedetection.pdf and dataset provided therein (e.g. Kaggle challenge) provides insulting comments with verification set.\n",
    "The list of Google-banned bad words are obtained via https://www.freewebheaders.com/full-list-of-bad-words-banned-by-google/\n",
    "We also apply GloVe and see how the result appears.\n",
    "## Test data\n",
    "Using Twitter streaming API, we collect tweets in reply to top 50 most followed users on twitter according to Wikipedia. The size of the dataset is 10k tweets to start with. \n",
    "\n",
    "# Processing tweets\n",
    "We perform standard pre-processing of the tweeter text data, which involves:\n",
    "tokenize, removing stop words, twitter-specific features (e.g. RT, @, ...).<br>\n",
    "For GloVe, we modify the standard pre-processing such that we will still have rt, url, user etc as they are part of the embedding.\n",
    "\n",
    "# Analysis\n",
    "We test various sentiment analysis here. We use Vader as a starter, to assess the performance of a typical and easy-to-use sentiment analyzer on our training / verification data. We then test various widely used word embedding and algorithm to assess the performance of themover Vader. Finally we apply the algorithm to collected tweets, visualize and understand the result.\n",
    "\n",
    "## Word embedding\n",
    "### TfidfVectorizer\n",
    "CountVectorizer (simple token count)-> TfidfTransformer. Probably more suitable for a large corpus with consistent context than individual tweets.\n",
    "### GloVe\n",
    "pre-trained unsupervised word clustering / vetorization of words provided by Stanford group.\n",
    "\n",
    "## Classification\n",
    "### Vader \n",
    "Pre-trained positive / negtaive sentiment analyzer. Tweets can be classified with the intensity of the sentiment. \n",
    "### RNN\n",
    "RNN is a standard choice for sequence modeling (especially text data). We implemented RNN using Keras. We choose to use Gate Recurrent Unit (GRU) instead of Long-Short Term Memory Unit (LSTM) as GRU is simpler and tweets are short in length thus LSTM does not have advantage in this application."
   ]
  },
  {
   "cell_type": "code",
   "execution_count": 1,
   "metadata": {
    "collapsed": true
   },
   "outputs": [],
   "source": [
    "# TIP: Install a pip package in the current Jupyter kernel\n",
    "#import sys\n",
    "#!{sys.executable} -m pip install numpy"
   ]
  },
  {
   "cell_type": "code",
   "execution_count": 2,
   "metadata": {
    "collapsed": true
   },
   "outputs": [],
   "source": [
    "import seaborn as sns\n",
    "from matplotlib import pyplot as plt\n",
    "import numpy as np\n",
    "\n",
    "%matplotlib inline"
   ]
  },
  {
   "cell_type": "code",
   "execution_count": 3,
   "metadata": {
    "collapsed": false
   },
   "outputs": [
    {
     "name": "stderr",
     "output_type": "stream",
     "text": [
      "Using TensorFlow backend.\n"
     ]
    }
   ],
   "source": [
    "from keras.preprocessing.text import Tokenizer\n",
    "from keras.preprocessing.text import text_to_word_sequence\n",
    "from keras.preprocessing.sequence import pad_sequences\n",
    "\n",
    "from keras.models import Model\n",
    "from keras.models import Sequential\n",
    "\n",
    "from keras.layers import Input, Dense, Embedding, Conv1D, Conv2D, MaxPooling1D, MaxPool2D\n",
    "from keras.layers import Reshape, Flatten, Dropout, Concatenate\n",
    "from keras.layers import SpatialDropout1D, concatenate\n",
    "from keras.layers import GRU, Bidirectional, GlobalAveragePooling1D, GlobalMaxPooling1D\n",
    "\n",
    "from keras.callbacks import Callback\n",
    "from keras.optimizers import Adam\n",
    "\n",
    "from keras.callbacks import ModelCheckpoint, EarlyStopping\n",
    "from keras.models import load_model\n",
    "from keras.utils.vis_utils import plot_model"
   ]
  },
  {
   "cell_type": "code",
   "execution_count": 4,
   "metadata": {
    "collapsed": false
   },
   "outputs": [],
   "source": [
    "try:\n",
    "    import json\n",
    "except ImportError:\n",
    "    import simplejson as json\n",
    "\n",
    "# Import the necessary methods from \"twitter\" library\n",
    "# from twitter import Twitter, OAuth, TwitterHTTPError, TwitterStream"
   ]
  },
  {
   "cell_type": "code",
   "execution_count": 5,
   "metadata": {
    "collapsed": false
   },
   "outputs": [],
   "source": [
    "import pandas as pd\n",
    "user_info = pd.read_csv('user_info.csv')\n",
    "# hand-put gender to the user_info: F, M, G (group)"
   ]
  },
  {
   "cell_type": "code",
   "execution_count": 6,
   "metadata": {
    "collapsed": false
   },
   "outputs": [],
   "source": [
    "# hand-put gender to the user_info: Female, Male, Group (an organization or platform, or multiple people)\n",
    "a = 'FMMFFFFMGMGFFFFFGMFMMFMMFGMFGMMGGMMGMMMGMMMFMMGFGM'\n",
    "g = list(a)\n",
    "g = pd.Series(g)\n",
    "user_info = user_info.assign(gender= g.values)"
   ]
  },
  {
   "cell_type": "code",
   "execution_count": 7,
   "metadata": {
    "collapsed": false
   },
   "outputs": [
    {
     "name": "stdout",
     "output_type": "stream",
     "text": [
      "   Unnamed: 0               activity country  followers   user_id  \\\n",
      "0           0               Musician     USA        110  21447363   \n",
      "1           1               Musician     CAN        107  27260086   \n",
      "2           2  Former U.S. President     USA        103    813286   \n",
      "3           3               Musician     BAR         89  79293791   \n",
      "4           4               Musician     USA         86  17919972   \n",
      "5           5               Musician     USA         79  14230524   \n",
      "\n",
      "       user_name gender  \n",
      "0      katyperry      F  \n",
      "1   justinbieber      M  \n",
      "2    BarackObama      M  \n",
      "3        rihanna      F  \n",
      "4  taylorswift13      F  \n",
      "5       ladygaga      F  \n"
     ]
    }
   ],
   "source": [
    "print(user_info.head(6))"
   ]
  },
  {
   "cell_type": "code",
   "execution_count": 8,
   "metadata": {
    "collapsed": false
   },
   "outputs": [],
   "source": [
    "# estimate the activity level of each users and include it to the user_info dataframe\n",
    "# collecting tweets are again, done using Collect_tweetw_50mostpop_users.ipynb\n",
    "past_filename = 'past_100_tweets.json'\n",
    "with open(past_filename, encoding='utf-8') as f:\n",
    "    pasts = json.load(f)"
   ]
  },
  {
   "cell_type": "code",
   "execution_count": 9,
   "metadata": {
    "collapsed": false
   },
   "outputs": [],
   "source": [
    "from datetime import datetime\n",
    "import re\n",
    "unformatted = \"Thu Oct 20 02:40:55 +0000 2016\"\n",
    "\n",
    "def convert_time(twitter_time):\n",
    "# Use re to get rid of the milliseconds.\n",
    "    remove_ms = lambda x:re.sub(\"\\+\\d+\\s\",\"\",x)\n",
    "# Make the string into a datetime object.\n",
    "    mk_dt = lambda x:datetime.strptime(remove_ms(x), \"%a %b %d %H:%M:%S %Y\")\n",
    "# Format your datetime object.\n",
    "#    my_form = lambda x:\"{:%Y%m%d}\".format(mk_dt(x))\n",
    "    return mk_dt(twitter_time)"
   ]
  },
  {
   "cell_type": "markdown",
   "metadata": {},
   "source": [
    "# Modeling activity of the user\n",
    "We model the activity of each user at the recent time interval using Poisson distribution to test whether the user is particularly more / less active in the current time bin. We estimate l as the average number of tweets per bin (sample mean), and k to be the number of tweets in the bin where streaming data is collected. The probability of obtaining k tweets when average is l is then:\n",
    "\n",
    "p(k) = exp(-l)l^k/(k!).\n",
    "\n",
    "One should remember that each Poisson events are supposed to be independent. However, by modeling tweet events as Poisson distribution, we can estimate the activity of the user at the current time (week, if tweets are not frequent, otherwise smaller time window) and estimate the \"activity\" using activity function defined below. We use Poisson cumulative density function for this purpose."
   ]
  },
  {
   "cell_type": "code",
   "execution_count": 10,
   "metadata": {
    "collapsed": false
   },
   "outputs": [],
   "source": [
    "from scipy.stats import poisson\n",
    " #use poisson cumulative distribution function to estimate the activity level of the user\n",
    "# activity vs inactivity: when x is larger than the average, x is more active \"than average\". \n",
    "# but how much more? we try to quantify it using cumulative dist. func. \n",
    "# activity function is defined between -1 and 1: negative means the account is less active.\n",
    "# positive means the account is more active.\n",
    "def calc_act(x,l):\n",
    "    # probability of getting x event or lower, given l\n",
    "    lower = poisson.cdf(x,l)\n",
    "    # probability of getting x event or higher, given l\n",
    "    upper = 1-poisson.cdf(x,l)+poisson.pmf(x,l)\n",
    "    if l > x:\n",
    "        # chances of getting event higher than x when x is smaller than l (wth negative sign)\n",
    "        # meaning \"given l, it is this probable that the event is higher than x, but due to low activity, we got x\"\n",
    "        return (-1.+lower)\n",
    "    else:\n",
    "        # chances of getting event lower than x when x is higher than l\n",
    "        # meaning \"given l, it is this probable that the event is lower than x, but due to high activity, we got x\"\n",
    "        return (1.-upper)"
   ]
  },
  {
   "cell_type": "code",
   "execution_count": 11,
   "metadata": {
    "collapsed": false
   },
   "outputs": [
    {
     "data": {
      "text/plain": [
       "<matplotlib.legend.Legend at 0x7f5ca8214780>"
      ]
     },
     "execution_count": 11,
     "metadata": {},
     "output_type": "execute_result"
    },
    {
     "data": {
      "image/png": "[encoded data removed]",
      "text/plain": [
       "<matplotlib.figure.Figure at 0x7f5ca720c208>"
      ]
     },
     "metadata": {},
     "output_type": "display_data"
    }
   ],
   "source": [
    "# Visualize how the activity function look like\n",
    "l=3.3\n",
    "n=10\n",
    "x = [i for i in range(n)]\n",
    "arr = [calc_act(i,l) for i in range(n)]\n",
    "plt.plot(x,arr)\n",
    "plt.axhline(y=0,color='black',linestyle=':')\n",
    "plt.axvline(x=l,color='r',label = 'mean')\n",
    "plt.ylabel(\"activity\")\n",
    "plt.xlabel(\"number of tweets\")\n",
    "plt.legend()\n",
    "# getting average count means the activity is a bit \"low\" (by ~10%), because Poisson distribution is not symmetric.\n",
    "# the plot is drown to the highest value of the given sample : when x = 7, the user is (more or less) 100% more active."
   ]
  },
  {
   "cell_type": "markdown",
   "metadata": {},
   "source": [
    "As desired, the activity -> 0 as the drawn number reaches the average. Activity reaches 1 as there are more tweets, and -1 as there is no tweet. With this definition, we estimate the activity of all users at the most recent interval and include it in the user_info dataframe. Depending on the user, the frequency of their tweets vary significantly: we have low-frequency user (whose 95th recent tweet is more than 4 weeks old) and high-frequency user (whose 95th recent tweet is less than 4 weeks old)."
   ]
  },
  {
   "cell_type": "code",
   "execution_count": 12,
   "metadata": {
    "collapsed": false
   },
   "outputs": [
    {
     "name": "stdout",
     "output_type": "stream",
     "text": [
      "2015-07-10 15:10:28\n",
      "User # 33 :Low-frequency Twitter user\n",
      "activity of the most recent time bin: 0.543908437901\n"
     ]
    },
    {
     "data": {
      "image/png": "[encoded data removed]",
      "text/plain": [
       "<matplotlib.figure.Figure at 0x7f5ca819eb00>"
      ]
     },
     "metadata": {},
     "output_type": "display_data"
    }
   ],
   "source": [
    "# with given user number u, visualize the tweets and estimate the current time-interval activity!\n",
    "u = 33\n",
    "test = [convert_time(pasts[u][i]['created_at']) for i in range(95)]\n",
    "# for a few users, the 100 most recent data collection did not collect all the tweets (suspect internet connection issue),\n",
    "# but it did collect data up to 95th most recent tweets for all the users which is close enough, so we proceed and use 95 tweets\n",
    "test = test[::-1]\n",
    "# the collection goes backward in time: we sort it in reverse order to put it back in time order.\n",
    "print(test[0])\n",
    "\n",
    "if (test[-1]-test[0]).days > 28:\n",
    "    print(\"User #\",u,\":Low-frequency Twitter user\")\n",
    "    nbin = (test[-1]-test[0]).days\n",
    "    # low-frequency users get larger bins: 4 days per bin or more\n",
    "    histogram = plt.hist(test,bins=int(nbin/7))\n",
    "else:\n",
    "    print(\"User #\",u,\":High-frequency Twitter user\")\n",
    "    # high frequency users (who tweets more than 100 times in the past 4 weeks)\n",
    "    histogram = plt.hist(test,bins=30)\n",
    "# can I change this into bin_size=a day (roughly when the data is collected)?\n",
    "l = np.average(histogram[0])\n",
    "plt.ylabel(\"number of tweets\")\n",
    "plt.title(\"User %d\"%(u))\n",
    "plt.axhline(y=l,linestyle=':',color='black',label = 'l')\n",
    "plt.legend()\n",
    "print(\"activity of the most recent time bin:\",calc_act(histogram[0][-1],l))"
   ]
  },
  {
   "cell_type": "code",
   "execution_count": 13,
   "metadata": {
    "collapsed": false
   },
   "outputs": [],
   "source": [
    "# For all users, estimate the activity\n",
    "activity = []\n",
    "for j in range(50):\n",
    "    # some(5,33) user did not have 100 collected tweets: reduce the number down to 95...\n",
    "    test = [convert_time(pasts[j][i]['created_at']) for i in range(95)]\n",
    "    test = test[::-1]\n",
    "    if (test[-1]-test[0]).days > 28:\n",
    "        nbin = (test[-1]-test[0]).days\n",
    "        histogram = plt.hist(test,bins=int(nbin/7))\n",
    "        plt.close()\n",
    "    else:\n",
    "        # high frequency users (who tweets more than 100 times per 4 weeks)\n",
    "        histogram = plt.hist(test,bins=30)\n",
    "        plt.close()\n",
    "# can I change this into bin_size=a day (roughly when the data is collected)?\n",
    "    l = np.average(histogram[0])\n",
    "    activity.append(calc_act(histogram[0][-1],l))"
   ]
  },
  {
   "cell_type": "code",
   "execution_count": 14,
   "metadata": {
    "collapsed": false
   },
   "outputs": [],
   "source": [
    "a = pd.Series(activity)\n",
    "user_info = user_info.assign(actlevel= a.values)"
   ]
  },
  {
   "cell_type": "code",
   "execution_count": 15,
   "metadata": {
    "collapsed": false
   },
   "outputs": [],
   "source": [
    "# Categorizing activity into jobs in user_info\n",
    "user_info.loc[user_info.activity.apply(lambda x: ('Musician') in x), 'job'] = 'artist'\n",
    "user_info.loc[user_info.activity.apply(lambda x: ('Rapper') in x), 'job'] = 'artist'\n",
    "user_info.loc[user_info.activity.apply(lambda x: ('Band') in x), 'job'] = 'artist'\n",
    "user_info.loc[user_info.activity.apply(lambda x: ('Comedian') in x), 'job'] = 'artist'\n",
    "user_info.loc[user_info.activity.apply(lambda x: ('Actor') in x), 'job'] = 'artist'\n",
    "user_info.loc[user_info.activity.apply(lambda x: ('President') in x), 'job'] = 'politician'\n",
    "user_info.loc[user_info.activity.apply(lambda x: ('Minister') in x), 'job'] = 'politician'\n",
    "user_info.loc[user_info.activity.apply(lambda x: ('usiness' in x)), 'job'] = 'business'\n",
    "user_info.loc[user_info.activity.apply(lambda x: ('ball') in x), 'job'] = 'sports'\n",
    "user_info.loc[user_info.activity.apply(lambda x: ('platform' in x)), 'job'] = 'platform'\n",
    "user_info.loc[user_info.activity.apply(lambda x: ('channel') in x), 'job'] = 'platform'\n",
    "user_info.loc[user_info.activity.apply(lambda x: ('ews') in x), 'job'] = 'platform'\n",
    "user_info.loc[user_info.activity.apply(lambda x: ('elevision') in x), 'job'] = 'TV'"
   ]
  },
  {
   "cell_type": "markdown",
   "metadata": {},
   "source": [
    "## Defining the controversy level\n",
    "model using the number of follwers, activity at the current epoch and number of replies: how controversial the account is, whether the insult rate increases depending on the controversy level. By modeling the activity using Poisson distribution rather than just number count of the tweets wrt the average, we can estimate how a user was active in a given period of time, "
   ]
  },
  {
   "cell_type": "code",
   "execution_count": 16,
   "metadata": {
    "collapsed": false
   },
   "outputs": [
    {
     "name": "stdout",
     "output_type": "stream",
     "text": [
      "files exists\n"
     ]
    }
   ],
   "source": [
    "# We have collected multiple tweets with varying numbers over a few days: see Collect_tweets_50mostpop_users.ipynb for details.\n",
    "# in try clause we read these tweets collected: in total, 100k replies to the top users are collected.\n",
    "tweets_filename = 'twitter_savereplies_nsamp10000.json'\n",
    "tweets_filename2 = 'twitter_savereplies_nsamp20000.json'\n",
    "tweets_filename3 = 'twitter_savereplies_nsamp30000.json'\n",
    "tweets_filename4 = 'twitter_savereplies_nsamp40000.json'\n",
    "# Since there are too many replies to one specific account, we decided to collect data\n",
    "# with that account excluded... below are the data \n",
    "tweets_filename5 = 'twitter_savereplies_nsamp10000woDT.json'\n",
    "tweets_filename6 = 'twitter_savereplies_nsamp40000woDT.json'\n",
    "\n",
    "import os.path\n",
    "# save to json file\n",
    "tweet_count = 100\n",
    "tweet_cnt = tweet_count\n",
    "try:\n",
    "    os.path.isfile(tweets_filename)\n",
    "    os.path.isfile(tweets_filename2)\n",
    "    print(\"files exists\")\n",
    "    with open(tweets_filename, 'r', encoding='utf-8') as f:\n",
    "        tweets = json.load(f) # readline only the first tweet/line\n",
    "    with open(tweets_filename2, 'r',encoding='utf-8') as f:\n",
    "        tweets2 = json.load(f) # readline only the first tweet/line\n",
    "    with open(tweets_filename3, 'r',encoding='utf-8') as f:\n",
    "        tweets3 = json.load(f) # readline only the first tweet/line\n",
    "    with open(tweets_filename4, 'r',encoding='utf-8') as f:\n",
    "        tweets4 = json.load(f) # readline only the first tweet/line\n",
    "    with open(tweets_filename5, 'r',encoding='utf-8') as f:\n",
    "        tweets5 = json.load(f) # readline only the first tweet/line\n",
    "    with open(tweets_filename6, 'r',encoding='utf-8') as f:\n",
    "        tweets6 = json.load(f) # readline only the first tweet/line\n",
    "    pass\n",
    "# the execpt clause is a leftover from previous version of the code where data collection was combined with analysis part.\n",
    "# it does not work for now, but I leave it here for a reference to what data we collected.\n",
    "except:\n",
    "    print(\"file does not exist, stream twitter for collecting tweets\")\n",
    "    tweets = []\n",
    "    for tweet in iterator:\n",
    "    # select only \"replies\" to top 50 followed users\n",
    "        if str(tweet['in_reply_to_user_id']) in user_id:\n",
    "            tweet_count -= 1\n",
    "            tweets.append(tweet)\n",
    "    # loads converts json format to python dictionary\n",
    "    # dumps converts python dictionary to json format\n",
    "    \n",
    "    # The command below will do pretty printing for JSON data, try it out\n",
    "    # print json.dumps(tweet, indent=4)\n",
    "            if tweet_count <= 0:\n",
    "                break     \n",
    "    with open(tweets_filename, 'w') as outfile:\n",
    "        json.dump(tweets,outfile,indent=4)\n",
    "text = []\n",
    "for i0 in range(tweet_cnt):\n",
    "    text.append(tweets[i0]['text'])"
   ]
  },
  {
   "cell_type": "markdown",
   "metadata": {},
   "source": [
    "# External dataset\n",
    "We try using external data (corpus with sentiment labels) to train the network, from i) Kaggle challenge, ii) banned words by Google (not a official list, obtained from https://www.freewebheaders.com/full-list-of-bad-words-banned-by-google/), and iii) Mean Birds: https://arxiv.org/pdf/1702.06877.pdf and private communication with the first author (Despoina Chatzakou). In the end only i) is used for the final analysis."
   ]
  },
  {
   "cell_type": "code",
   "execution_count": 17,
   "metadata": {
    "collapsed": false
   },
   "outputs": [],
   "source": [
    "banwords_file = './Google_BanWords/full-list-of-bad-words-text-file_2018_03_26.txt'\n",
    "insult_corpus_file = './kaggle_insult/train.csv'\n",
    "# In ideal world all strings would be unicode-escape, and we would not have any problem reading this as follows:\n",
    "#insult_train = pd.read_csv(insult_corpus_file,encoding='unicode-escape')\n",
    "# However, there are some strings that has double-backslash which complicate the process.\n",
    "# i) we read strings as they are\n",
    "# ii) then replace \\\\ by \\\n",
    "# iii) we cast it to unicode-escape\n",
    "# iv) then we convert everything using unidecode\n",
    "insult_train = pd.read_csv(insult_corpus_file)\n",
    "banwords = pd.read_csv(banwords_file,sep='\\r\\n',engine='python',names = ['banword'])"
   ]
  },
  {
   "cell_type": "code",
   "execution_count": 18,
   "metadata": {
    "collapsed": false
   },
   "outputs": [],
   "source": [
    "#print(banwords)\n",
    "banwords = banwords.replace('�','',regex=True)"
   ]
  },
  {
   "cell_type": "code",
   "execution_count": 19,
   "metadata": {
    "collapsed": true
   },
   "outputs": [],
   "source": [
    "banwords['Insult'] = 1"
   ]
  },
  {
   "cell_type": "code",
   "execution_count": 20,
   "metadata": {
    "collapsed": false
   },
   "outputs": [
    {
     "name": "stdout",
     "output_type": "stream",
     "text": [
      "\"I bet the songs on the upcoming CD were written for This twit. The message was she is a progressive. She knows where her  bread is buttered.\n",
      "\n",
      "I have never even heard of her.\n",
      "\n",
      "I bet if she had to write her own material. Ms Hoe would be a major disappointment to her idiotic fans.\n",
      "\n",
      "What was her message with the exorcism? CBS management look like total knuckleheads. No wonder their ratings suck.\n",
      "\n",
      "Bring back garage bands. They play instruments, write their own material & perform to their fans.\n",
      "\n",
      "Most of the music truly sucks today. Record executives don't even try to find pure raw talent.. It seems they try to clone their stars. Visual imagery for shock value over solid Rock-n-Roll.\n",
      "\n",
      "\"\n",
      "\"You fuck your dad.\"\n",
      "\"Cac ban xuong duong bieu tinh 2011 co on hoa khong ? \n",
      "Cac ngu dan ngoi cui dau chiu nhuc co on hoa khong ?\n",
      "Cac nong dan giu dat o Van Giang, Can Tho co on hoa khong ?\n",
      ".................\n",
      "Rot cuoc duoc gi  thi chung ta da biet !\n",
      "Ai cung yeu chuong hoa binh, nhung doi khi hoa binh chi that su den sau chien tranh ma thoi.\n",
      "Khong con con duong nao chon khac dau, dung mo them nua.\"\n",
      "2898\n"
     ]
    }
   ],
   "source": [
    "# the training set is a mixture of unicode characters with english. Let's clean it up...\n",
    "from unidecode import unidecode as ud\n",
    "import codecs\n",
    "# ii) \n",
    "insult_train['Comment'] = [s.replace(\"\\\\\\\\\", \"\\\\\") for s in insult_train['Comment']]\n",
    "# iii)\n",
    "insult_train['Comment'] = [s.replace(\"\\\\xc2\\\\xa0\", \" \") for s in insult_train['Comment']]\n",
    "insult_train['Comment'] = [s.replace(\"\\\\xa0\", \" \") for s in insult_train['Comment']]\n",
    "insult_train['Comment'] = [s.replace(\"\\xa0\", \" \") for s in insult_train['Comment']]\n",
    "\n",
    "insult_train['Comment'] = [codecs.decode(s,'unicode-escape') for s in insult_train['Comment']]\n",
    "# iv)\n",
    "insult_train['Comment'] = [ud(s) for s in insult_train['Comment']]\n",
    "insult_train['Comment'] = [str(s) for s in insult_train['Comment']]\n",
    "\n",
    "# there are almost no emoji in this dataset, so we don't need to worry about it. However, in real\n",
    "# Twitter data, we do have a lot and thus we define clear_tweets functoin later.\n",
    "print(insult_train['Comment'][987])\n",
    "insult = insult_train.loc[insult_train['Insult']==1]\n",
    "normal = insult_train.loc[insult_train['Insult']==0]\n",
    "\n",
    "print(((insult['Comment'][0])))\n",
    "print(((normal['Comment'][4])))\n",
    "print(len(normal))"
   ]
  },
  {
   "cell_type": "code",
   "execution_count": 21,
   "metadata": {
    "collapsed": false,
    "scrolled": true
   },
   "outputs": [],
   "source": [
    "training_file = './dataset/data'\n",
    "training_data = pd.read_csv(training_file,delim_whitespace=True,names=['user','category','tweet_id'])\n",
    "ID = []\n",
    "for i in range(len(training_data)):\n",
    "    ID.append(training_data['tweet_id'][i].split(\",\"))\n",
    "#print(training_data)\n",
    "# category is divided into four: aggressor, bully, normal and spammer\n",
    "# each up to (43, 101, 883, 1303) id indices and 5-10 tweets.\n",
    "# It can take long time to collect these tweets, so I save them as json files with their indices provided in the dataset."
   ]
  },
  {
   "cell_type": "code",
   "execution_count": 22,
   "metadata": {
    "collapsed": true
   },
   "outputs": [],
   "source": [
    "# saved aggressive / bullying tweets for later runs\n",
    "agg_filename = 'agg_tweets.json'\n",
    "bull_filename= 'bull_tweets.json'\n",
    "norm_filename = 'norm_tweets.json' "
   ]
  },
  {
   "cell_type": "code",
   "execution_count": 23,
   "metadata": {
    "collapsed": false,
    "scrolled": true
   },
   "outputs": [
    {
     "name": "stdout",
     "output_type": "stream",
     "text": [
      "agg_file exist: read and pass\n"
     ]
    }
   ],
   "source": [
    "#t.statuses.oembed(_id=672282716436467714)\n",
    "try:\n",
    "    os.path.isfile(agg_filename)\n",
    "    with open(agg_filename, 'r',encoding='utf-8') as f:\n",
    "        agg_tweets = json.load(f) # readline only the first tweet/line\n",
    "    print(\"agg_file exist: read and pass\")\n",
    "    pass\n",
    "except:\n",
    "    print(\"agg_file does not exist: collect tweets from twitter database\")\n",
    "    agg_tweets = []\n",
    "    agg_index = []\n",
    "    ID_idx = [len(x) for x in ID]\n",
    "    for i in range(0,43):\n",
    "        for j in range(ID_idx[i]):\n",
    "            try:\n",
    "                agg_tweets.append(t.statuses.show(_id=ID[i][j]))\n",
    "                agg_index.append(i)\n",
    "                print(i,j)\n",
    "            except:\n",
    "                pass\n",
    "    with open(agg_filename, 'w') as outfile:\n",
    "        json.dump(agg_tweets,outfile,indent=4)\n",
    "    with open('agg_tweets_idx.txt','w') as outfile:\n",
    "        json.dump(agg_index,outfile)\n",
    "    print(\"aggressive tweets collected and saved\")"
   ]
  },
  {
   "cell_type": "code",
   "execution_count": 24,
   "metadata": {
    "collapsed": false,
    "scrolled": true
   },
   "outputs": [
    {
     "name": "stdout",
     "output_type": "stream",
     "text": [
      "bull_file exist: read and pass\n"
     ]
    }
   ],
   "source": [
    "#t.statuses.oembed(_id=672282716436467714)\n",
    "try:\n",
    "    os.path.isfile(bull_filename)\n",
    "    with open(bull_filename, 'r',encoding='utf-8') as f:\n",
    "        bull_tweets = json.load(f) # readline only the first tweet/line\n",
    "    print(\"bull_file exist: read and pass\")\n",
    "    pass\n",
    "except:\n",
    "    print(\"bull_file does not exist: collect tweets from twitter database\")\n",
    "    ID_idx = [len(x) for x in ID]\n",
    "    bull_tweets = []\n",
    "    bull_index = []\n",
    "    for i in range(43,101):\n",
    "        for j in range(ID_idx[i]):\n",
    "            try:\n",
    "                bull_tweets.append(t.statuses.show(_id=ID[i][j]))\n",
    "                bull_index.append(i)\n",
    "                print(i,j)\n",
    "            except:\n",
    "                pass\n",
    "    with open(bull_filename, 'w') as outfile:\n",
    "        json.dump(bull_tweets,outfile,indent=4)\n",
    "    with open('bull_tweets_idx.txt','w') as outfile:\n",
    "        json.dump(bull_index,outfile)\n",
    "    print(\"bully tweets collected and saved\")"
   ]
  },
  {
   "cell_type": "code",
   "execution_count": 25,
   "metadata": {
    "collapsed": false,
    "scrolled": true
   },
   "outputs": [
    {
     "name": "stdout",
     "output_type": "stream",
     "text": [
      "norm_file exist: read and pass\n"
     ]
    }
   ],
   "source": [
    "#t.statuses.oembed(_id=672282716436467714)\n",
    "try:\n",
    "    os.path.isfile(norm_filename)\n",
    "    with open(norm_filename, 'r',encoding='utf-8') as f:\n",
    "        norm_tweets = json.load(f) # readline only the first tweet/line\n",
    "    print(\"norm_file exist: read and pass\")\n",
    "    pass\n",
    "except:\n",
    "    print(\"norm_file does not exist: collect tweets from twitter database\")\n",
    "    norm_tweets = []\n",
    "    norm_index = []\n",
    "    ID_idx = [len(x) for x in ID]\n",
    "    for i in range(101,883):\n",
    "        for j in range(ID_idx[i]):\n",
    "            try:\n",
    "                norm_tweets.append(t.statuses.show(_id=ID[i][j]))\n",
    "                norm_index.append(i)\n",
    "                print(i,j)\n",
    "            except:\n",
    "                pass\n",
    "    with open(norm_filename, 'w') as outfile:\n",
    "        json.dump(norm_tweets,outfile,indent=4)\n",
    "    with open('norm_tweets_idx.txt','w') as outfile:\n",
    "        json.dump(norm_index,outfile)\n",
    "    print(\"normal tweets collected and saved\")"
   ]
  },
  {
   "cell_type": "code",
   "execution_count": 26,
   "metadata": {
    "collapsed": false
   },
   "outputs": [],
   "source": [
    "norm_tweets_text = [norm_tweets[i]['text'] for i in range(len(norm_tweets))]\n",
    "# tweets from aggressive + bullying users currently available are about 100... :x"
   ]
  },
  {
   "cell_type": "code",
   "execution_count": 27,
   "metadata": {
    "collapsed": false
   },
   "outputs": [],
   "source": [
    "#print(norm_tweets_text)"
   ]
  },
  {
   "cell_type": "code",
   "execution_count": 28,
   "metadata": {
    "collapsed": false
   },
   "outputs": [],
   "source": [
    "#>>> ad.encode('utf-16','surrogatepass').decode('utf-16')\n",
    "#'😍'\n",
    "#>>> import unicodedata\n",
    "#>>> unicodedata.name(ad.encode('utf-16','surrogatepass').decode('utf-16'))\n",
    "#'SMILING FACE WITH HEART-SHAPED EYES'\n",
    "#>>> ad\n",
    "#'\\ud83d\\ude0d'\n",
    "\n",
    "#import unicodedata\n",
    "#print(unicodedata.name(\"\\ud83d\\ude0d\".encode('utf-16','surrogatepass').decode('utf-16')))"
   ]
  },
  {
   "cell_type": "code",
   "execution_count": 29,
   "metadata": {
    "collapsed": true
   },
   "outputs": [],
   "source": [
    "# tweeter seems to have worked well and suspended most of the accounts the authors classified as aggressors / bullies,\n",
    "# which is unfortunate for our purpose but we will proceed with the currently available data...?"
   ]
  },
  {
   "cell_type": "markdown",
   "metadata": {},
   "source": [
    "# Processing the text\n",
    "Using nltk, we pre-process the text here. Tokenized words will be feed into multiple classifier to determine the degree of aggression in the text. We compare their performances and decide which algorithm to use."
   ]
  },
  {
   "cell_type": "code",
   "execution_count": 30,
   "metadata": {
    "collapsed": false
   },
   "outputs": [],
   "source": [
    "import nltk\n",
    "from nltk.tokenize import word_tokenize\n",
    "from nltk.tokenize import TweetTokenizer"
   ]
  },
  {
   "cell_type": "code",
   "execution_count": 31,
   "metadata": {
    "collapsed": true
   },
   "outputs": [],
   "source": [
    " emoticons_str = r\"\"\"\n",
    "    (?:\n",
    "        [:=;] # Eyes\n",
    "        [oO\\-]? # Nose (optional)\n",
    "        [D\\)\\]\\(\\]/\\\\OpP] # Mouth\n",
    "    )\"\"\"\n",
    " \n",
    "regex_str = [\n",
    "    emoticons_str,\n",
    "    r'<[^>]+>', # HTML tags\n",
    "    r'(?:@[\\w_]+)', # @-mentions\n",
    "    r\"(?:\\#+[\\w_]+[\\w\\'_\\-]*[\\w_]+)\", # hash-tags\n",
    "    r'http[s]?://(?:[a-z]|[0-9]|[$-_@.&amp;+]|[!*\\(\\),]|(?:%[0-9a-f][0-9a-f]))+', # URLs\n",
    " \n",
    "    r'(?:(?:\\d+,?)+(?:\\.?\\d+)?)', # numbers\n",
    "    r\"(?:[a-z][a-z'\\-_]+[a-z])\", # words with - and '\n",
    "    r'(?:[\\w_]+)', # other words\n",
    "    r'(?:\\S)' # anything else\n",
    "]\n",
    "    \n",
    "tokens_re = re.compile(r'('+'|'.join(regex_str)+')', re.VERBOSE | re.IGNORECASE)\n",
    "emoticon_re = re.compile(r'^'+emoticons_str+'$', re.VERBOSE | re.IGNORECASE)"
   ]
  },
  {
   "cell_type": "code",
   "execution_count": 32,
   "metadata": {
    "collapsed": false
   },
   "outputs": [],
   "source": [
    "def emoji_finder(string):\n",
    "# find utf-16 surrogate emojis (as twitter API provides) and convert it to its description using unicodedata\n",
    "#a = \"Baby you're perfect! \\ud83d\\ude0d\\ud83d\\ude0d\"\n",
    "#a = re.sub(r'\\\\u(.{10})',(unicodedata.name(\"\\\\u\\1\".encode('utf-16','surrogatepass').decode('utf-16'))),a)\n",
    "    # suggogate pair\n",
    "    string = string.encode('utf-8')\n",
    "    #m = re.findall(r'(\\ud838[\\udc50-\\udfff])|([\\ud839-\\ud83d][\\udc00-\\udfff])|(\\ud83e[\\udc00-\\udfbf])|([\\udc50-\\udfff]\\ud838)|([\\udc00-\\udfff][\\ud839-\\ud83d])|([\\udc00-\\udfbf]\\ud83e)',string)\n",
    "    m = re.findall(b'(\\xf0[\\x00-\\xff][\\x00-\\xff][\\x00-\\xff])',string)\n",
    "    em_uni = []\n",
    "    em_desc = []\n",
    "    for i in range(len(m)):\n",
    "        if m[i] is not '':\n",
    "                em_uni.append(m[i])\n",
    "                try:\n",
    "                    em_desc.append(' '+unicodedata.name(m[i].decode('utf-8'))+' ')\n",
    "                except:\n",
    "                    em_desc.append(' ')\n",
    "    return (em_uni,em_desc)"
   ]
  },
  {
   "cell_type": "code",
   "execution_count": 33,
   "metadata": {
    "collapsed": false
   },
   "outputs": [
    {
     "name": "stdout",
     "output_type": "stream",
     "text": [
      "[]\n",
      "[b'\\xf0\\x9f\\x98\\x8d', b'\\xf0\\x9f\\x98\\x8d']\n",
      "[' SMILING FACE WITH HEART-SHAPED EYES ', ' SMILING FACE WITH HEART-SHAPED EYES ']\n",
      "Baby you're perfect!  SMILING FACE WITH HEART-SHAPED EYES  SMILING FACE WITH HEART-SHAPED EYES \n"
     ]
    }
   ],
   "source": [
    "import unicodedata\n",
    "# test whether emoji_finder function works\n",
    "#txt = \"Baby you're perfect! \\ud83d\\ude0d\\ud83d\\ude0d\"\n",
    "#txt = \"Omg!I'm so proud of them! jamesxreid hellobangsie \\ud83d\\ude18\\ud83d\\udc67\\ud83d\\ude4b\\n#OTWOLFromADistance \\n#PushAwardsJaDines\"\n",
    "#txt = \"Please Shawn I need to get a dm from you \\ud83d\\udc99\\ud83d\\ude4c\\ud83c\\udffc\\ud83d\\ude4c\\ud83c\\udffc\\nI love you so much angel \\ud83d\\udc7c\\ud83c\\udffc\\ud83d\\udc98\"\n",
    "txt = \"Baby you're perfect! 😍😍\"\n",
    "#a = re.sub(r'\\\\u(.{10})',(unicodedata.name(\"\\\\u\\1\".encode('utf-16','surrogatepass').decode('utf-16'))),a)\n",
    "m = re.findall(r'(\\ud838[\\udc50-\\udfff])|([\\ud839-\\ud83d][\\udc00-\\udfff])|(\\ud83e[\\udc00-\\udfbf])|([\\udc50-\\udfff]\\ud838)|([\\udc00-\\udfff][\\ud839-\\ud83d])|([\\udc00-\\udfbf]\\ud83e)',txt)\n",
    "a = []\n",
    "for i in range(len(m)):\n",
    "    for j in range(6):\n",
    "        if m[i][j] is not '':\n",
    "            a.append(unicodedata.name(m[i][j].encode('utf-16','surrogatepass').decode('utf-16')))\n",
    "print(a)\n",
    "uni, desc = emoji_finder(txt) \n",
    "print(uni)\n",
    "print(desc)\n",
    "txt = txt.encode('utf-8')\n",
    "for i in range(len(uni)):\n",
    "    txt = re.sub(uni[i], desc[i].encode('utf-8'), txt)\n",
    "txt = txt.decode('utf-8')\n",
    "print(txt)"
   ]
  },
  {
   "cell_type": "code",
   "execution_count": 34,
   "metadata": {
    "collapsed": false
   },
   "outputs": [],
   "source": [
    "import string\n",
    " \n",
    "from nltk.corpus import stopwords \n",
    "stopwords_english = stopwords.words('english')\n",
    " \n",
    "from nltk.stem import PorterStemmer, WordNetLemmatizer\n",
    "stemmer = PorterStemmer()\n",
    "wnl = WordNetLemmatizer()\n",
    "\n",
    "from nltk.tokenize import TweetTokenizer\n",
    " \n",
    "# Happy Emoticons\n",
    "emoticons_happy = set([\n",
    "    ':-)', ':)', ';)', ':o)', ':]', ':3', ':c)', ':>', '=]', '8)', '=)', ':}',\n",
    "    ':^)', ':-D', ':D', '8-D', '8D', 'x-D', 'xD', 'X-D', 'XD', '=-D', '=D',\n",
    "    '=-3', '=3', ':-))', \":'-)\", \":')\", ':*', ':^*', '>:P', ':-P', ':P', 'X-P',\n",
    "    'x-p', 'xp', 'XP', ':-p', ':p', '=p', ':-b', ':b', '>:)', '>;)', '>:-)',\n",
    "    '<3'\n",
    "    ])\n",
    " \n",
    "# Sad Emoticons\n",
    "emoticons_sad = set([\n",
    "    ':L', ':-/', '>:/', ':S', '>:[', ':@', ':-(', ':[', ':-||', '=L', ':<',\n",
    "    ':-[', ':-<', '=\\\\', '=/', '>:(', ':(', '>.<', \":'-(\", \":'(\", ':\\\\', ':-c',\n",
    "    ':c', ':{', '>:\\\\', ';('\n",
    "    ])\n",
    " \n",
    "# all emoticons (happy + sad)\n",
    "emoticons = emoticons_happy.union(emoticons_sad)\n",
    "jav_emj = r'(\\ud838[\\udc50-\\udfff])|([\\ud839-\\ud83d][\\udc00-\\udfff])|(\\ud83e[\\udc00-\\udfbf])|([\\udc50-\\udfff]\\ud838)|([\\udc00-\\udfff][\\ud839-\\ud83d])|([\\udc00-\\udfbf]\\ud83e)'\n",
    "def clean_tweets(tweet):\n",
    "    # remove stock market tickers like $GE\n",
    "    tweet = re.sub(r'\\$\\w*', '', tweet)\n",
    "    # remove old style retweet text \"RT\"\n",
    "    tweet = re.sub(r'^RT[\\s]+', '', tweet)\n",
    "    # remove hyperlinks\n",
    "    tweet = re.sub(r'https?:\\/\\/.*[\\r\\n]*', '', tweet)\n",
    "    # remove hashtags\n",
    "    # only removing the hash # sign from the word\n",
    "    tweet = re.sub(r'#', '', tweet)\n",
    "    # replace utf-16 emoji to description of the emoji\n",
    "    uni,desc = emoji_finder(tweet)\n",
    "    tweet = tweet.encode('utf-8')\n",
    "    for i in range(len(uni)):\n",
    "        tweet = re.sub(uni[i],desc[i].encode('utf-8'),tweet)\n",
    "    tweet = tweet.decode('utf-8')\n",
    "    # remove abbreviation marks?\n",
    "    tweet = re.sub(r'/[.]{2,}/g','',tweet)\n",
    "    # remove mention @ \n",
    "    tweet = re.sub(r\"@(\\w+)\", '', tweet)\n",
    "\n",
    "    return tweet\n",
    "\n",
    "def clean_tweets_glove(tweet):\n",
    "    # remove stock market tickers like $GE\n",
    "    tweet = re.sub(r'\\$\\w*', '', tweet)\n",
    "    # remove old style retweet text \"RT\"\n",
    "    # glove keeps rt\n",
    "#    tweet = re.sub(r'^RT[\\s]+', '', tweet)\n",
    "    # remove hyperlinks\n",
    "    # glove keept hyperlinks as <URL>\n",
    "    tweet = re.sub(r'https?:\\/\\/.*[\\r\\n]*', '<url> ', tweet)\n",
    "    # remove hashtags\n",
    "    # only removing the hash # sign from the word\n",
    "    tweet = re.sub(r'#', '', tweet)\n",
    "    # replace utf-16 emoji to description of the emoji\n",
    "    uni,desc = emoji_finder(tweet)\n",
    "    tweet = tweet.encode('utf-8')\n",
    "    for i in range(len(uni)):\n",
    "        tweet = re.sub(uni[i],desc[i].encode('utf-8'),tweet)\n",
    "    tweet = tweet.decode('utf-8')\n",
    "    # remove abbreviation marks?\n",
    "    tweet = re.sub(r'/[.]{2,}/g','',tweet)\n",
    "    # remove mention @ \n",
    "    # glove keeps mention as <USER>\n",
    "    tweet = re.sub(r\"@(\\w+)\", '', tweet)\n",
    "\n",
    "    return tweet"
   ]
  },
  {
   "cell_type": "code",
   "execution_count": 35,
   "metadata": {
    "collapsed": false
   },
   "outputs": [],
   "source": [
    "# feature extractor function\n",
    "def bag_of_words(tweet):\n",
    "    tweets = clean_tweets(tweet)\n",
    "    # tokenize tweets\n",
    "    # what does reduce_len do?\n",
    "    tokenizer = TweetTokenizer(preserve_case=False, strip_handles=True, reduce_len=True)\n",
    "    tweet_tokens = tokenizer.tokenize(tweets)\n",
    " \n",
    "    tweets_clean = []    \n",
    "    for word in tweet_tokens:\n",
    "        if (word not in stopwords_english and # remove stopwords\n",
    "              word not in emoticons and # remove emoticons\n",
    "                word not in string.punctuation): # remove punctuation\n",
    "            #tweets_clean.append(word)\n",
    "            #stem_word = stemmer.stem(word) \n",
    "            # stemming word : tend to remove 'e' from ending of some words. replaced by WordNetLemmatizer\n",
    "            wnl_word = wnl.lemmatize(word)\n",
    "            #tweets_clean.append(stem_word)\n",
    "            tweets_clean.append(wnl_word)\n",
    "\n",
    "    words_dictionary = dict([word, True] for word in tweets_clean)  \n",
    "\n",
    "    return words_dictionary"
   ]
  },
  {
   "cell_type": "code",
   "execution_count": 36,
   "metadata": {
    "collapsed": true
   },
   "outputs": [],
   "source": [
    "def tokenize(tweet):\n",
    "    tweet = re.sub(r'http\\S+', '', tweet)\n",
    "    tweet = re.sub(r\"#(\\w+)\", '', tweet)\n",
    "    tweet = re.sub(r\"@(\\w+)\", '', tweet)\n",
    "    tweet = re.sub(r'[^\\w\\s]', '', tweet)\n",
    "    tweet = tweet.strip().lower()\n",
    "    tokens = word_tokenize(tweet)\n",
    "    return tokens"
   ]
  },
  {
   "cell_type": "code",
   "execution_count": 37,
   "metadata": {
    "collapsed": true
   },
   "outputs": [],
   "source": [
    "def preprocess(s, lowercase=False):\n",
    "    tokens = tokenize(s)\n",
    "    if lowercase:\n",
    "        tokens = [token if emoticon_re.search(token) else token.lower() for token in tokens]\n",
    "    return tokens"
   ]
  },
  {
   "cell_type": "code",
   "execution_count": 38,
   "metadata": {
    "collapsed": false
   },
   "outputs": [
    {
     "name": "stdout",
     "output_type": "stream",
     "text": [
      "['let', 'a', 'mexican', 'replace', 'you', 'not', 'italian', 'as', 'it', 'was', 'supposed', 'as', 'next', 'potus', 'they', 'are', 'too', 'violent', 'i']\n",
      " Let a Mexican replace you, not Italian, as it was supposed, as next POTUS. They are too violent. I… \n"
     ]
    }
   ],
   "source": [
    "print(preprocess(text[50]))\n",
    "print(clean_tweets(text[50]))"
   ]
  },
  {
   "cell_type": "code",
   "execution_count": 39,
   "metadata": {
    "collapsed": false
   },
   "outputs": [
    {
     "name": "stdout",
     "output_type": "stream",
     "text": [
      "1249\n",
      "2895\n"
     ]
    }
   ],
   "source": [
    "print(len(banwords))\n",
    "print(len(norm_tweets_text))"
   ]
  },
  {
   "cell_type": "code",
   "execution_count": 40,
   "metadata": {
    "collapsed": false,
    "scrolled": true
   },
   "outputs": [
    {
     "name": "stdout",
     "output_type": "stream",
     "text": [
      "   id  Insult             Date  \\\n",
      "0   1       0  20120603163526Z   \n",
      "1   2       1  20120531215447Z   \n",
      "2   3       1  20120823164228Z   \n",
      "3   4       1  20120826010752Z   \n",
      "4   5       1  20120602223825Z   \n",
      "\n",
      "                                             Comment        Usage  \n",
      "0                 \"like this if you are a tribe fan\"  PrivateTest  \n",
      "1              \"you're idiot.......................\"  PrivateTest  \n",
      "2  \"I am a woman Babs, and the only \"war on women...  PrivateTest  \n",
      "3  \"WOW & YOU BENEFITTED SO MANY WINS THIS YEAR F...  PrivateTest  \n",
      "4  \"haha green me red you now loser whos winning ...  PrivateTest  \n",
      "\"People sell their grandmother for twenty bucks and you think they care about your feelings being hurt by posting your mugshot on the internet?  Really, think about it.  They sell medication to dying sick that's made up out of chalk and dirt and they don't lose sleep over it.  Suddenly we expect bunch of dotc um a55 holes to do what's right.  Get over it.  \"\n",
      "7947 2379\n"
     ]
    }
   ],
   "source": [
    "# let's import verification data from the Kaggle challenge\n",
    "ver_file = './kaggle_insult/impermium_verification_labels.csv'\n",
    "ver_data = pd.read_csv(ver_file,encoding='unicode-escape')\n",
    "print(ver_data.head(5))\n",
    "\n",
    "ver_data['Comment'] = [s.replace(\"\\\\\\\\\", \"\\\\\") for s in ver_data['Comment']]\n",
    "# iii)\n",
    "# remove non break space\n",
    "ver_data['Comment'] = [s.replace(\"\\\\xc2\\\\xa0\", \" \") for s in ver_data['Comment']]\n",
    "#remove space\n",
    "ver_data['Comment'] = [s.replace(\"\\\\xa0\", \" \") for s in ver_data['Comment']]\n",
    "ver_data['Comment'] = [s.replace(\"\\xa0\", \" \") for s in ver_data['Comment']]\n",
    "ver_data['Comment'] = [codecs.decode(s,'unicode-escape') for s in ver_data['Comment']]\n",
    "# iv)\n",
    "ver_data['Comment'] = [ud(s) for s in ver_data['Comment']]\n",
    "ver_data['Comment'] = [str(s) for s in ver_data['Comment']]\n",
    "print(ver_data['Comment'][732])\n",
    "\n",
    "insult_ver = ver_data.loc[ver_data['Insult']==1]\n",
    "normal_ver = ver_data.loc[ver_data['Insult']==0]\n",
    "\n",
    "insult_ver_set = []\n",
    "for tweet in insult_ver['Comment']:\n",
    "    insult_ver_set.append((bag_of_words(tweet), 'ins'))\n",
    "    \n",
    "norm_ver_set = []\n",
    "for tweet in normal_ver['Comment']:\n",
    "    norm_ver_set.append((bag_of_words(tweet), 'norm'))\n",
    "\n",
    "train_x = insult_train['Comment'][:].append(ver_data['Comment'][:1000],ignore_index=True)\n",
    "train_x = train_x.append(banwords['banword'][:900],ignore_index=True)\n",
    "train_y = insult_train['Insult'][:].append(ver_data['Insult'][:1000],ignore_index=True)\n",
    "train_y = train_y.append(banwords['Insult'][:900],ignore_index=True)\n",
    "\n",
    "norm_tweets_ = pd.DataFrame(norm_tweets_text,columns=['text'])\n",
    "norm_tweets_['insult'] = 0\n",
    "\n",
    "train_x = train_x.append(norm_tweets_['text'][:2100],ignore_index=True)\n",
    "train_y = train_y.append(norm_tweets_['insult'][:2100],ignore_index=True)\n",
    "\n",
    "ver_x = ver_data['Comment'][1000:]\n",
    "ver_y = ver_data['Insult'][1000:]\n",
    "ver_x = ver_x.append(banwords['banword'][900:],ignore_index=True)\n",
    "ver_y = ver_y.append(banwords['Insult'][900:],ignore_index=True)\n",
    "ver_x = ver_x.append(norm_tweets_['text'][2100:],ignore_index=True)\n",
    "ver_y = ver_y.append(norm_tweets_['insult'][2100:],ignore_index=True)\n",
    "\n",
    "print(len(train_y),len(ver_y))"
   ]
  },
  {
   "cell_type": "code",
   "execution_count": 41,
   "metadata": {
    "collapsed": false
   },
   "outputs": [],
   "source": [
    "def get_coefs(word, *arr):\n",
    "    try:\n",
    "        return word, np.asarray(arr, dtype='float32')\n",
    "    except:\n",
    "        return None, None\n",
    "    \n",
    "embeddings_index = dict(get_coefs(*o.strip().split()) for o in open('../GloVe/glove.twitter.27B.200d.txt'))\n",
    "\n",
    "embed_size=200\n",
    "for k in list(embeddings_index.keys()):\n",
    "    v = embeddings_index[k]\n",
    "    try:\n",
    "        if v.shape != (embed_size, ):\n",
    "            embeddings_index.pop(k)\n",
    "    except:\n",
    "        pass\n",
    "            \n",
    "#embeddings_index.pop(None)  "
   ]
  },
  {
   "cell_type": "code",
   "execution_count": 42,
   "metadata": {
    "collapsed": false
   },
   "outputs": [],
   "source": [
    "values = list(embeddings_index.values())\n",
    "all_embs = np.stack(values)\n",
    "\n",
    "emb_mean, emb_std = all_embs.mean(), all_embs.std()"
   ]
  },
  {
   "cell_type": "code",
   "execution_count": 43,
   "metadata": {
    "collapsed": true
   },
   "outputs": [],
   "source": [
    "# we try uni-/bigram (word / character) approach here following \n",
    "# https://ahmedbesbes.com/overview-and-benchmark-of-traditional-and-deep-learning-models-in-text-classification.html\n",
    "from sklearn.model_selection import train_test_split\n",
    "from sklearn.feature_extraction.text import TfidfVectorizer\n",
    "from sklearn.linear_model import LogisticRegression\n",
    "from sklearn.metrics import accuracy_score, auc, roc_auc_score\n",
    "from sklearn.externals import joblib\n",
    "\n",
    "import scipy\n",
    "from scipy.sparse import hstack"
   ]
  },
  {
   "cell_type": "code",
   "execution_count": 44,
   "metadata": {
    "collapsed": false
   },
   "outputs": [],
   "source": [
    "# Try TFIDF \n",
    "vectorizer_word = TfidfVectorizer(max_features=40000,\n",
    "                             min_df=5, \n",
    "                             max_df=0.5, \n",
    "                             analyzer='word', \n",
    "                             stop_words='english', \n",
    "                             ngram_range=(1, 2))\n",
    "\n",
    "vectorizer_word.fit(train_x)\n",
    "\n",
    "tfidf_matrix_word_train = vectorizer_word.transform(train_x)\n",
    "tfidf_matrix_word_test = vectorizer_word.transform(ver_x)"
   ]
  },
  {
   "cell_type": "code",
   "execution_count": 45,
   "metadata": {
    "collapsed": false
   },
   "outputs": [
    {
     "name": "stdout",
     "output_type": "stream",
     "text": [
      "convergence after 19 epochs took 0 seconds\n"
     ]
    },
    {
     "name": "stderr",
     "output_type": "stream",
     "text": [
      "[Parallel(n_jobs=1)]: Done   1 out of   1 | elapsed:    0.1s remaining:    0.0s\n",
      "[Parallel(n_jobs=1)]: Done   1 out of   1 | elapsed:    0.1s finished\n"
     ]
    },
    {
     "data": {
      "text/plain": [
       "LogisticRegression(C=1.0, class_weight=None, dual=False, fit_intercept=True,\n",
       "          intercept_scaling=1, max_iter=100, multi_class='ovr', n_jobs=1,\n",
       "          penalty='l2', random_state=None, solver='sag', tol=0.0001,\n",
       "          verbose=2, warm_start=False)"
      ]
     },
     "execution_count": 45,
     "metadata": {},
     "output_type": "execute_result"
    }
   ],
   "source": [
    "lr_word = LogisticRegression(solver='sag', verbose=2)\n",
    "lr_word.fit(tfidf_matrix_word_train, train_y)"
   ]
  },
  {
   "cell_type": "code",
   "execution_count": 46,
   "metadata": {
    "collapsed": false
   },
   "outputs": [],
   "source": [
    "joblib.dump(lr_word, 'lr_word_ngram.pkl')\n",
    "\n",
    "y_pred_word = lr_word.predict(tfidf_matrix_word_test)\n",
    "pd.DataFrame(y_pred_word, columns=['y_pred']).to_csv('lr_word_ngram.csv', index=False)"
   ]
  },
  {
   "cell_type": "code",
   "execution_count": 47,
   "metadata": {
    "collapsed": false
   },
   "outputs": [
    {
     "name": "stdout",
     "output_type": "stream",
     "text": [
      "0.715426649853\n"
     ]
    }
   ],
   "source": [
    "y_pred_word = pd.read_csv('lr_word_ngram.csv')\n",
    "print(accuracy_score(ver_y, y_pred_word))"
   ]
  },
  {
   "cell_type": "code",
   "execution_count": 48,
   "metadata": {
    "collapsed": false
   },
   "outputs": [
    {
     "name": "stdout",
     "output_type": "stream",
     "text": [
      "convergence after 17 epochs took 1 seconds\n"
     ]
    },
    {
     "name": "stderr",
     "output_type": "stream",
     "text": [
      "[Parallel(n_jobs=1)]: Done   1 out of   1 | elapsed:    1.0s remaining:    0.0s\n",
      "[Parallel(n_jobs=1)]: Done   1 out of   1 | elapsed:    1.0s finished\n"
     ]
    }
   ],
   "source": [
    "vectorizer_char = TfidfVectorizer(max_features=40000,\n",
    "                             min_df=5, \n",
    "                             max_df=0.5, \n",
    "                             analyzer='char', \n",
    "                             ngram_range=(1, 4))\n",
    "\n",
    "vectorizer_char.fit(train_x);\n",
    "\n",
    "tfidf_matrix_char_train = vectorizer_char.transform(train_x)\n",
    "tfidf_matrix_char_test = vectorizer_char.transform(ver_x)\n",
    "\n",
    "lr_char = LogisticRegression(solver='sag', verbose=2)\n",
    "lr_char.fit(tfidf_matrix_char_train, train_y)\n",
    "\n",
    "y_pred_char = lr_char.predict(tfidf_matrix_char_test)\n",
    "joblib.dump(lr_char, 'lr_char_ngram.pkl')\n",
    "\n",
    "pd.DataFrame(y_pred_char, columns=['y_pred']).to_csv('lr_char_ngram.csv', index=False)"
   ]
  },
  {
   "cell_type": "code",
   "execution_count": 49,
   "metadata": {
    "collapsed": false
   },
   "outputs": [
    {
     "name": "stdout",
     "output_type": "stream",
     "text": [
      "0.827658680118\n"
     ]
    }
   ],
   "source": [
    "y_pred_char = pd.read_csv('lr_char_ngram.csv')\n",
    "print(accuracy_score(ver_y, y_pred_char))"
   ]
  },
  {
   "cell_type": "code",
   "execution_count": 50,
   "metadata": {
    "collapsed": false
   },
   "outputs": [
    {
     "name": "stdout",
     "output_type": "stream",
     "text": [
      "{'2015': True, 'sheer': True, 'basis': True, '❤': True, 'optimism': True, 'heart': True, 'vote': True, '565': True, 'blue': True, 'tvpersonality': True, 'rajeevkhandelwal': True, 'terror': True}\n",
      "565 I vote for #RajeevKhandelwal The basis of optimism is sheer terror.💙💙💙💙❤❤❤ @RajBaddhan   @SabrasRadio   #TVPersonality2015  @BizAsia\n",
      "2298 5793\n"
     ]
    }
   ],
   "source": [
    "custom_tweet = \"RT @Twitter @chapagain Hello There! Have a great day. :) #good #morning http://chapagain.com.np\"\n",
    "#print (bag_of_words('565 I vote for #RajeevKhandelwal The basis of optimism is sheer terror.\\ud83d\\udc99\\ud83d\\udc99\\ud83d\\udc99\\ud83d\\udc99\\u2764\\u2764\\u2764 @RajBaddhan   @SabrasRadio   #TVPersonality2015  @BizAsia'))\n",
    "print(bag_of_words(('\"'+norm_tweets_text[-56]+'\"')))\n",
    "print(norm_tweets_text[-56])\n",
    "'''\n",
    "Output:\n",
    " \n",
    "{'great': True, 'good': True, 'morning': True, 'hello': True, 'day': True}\n",
    "'''\n",
    "# insult tweets feature set\n",
    "insult_tweets_set = []\n",
    "for tweet in insult['Comment']:\n",
    "    insult_tweets_set.append((bag_of_words(tweet), 'ins'))    \n",
    "for words in banwords['banword']:\n",
    "    insult_tweets_set.append((bag_of_words(words),'ins'))\n",
    "# normal tweets feature set\n",
    "normal_tweets_set = []\n",
    "for tweet in normal['Comment']:\n",
    "    normal_tweets_set.append((bag_of_words(tweet), 'norm'))\n",
    "for tweet in norm_tweets_text:\n",
    "    normal_tweets_set.append((bag_of_words(tweet), 'norm'))\n",
    "print(len(insult_tweets_set), len(normal_tweets_set))"
   ]
  },
  {
   "cell_type": "code",
   "execution_count": 51,
   "metadata": {
    "collapsed": false
   },
   "outputs": [
    {
     "name": "stdout",
     "output_type": "stream",
     "text": [
      "({'2015': True, 'sheer': True, 'basis': True, '❤': True, 'optimism': True, 'heart': True, 'vote': True, '565': True, 'blue': True, 'tvpersonality': True, 'rajeevkhandelwal': True, 'terror': True}, 'norm')\n"
     ]
    }
   ],
   "source": [
    "print(normal_tweets_set[-56])"
   ]
  },
  {
   "cell_type": "code",
   "execution_count": 52,
   "metadata": {
    "collapsed": false
   },
   "outputs": [
    {
     "name": "stdout",
     "output_type": "stream",
     "text": [
      "1235 9091\n",
      "2298 5793\n",
      "1077 1158\n"
     ]
    }
   ],
   "source": [
    "# try n-fold (minibatch) later\n",
    "from random import shuffle, seed\n",
    "seed(10)\n",
    "#shuffle(insult_tweets_set)\n",
    "#shuffle(normal_tweets_set)\n",
    " \n",
    "#test_set = insult_tweets_set[:1000] + normal_tweets_set[:1000]\n",
    "#train_set = insult_tweets_set[1000:] + normal_tweets_set[1000:]\n",
    "train_set = insult_tweets_set + normal_tweets_set + insult_ver_set[:500] + norm_ver_set[:500]\n",
    "#train_set = normal_tweetw_set\n",
    "test_set = insult_ver_set[500:] + norm_ver_set[500:]\n",
    "print(len(test_set),  len(train_set)) # Output: (2000, 8000)\n",
    "print(len(insult_tweets_set), len(normal_tweets_set))\n",
    "print(len(insult_ver_set),len(norm_ver_set))"
   ]
  },
  {
   "cell_type": "code",
   "execution_count": 53,
   "metadata": {
    "collapsed": false
   },
   "outputs": [],
   "source": [
    "#print(train_set)"
   ]
  },
  {
   "cell_type": "markdown",
   "metadata": {},
   "source": [
    "# Word embedding: efficient vectorization of words\n",
    "By vectorizing words, we can reduce the sparcity and dimensionality of the feature space. \n",
    "The representation is normally ~ 100-1000 dimension. The basic concept behind it is that words used in\n",
    "similar context have similar meanings.\n",
    "## Embedding layer\n",
    "Using NN for language modeling or document classification. \n",
    "## Word2vec\n",
    "probably not easy with twitter texts as individual tweets are very short and thus predicting word from the surrounding (both for CBoW and Cont. skip-gram) would be hard? : not much freedom in choosing the sliding window size...\n",
    "## GloVe\n",
    "Word2Vec with additional information about the context from the whole corpus. Provides \"Unsupervised\" clustering of vocab, purely based on a large corpus of data. We use pre-trained GloVe vocabulary vector library collected from Twitter data from https://github.com/stanfordnlp/GloVe (2B tweets, 27B tokens, 1.2M vocab, uncased, 25d, 50d, 100d, & 200d vectors, 1.42 GB).\n",
    "\n",
    "Reference : https://machinelearningmastery.com/what-are-word-embeddings/\n",
    "\n",
    "### Vader sentiment analysis (pos,neg)- how useful is it? Let's see!"
   ]
  },
  {
   "cell_type": "code",
   "execution_count": 54,
   "metadata": {
    "collapsed": false
   },
   "outputs": [],
   "source": [
    "from vaderSentiment.vaderSentiment import SentimentIntensityAnalyzer\n",
    "analyser = SentimentIntensityAnalyzer()\n",
    "#AttributeError: 'SentimentIntensityAnalyzer' object has no attribute 'polarity_score'"
   ]
  },
  {
   "cell_type": "code",
   "execution_count": 55,
   "metadata": {
    "collapsed": false
   },
   "outputs": [
    {
     "name": "stderr",
     "output_type": "stream",
     "text": [
      "/home/ijee/anaconda3/lib/python3.5/site-packages/nltk/twitter/__init__.py:20: UserWarning: The twython library has not been installed. Some functionality from the twitter package will not be available.\n",
      "  warnings.warn(\"The twython library has not been installed. \"\n"
     ]
    },
    {
     "name": "stdout",
     "output_type": "stream",
     "text": [
      "0.6444232602478551\n",
      "\"Is that it??  your sum total to any conversation is first abuse and then calling them a troll..   You are a typical socialist idiot.  Keep up your non existent class warfare, it is as pointless as you.\"\n"
     ]
    }
   ],
   "source": [
    "from nltk.sentiment.vader import SentimentIntensityAnalyzer\n",
    "analyser = SentimentIntensityAnalyzer()\n",
    "cnt = 0\n",
    "insult_cmt = insult.reset_index()\n",
    "for i in range(len(insult_cmt)):\n",
    "    snt = analyser.polarity_scores(insult_cmt['Comment'][i])\n",
    "    if snt.get('neg') > snt.get('pos'):\n",
    "        cnt += 1\n",
    "#        print(i,snt)\n",
    "print(cnt/len(insult))\n",
    "print(insult_cmt['Comment'][11])\n",
    "# only about 11% of the ban words are categorized as having negative connotation according to Vader.\n",
    "# Lord Vader is in the end not as grandiose as the name promises :o\n",
    "# only 9% of the insult comments from Kaggle competition are negative if neg > .5 is counted.\n",
    "# (when negative > positive: 63% : this is similar to our NBC result)."
   ]
  },
  {
   "cell_type": "code",
   "execution_count": 56,
   "metadata": {
    "collapsed": false
   },
   "outputs": [
    {
     "name": "stdout",
     "output_type": "stream",
     "text": [
      "!!!NaiveBayesClassifier!!!\n"
     ]
    },
    {
     "name": "stderr",
     "output_type": "stream",
     "text": [
      "/home/ijee/anaconda3/lib/python3.5/site-packages/sklearn/cross_validation.py:44: DeprecationWarning: This module was deprecated in version 0.18 in favor of the model_selection module into which all the refactored classes and functions are moved. Also note that the interface of the new CV iterators are different from that of this module. This module will be removed in 0.20.\n",
      "  \"This module will be removed in 0.20.\", DeprecationWarning)\n"
     ]
    },
    {
     "name": "stdout",
     "output_type": "stream",
     "text": [
      "0.6720647773279352\n",
      "Most Informative Features\n",
      "               direction = True             norm : ins    =     33.9 : 1.0\n",
      "                      na = True             norm : ins    =     28.3 : 1.0\n",
      "                    cunt = True              ins : norm   =     21.7 : 1.0\n",
      "                  result = True             norm : ins    =     21.2 : 1.0\n",
      "                 hundred = True             norm : ins    =     19.4 : 1.0\n",
      "                       4 = True             norm : ins    =     18.9 : 1.0\n",
      "                   crawl = True              ins : norm   =     18.7 : 1.0\n",
      "                  filthy = True              ins : norm   =     17.2 : 1.0\n",
      "                      ng = True             norm : ins    =     16.5 : 1.0\n",
      "                  douche = True              ins : norm   =     14.2 : 1.0\n",
      "None\n",
      "!!!MaxEntropyClassifier!!!\n",
      "0.5813765182186235\n",
      "  -0.000 direction==True and label is 'ins'\n",
      "  -0.000 na==True and label is 'ins'\n",
      "  -0.000 result==True and label is 'ins'\n",
      "  -0.000 hundred==True and label is 'ins'\n",
      "  -0.000 ng==True and label is 'ins'\n",
      "  -0.000 4==True and label is 'ins'\n",
      "  -0.000 de==True and label is 'ins'\n",
      "  -0.000 gender==True and label is 'ins'\n",
      "  -0.000 set==True and label is 'ins'\n",
      "  -0.000 sa==True and label is 'ins'\n",
      "None\n",
      "!!!LinearSVM!!!\n",
      "0.6728744939271255\n"
     ]
    }
   ],
   "source": [
    "from nltk import classify\n",
    "import nltk.classify.util, nltk.metrics\n",
    "from nltk.classify import NaiveBayesClassifier, MaxentClassifier, SklearnClassifier, DecisionTreeClassifier\n",
    "from sklearn import cross_validation\n",
    "from sklearn.svm import LinearSVC, SVC\n",
    "import itertools\n",
    "from nltk.collocations import BigramCollocationFinder\n",
    "from nltk.metrics import BigramAssocMeasures\n",
    "\n",
    "print(\"!!!NaiveBayesClassifier!!!\")\n",
    "nbclassifier = NaiveBayesClassifier.train(train_set)\n",
    "accuracy = classify.accuracy(nbclassifier, test_set)\n",
    "print(accuracy) # Output: 0.765\n",
    "print (nbclassifier.show_most_informative_features(10)) \n",
    "\n",
    "print(\"!!!MaxEntropyClassifier!!!\")\n",
    "classifier = MaxentClassifier.train(train_set, 'GIS', trace=0, encoding=None, labels=None, gaussian_prior_sigma=0, max_iter = 1)\n",
    "accuracy = nltk.classify.util.accuracy(classifier, test_set)\n",
    "print(accuracy)\n",
    "print(classifier.show_most_informative_features(10))\n",
    "\n",
    "# normal SVM takes long to run so we comment out this part. \n",
    "#print(\"!!!SVM!!!\")\n",
    "#svmclassifier = SklearnClassifier(SVC(kernel='linear',probability=True), sparse=False)\n",
    "#svmclassifier.train(train_set)\n",
    "#accuracy = nltk.classify.util.accuracy(svmclassifier, test_set)\n",
    "#print(accuracy)\n",
    "\n",
    "print(\"!!!LinearSVM!!!\")\n",
    "lsvmclassifier = SklearnClassifier(LinearSVC(), sparse=False)\n",
    "lsvmclassifier.train(train_set)\n",
    "accuracy = nltk.classify.util.accuracy(lsvmclassifier, test_set)\n",
    "print(accuracy)\n",
    "# to avoid <?> being one of the main features, we implement emoji (utf-16 surrogate) -> text description function (emoji_finder)"
   ]
  },
  {
   "cell_type": "code",
   "execution_count": 57,
   "metadata": {
    "collapsed": false
   },
   "outputs": [
    {
     "name": "stdout",
     "output_type": "stream",
     "text": [
      "{'mp': True, 'racist': True, 'racism': True, 'university': True, 'town': True, 'uct': True, 'cape': True, 'academ': True, 'lash': True, '...': True, 'parliament': True, '–': True, 'academic': True}\n",
      "norm\n",
      "norm\n"
     ]
    }
   ],
   "source": [
    "custom_tweet = \"I hated the film. It was a disaster. Poor direction, bad acting.\"\n",
    "custom_tweet_set = bag_of_words(agg_tweets[30]['text'])\n",
    "print(custom_tweet_set)\n",
    "print (lsvmclassifier.classify(custom_tweet_set)) # Output: neg\n",
    "# Negative tweet correctly classified as negative\n",
    "\n",
    "# probability result\n",
    "#prob_result = lsvmclassifier.prob_classify(custom_tweet_set)\n",
    "#print (prob_result) # Output: <ProbDist with 2 samples>\n",
    "#print (prob_result.max()) # Output: neg\n",
    "#print (prob_result.prob(\"ins\")) # Output: 0.941844352481\n",
    "#print (prob_result.prob(\"norm\")) # Output: 0.0581556475194\n",
    " \n",
    " \n",
    "#custom_tweet = \"It was a wonderful and amazing movie. I loved it. Best direction, good acting.\"\n",
    "#custom_tweet_set = bag_of_words(custom_tweet)\n",
    " \n",
    "print (lsvmclassifier.classify(custom_tweet_set)) # Output: pos\n",
    "# Positive tweet correctly classified as positive\n",
    " \n",
    "# probability result\n",
    "#prob_result = svmclassifier.prob_classify(custom_tweet_set)\n",
    "#print (prob_result) # Output: <ProbDist with 2 samples>\n",
    "#print (prob_result.max()) # Output: pos\n",
    "#print (prob_result.prob(\"ins\")) # Output: 0.00131055449755\n",
    "#print (prob_result.prob(\"norm\")) # Output: 0.998689445502"
   ]
  },
  {
   "cell_type": "code",
   "execution_count": 58,
   "metadata": {
    "collapsed": false
   },
   "outputs": [],
   "source": [
    "MAX_NB_WORDS = 30000\n",
    "tokenizer = Tokenizer(num_words=MAX_NB_WORDS,char_level=False)\n",
    "\n",
    "#insult['tokens'] = insult.Comment.map(tokenize)\n",
    "#insult['cleaned_text'] = insult['tokens'].map(lambda tokens: ' '.join(tokens))\n",
    "#print(insult['cleaned_text'][15])\n",
    "#tokenizer.fit_on_texts(insult['cleaned_text'])\n",
    "#print(tokenizer.texts_to_sequences([insult['cleaned_text'][15]]))"
   ]
  },
  {
   "cell_type": "code",
   "execution_count": 59,
   "metadata": {
    "collapsed": false
   },
   "outputs": [
    {
     "name": "stdout",
     "output_type": "stream",
     "text": [
      "\"I bet the songs on the upcoming CD were written for This twit. The message was she is a progressive. She knows where her  bread is buttered.\n",
      "\n",
      "I have never even heard of her.\n",
      "\n",
      "I bet if she had to write her own material. Ms Hoe would be a major disappointment to her idiotic fans.\n",
      "\n",
      "What was her message with the exorcism? CBS management look like total knuckleheads. No wonder their ratings suck.\n",
      "\n",
      "Bring back garage bands. They play instruments, write their own material & perform to their fans.\n",
      "\n",
      "Most of the music truly sucks today. Record executives don't even try to find pure raw talent.. It seems they try to clone their stars. Visual imagery for shock value over solid Rock-n-Roll.\n",
      "\n",
      "\"\n",
      "[7, 535, 1, 3364, 16, 1, 4958, 10588, 93, 1163, 14, 21, 6654, 1, 1355, 36, 99, 8, 4, 2155, 99, 445, 137, 81, 10589, 8, 10590, 7, 19, 110, 97, 713, 6, 81, 7, 535, 31, 99, 116, 3, 1002, 81, 146, 2209, 1434, 2592, 57, 20, 4, 1578, 4688, 3, 81, 940, 269, 29, 36, 81, 1355, 22, 1, 10591, 6655, 4959, 127, 23, 1016, 10592, 41, 596, 61, 2912, 218, 546, 92, 4905, 6656, 24, 386, 10593, 1002, 61, 146, 2209, 1949, 3, 61, 269, 151, 6, 1, 582, 784, 922, 295, 826, 4808, 43, 97, 212, 3, 360, 1104, 2320, 1343, 13, 609, 24, 212, 3, 5872, 61, 2593, 6311, 10594, 14, 1161, 958, 91, 1856, 875, 256, 2321]\n",
      "[[17]]\n"
     ]
    }
   ],
   "source": [
    "train_x_cl = []\n",
    "for elem in train_x:\n",
    "    train_x_cl.append(clean_tweets_glove(elem))\n",
    "test_x_cl = []\n",
    "for elem in ver_x:\n",
    "    test_x_cl.append(clean_tweets_glove(elem))\n",
    "tokenizer.fit_on_texts(train_x_cl)\n",
    "\n",
    "print(train_x_cl[987])\n",
    "train_sequences = tokenizer.texts_to_sequences(train_x_cl)\n",
    "test_sequences = tokenizer.texts_to_sequences(test_x_cl)\n",
    "print(train_sequences[987])\n",
    "print(tokenizer.texts_to_sequences([\"Aldubarkads <url>\"]))"
   ]
  },
  {
   "cell_type": "code",
   "execution_count": 60,
   "metadata": {
    "collapsed": true
   },
   "outputs": [],
   "source": [
    "MAX_LENGTH = 35\n",
    "\n",
    "padded_train_sequences = pad_sequences(train_sequences, maxlen=MAX_LENGTH)\n",
    "padded_test_sequences = pad_sequences(test_sequences, maxlen=MAX_LENGTH)"
   ]
  },
  {
   "cell_type": "code",
   "execution_count": 61,
   "metadata": {
    "collapsed": false,
    "scrolled": true
   },
   "outputs": [],
   "source": [
    "#print(word_index)"
   ]
  },
  {
   "cell_type": "code",
   "execution_count": 62,
   "metadata": {
    "collapsed": false
   },
   "outputs": [
    {
     "name": "stdout",
     "output_type": "stream",
     "text": [
      "4114\n",
      "Train on 7947 samples, validate on 2379 samples\n",
      "Epoch 1/15\n",
      "7680/7947 [===========================>..] - ETA: 1s - loss: 3.2174 - acc: 0.7017Epoch 00000: val_acc improved from -inf to 0.74149, saving model to ./models/rnn_with_embeddings/weights-improvement-00-0.7415-200.hdf5\n",
      "7947/7947 [==============================] - 45s - loss: 3.2016 - acc: 0.7047 - val_loss: 2.7292 - val_acc: 0.7415\n",
      "Epoch 2/15\n",
      "7680/7947 [===========================>..] - ETA: 1s - loss: 2.3931 - acc: 0.7973Epoch 00001: val_acc improved from 0.74149 to 0.75452, saving model to ./models/rnn_with_embeddings/weights-improvement-01-0.7545-200.hdf5\n",
      "7947/7947 [==============================] - 44s - loss: 2.3819 - acc: 0.7970 - val_loss: 2.0585 - val_acc: 0.7545\n",
      "Epoch 3/15\n",
      "7680/7947 [===========================>..] - ETA: 1s - loss: 1.7952 - acc: 0.8139Epoch 00002: val_acc improved from 0.75452 to 0.80412, saving model to ./models/rnn_with_embeddings/weights-improvement-02-0.8041-200.hdf5\n",
      "7947/7947 [==============================] - 45s - loss: 1.7868 - acc: 0.8148 - val_loss: 1.5469 - val_acc: 0.8041\n",
      "Epoch 4/15\n",
      "7680/7947 [===========================>..] - ETA: 1s - loss: 1.3408 - acc: 0.8469Epoch 00003: val_acc improved from 0.80412 to 0.83060, saving model to ./models/rnn_with_embeddings/weights-improvement-03-0.8306-200.hdf5\n",
      "7947/7947 [==============================] - 45s - loss: 1.3354 - acc: 0.8476 - val_loss: 1.1908 - val_acc: 0.8306\n",
      "Epoch 5/15\n",
      "7680/7947 [===========================>..] - ETA: 1s - loss: 1.0230 - acc: 0.8741Epoch 00004: val_acc improved from 0.83060 to 0.85498, saving model to ./models/rnn_with_embeddings/weights-improvement-04-0.8550-200.hdf5\n",
      "7947/7947 [==============================] - 44s - loss: 1.0190 - acc: 0.8737 - val_loss: 0.9358 - val_acc: 0.8550\n",
      "Epoch 6/15\n",
      "7680/7947 [===========================>..] - ETA: 1s - loss: 0.7864 - acc: 0.8973Epoch 00005: val_acc did not improve\n",
      "7947/7947 [==============================] - 44s - loss: 0.7838 - acc: 0.8969 - val_loss: 0.7810 - val_acc: 0.8537\n",
      "Epoch 7/15\n",
      "7680/7947 [===========================>..] - ETA: 1s - loss: 0.6250 - acc: 0.9133Epoch 00006: val_acc improved from 0.85498 to 0.85960, saving model to ./models/rnn_with_embeddings/weights-improvement-06-0.8596-200.hdf5\n",
      "7947/7947 [==============================] - 45s - loss: 0.6233 - acc: 0.9134 - val_loss: 0.6726 - val_acc: 0.8596\n",
      "Epoch 8/15\n",
      "7680/7947 [===========================>..] - ETA: 1s - loss: 0.5017 - acc: 0.9255Epoch 00007: val_acc improved from 0.85960 to 0.86171, saving model to ./models/rnn_with_embeddings/weights-improvement-07-0.8617-200.hdf5\n",
      "7947/7947 [==============================] - 44s - loss: 0.4987 - acc: 0.9268 - val_loss: 0.5966 - val_acc: 0.8617\n",
      "Epoch 9/15\n",
      "7680/7947 [===========================>..] - ETA: 1s - loss: 0.4176 - acc: 0.9319Epoch 00008: val_acc did not improve\n",
      "7947/7947 [==============================] - 44s - loss: 0.4167 - acc: 0.9320 - val_loss: 0.5409 - val_acc: 0.8567\n",
      "Epoch 10/15\n",
      "7680/7947 [===========================>..] - ETA: 1s - loss: 0.3473 - acc: 0.9358Epoch 00009: val_acc did not improve\n",
      "7947/7947 [==============================] - 44s - loss: 0.3463 - acc: 0.9357 - val_loss: 0.5141 - val_acc: 0.8617\n",
      "Epoch 11/15\n",
      "7680/7947 [===========================>..] - ETA: 1s - loss: 0.2955 - acc: 0.9462Epoch 00010: val_acc improved from 0.86171 to 0.86633, saving model to ./models/rnn_with_embeddings/weights-improvement-10-0.8663-200.hdf5\n",
      "7947/7947 [==============================] - 44s - loss: 0.2941 - acc: 0.9465 - val_loss: 0.5030 - val_acc: 0.8663\n",
      "Epoch 12/15\n",
      "7680/7947 [===========================>..] - ETA: 1s - loss: 0.2446 - acc: 0.9566Epoch 00011: val_acc did not improve\n",
      "7947/7947 [==============================] - 44s - loss: 0.2455 - acc: 0.9556 - val_loss: 0.5445 - val_acc: 0.8575\n",
      "Epoch 13/15\n",
      "7680/7947 [===========================>..] - ETA: 1s - loss: 0.2064 - acc: 0.9637Epoch 00012: val_acc did not improve\n",
      "7947/7947 [==============================] - 44s - loss: 0.2059 - acc: 0.9639 - val_loss: 0.5066 - val_acc: 0.8630\n",
      "Epoch 14/15\n",
      "7680/7947 [===========================>..] - ETA: 1s - loss: 0.1778 - acc: 0.9690Epoch 00013: val_acc did not improve\n",
      "7947/7947 [==============================] - 44s - loss: 0.1779 - acc: 0.9687 - val_loss: 0.5562 - val_acc: 0.8562\n",
      "Epoch 15/15\n",
      "7680/7947 [===========================>..] - ETA: 1s - loss: 0.1576 - acc: 0.9710Epoch 00014: val_acc did not improve\n",
      "7947/7947 [==============================] - 43s - loss: 0.1578 - acc: 0.9709 - val_loss: 0.5563 - val_acc: 0.8546\n"
     ]
    }
   ],
   "source": [
    "from keras import regularizers\n",
    "word_index = tokenizer.word_index\n",
    "nb_words = MAX_NB_WORDS\n",
    "embedding_matrix = np.random.normal(emb_mean, emb_std, (nb_words, embed_size))\n",
    "\n",
    "oov = 0\n",
    "for word, i in word_index.items():\n",
    "    if i >= MAX_NB_WORDS: continue\n",
    "    embedding_vector = embeddings_index.get(word)\n",
    "    if embedding_vector is not None:\n",
    "        embedding_matrix[i] = embedding_vector\n",
    "    else:\n",
    "        oov += 1\n",
    "\n",
    "print(oov)\n",
    "\n",
    "embedding_dim = 200\n",
    "def get_rnn_model_with_glove_embeddings():\n",
    "    # implement following https://2018.eswc-conferences.org/wp-content/uploads/2018/02/ESWC2018_paper_48.pdf?\n",
    "    inp = Input(shape=(MAX_LENGTH, ))\n",
    "    x = Embedding(MAX_NB_WORDS, embedding_dim, weights=[embedding_matrix], input_length=MAX_LENGTH, trainable=True)(inp)\n",
    "    x = SpatialDropout1D(0.2)(x)\n",
    "    #x = Bidirectional(GRU(64, return_sequences=True))(x)\n",
    "    # since we don't need a long memory (tweets are short!), GRU works faster and more efficiently \n",
    "    # compared to LSTM.\n",
    "    x = Bidirectional(GRU(64, return_sequences=True,dropout=0.1,recurrent_dropout=0.1,kernel_regularizer=regularizers.l2(0.01)))(x)\n",
    "    x = Conv1D(100, kernel_size = 3, padding = \"valid\", kernel_initializer = \"glorot_uniform\")(x)\n",
    "    avg_pool = GlobalAveragePooling1D()(x)\n",
    "    max_pool = GlobalMaxPooling1D()(x)\n",
    "#    conc = concatenate([avg_pool, max_pool])\n",
    "#    outp = Dense(1, activation=\"sigmoid\")(conc)\n",
    "    x = concatenate([avg_pool, max_pool])\n",
    "    x = Dense(64, activation='relu',kernel_regularizer=regularizers.l2(0.01))(x)\n",
    "    x = Dropout(0.1)(x)\n",
    "    outp = Dense(1,activation=\"sigmoid\")(x)\n",
    "    model = Model(inputs=inp, outputs=outp)\n",
    "    model.compile(loss='binary_crossentropy',\n",
    "                  optimizer='adam',\n",
    "                  metrics=['accuracy'])\n",
    "    return model\n",
    "\n",
    "#sequence_input = Input(shape=(maxlen, ))\n",
    "#x = Embedding(max_features, embed_size, weights=[embedding_matrix],trainable = False)(sequence_input)\n",
    "#x = SpatialDropout1D(0.2)(x)\n",
    "#x = Bidirectional(GRU(128, return_sequences=True,dropout=0.1,recurrent_dropout=0.1))(x)\n",
    "#x = Conv1D(64, kernel_size = 3, padding = \"valid\", kernel_initializer = \"glorot_uniform\")(x)\n",
    "#avg_pool = GlobalAveragePooling1D()(x)\n",
    "#max_pool = GlobalMaxPooling1D()(x)\n",
    "#x = concatenate([avg_pool, max_pool]) \n",
    "# x = Dense(128, activation='relu')(x)\n",
    "# x = Dropout(0.1)(x)\n",
    "#preds = Dense(6, activation=\"sigmoid\")(x)\n",
    "#model = Model(sequence_input, preds)\n",
    "#model.compile(loss='binary_crossentropy',optimizer=Adam(lr=1e-3),metrics=['accuracy'])\n",
    "\n",
    "\n",
    "\n",
    "rnn_model_with_embeddings = get_rnn_model_with_glove_embeddings()\n",
    "\n",
    "filepath=\"./models/rnn_with_embeddings/weights-improvement-{epoch:02d}-{val_acc:.4f}-%03d.hdf5\"%(embedding_dim)\n",
    "checkpoint = ModelCheckpoint(filepath, monitor='val_acc', verbose=1, save_best_only=True, mode='max')\n",
    "\n",
    "batch_size = 512\n",
    "epochs = 15\n",
    "\n",
    "\n",
    "history = rnn_model_with_embeddings.fit(x=padded_train_sequences, \n",
    "                    y=train_y, \n",
    "                    validation_data=(padded_test_sequences, ver_y), \n",
    "                    batch_size=batch_size, \n",
    "                    callbacks=[checkpoint], \n",
    "                    epochs=epochs, \n",
    "                    verbose=1)\n"
   ]
  },
  {
   "cell_type": "code",
   "execution_count": 63,
   "metadata": {
    "collapsed": true
   },
   "outputs": [],
   "source": [
    "def plot_history(history):\n",
    "    #https://www.kaggle.com/danbrice/keras-plot-history-full-report-and-grid-search and modified\n",
    "    loss_list = [s for s in history.history.keys() if 'loss' in s and 'val' not in s]\n",
    "    val_loss_list = [s for s in history.history.keys() if 'loss' in s and 'val' in s]\n",
    "    acc_list = [s for s in history.history.keys() if 'acc' in s and 'val' not in s]\n",
    "    val_acc_list = [s for s in history.history.keys() if 'acc' in s and 'val' in s]\n",
    "    \n",
    "    if len(loss_list) == 0:\n",
    "        print('Loss is missing in history')\n",
    "        return \n",
    "    \n",
    "    ## As loss always exists\n",
    "    epochs = range(1,len(history.history[loss_list[0]]) + 1)\n",
    "    \n",
    "    ## Loss\n",
    "    plt.figure(1)\n",
    "    for l in loss_list:\n",
    "        plt.plot(epochs, history.history[l], 'b', label='Training loss (' + str(str(format(history.history[l][-1],'.5f'))+')'))\n",
    "    for l in val_loss_list:\n",
    "        plt.plot(epochs, history.history[l], 'g', label='Validation loss (' + str(str(format(history.history[l][-1],'.5f'))+')'))\n",
    "    \n",
    "    plt.title('Loss')\n",
    "    plt.xlabel('Epochs')\n",
    "    plt.ylabel('Loss')\n",
    "    plt.legend()\n",
    "    \n",
    "    ## Accuracy\n",
    "    plt.figure(2)\n",
    "    for l in acc_list:\n",
    "        plt.plot(epochs, history.history[l], 'b', label='Training accuracy (' + str(format(history.history[l][-1],'.5f'))+')')\n",
    "    for l in val_acc_list:    \n",
    "        plt.plot(epochs, history.history[l], 'g', label='Validation accuracy (' + str(format(history.history[l][-1],'.5f'))+')')\n",
    "\n",
    "    plt.title('Accuracy')\n",
    "    plt.xlabel('Epochs')\n",
    "    plt.ylabel('Accuracy')\n",
    "    plt.legend(loc='lower right')\n",
    "    plt.show()"
   ]
  },
  {
   "cell_type": "code",
   "execution_count": 65,
   "metadata": {
    "collapsed": false
   },
   "outputs": [
    {
     "data": {
      "image/png": "[encoded data removed]",
      "text/plain": [
       "<matplotlib.figure.Figure at 0x7f5c1c794940>"
      ]
     },
     "metadata": {},
     "output_type": "display_data"
    },
    {
     "data": {
      "image/png": "[encoded data removed]",
      "text/plain": [
       "<matplotlib.figure.Figure at 0x7f5c1c76c7b8>"
      ]
     },
     "metadata": {},
     "output_type": "display_data"
    }
   ],
   "source": [
    "plot_history(history)\n",
    "# check the network performance: overfitting\n",
    "# regularization for GRU?\n",
    "# LSTM?"
   ]
  },
  {
   "cell_type": "code",
   "execution_count": 66,
   "metadata": {
    "collapsed": false
   },
   "outputs": [
    {
     "name": "stdout",
     "output_type": "stream",
     "text": [
      "2379/2379 [==============================] - 5s     \n"
     ]
    }
   ],
   "source": [
    "best_rnn_model_with_glove_embeddings = load_model('./models/rnn_with_embeddings/weights-improvement-10-0.8663-200.hdf5')\n",
    "\n",
    "y_pred_rnn_with_glove_embeddings = best_rnn_model_with_glove_embeddings.predict(\n",
    "    padded_test_sequences, verbose=1, batch_size=2048)\n",
    "\n",
    "y_pred_rnn_with_glove_embeddings = pd.DataFrame(y_pred_rnn_with_glove_embeddings, columns=['prediction'])\n",
    "y_pred_rnn_with_glove_embeddings['prediction'] = y_pred_rnn_with_glove_embeddings['prediction'].map(lambda p: \n",
    "                                                                                                    1 if p >= 0.5 else 0)\n",
    "y_pred_rnn_with_glove_embeddings.to_csv('./predictions/y_pred_rnn_with_glove_embeddings.csv', index=False)"
   ]
  },
  {
   "cell_type": "code",
   "execution_count": 67,
   "metadata": {
    "collapsed": false
   },
   "outputs": [
    {
     "name": "stdout",
     "output_type": "stream",
     "text": [
      "0.866330390921\n"
     ]
    }
   ],
   "source": [
    "y_pred_rnn_with_glove_embeddings = pd.read_csv('./predictions/y_pred_rnn_with_glove_embeddings.csv')\n",
    "print(accuracy_score(ver_y, y_pred_rnn_with_glove_embeddings))"
   ]
  },
  {
   "cell_type": "code",
   "execution_count": 68,
   "metadata": {
    "collapsed": false
   },
   "outputs": [],
   "source": [
    "tweets.extend(tweets2)\n",
    "tweets.extend(tweets3)\n",
    "tweets.extend(tweets4)\n",
    "# the final data is streaming data without including DT.\n",
    "tweets.extend(tweets5)\n",
    "tweets.extend(tweets6)\n",
    "\n",
    "text = [tweets[i]['text'] for i in range(150000)]\n",
    "rep_to = [tweets[i]['in_reply_to_user_id'] for i in range(150000)]"
   ]
  },
  {
   "cell_type": "code",
   "execution_count": 69,
   "metadata": {
    "collapsed": false
   },
   "outputs": [
    {
     "name": "stdout",
     "output_type": "stream",
     "text": [
      " consider urself lucky cuz my love for you is endless and I have high standards for boys. Be grateful. <url> \n",
      "[1018, 951, 871, 48, 107, 14, 2, 8, 5273, 5, 7, 19, 470, 3180, 14, 754, 20, 4154, 17]\n"
     ]
    }
   ],
   "source": [
    "cleantext = []\n",
    "for tweet in text:\n",
    "    cleantext.append(clean_tweets_glove(tweet))\n",
    "text_sequences = tokenizer.texts_to_sequences(cleantext)\n",
    "print((cleantext[10]))\n",
    "print((text_sequences[10]))\n",
    "padded_text_sequences = pad_sequences(text_sequences, maxlen=MAX_LENGTH)"
   ]
  },
  {
   "cell_type": "code",
   "execution_count": 70,
   "metadata": {
    "collapsed": false
   },
   "outputs": [
    {
     "name": "stdout",
     "output_type": "stream",
     "text": [
      "150000/150000 [==============================] - 358s   \n"
     ]
    }
   ],
   "source": [
    "best_rnn_model_with_glove_embeddings = load_model('./models/rnn_with_embeddings/weights-improvement-10-0.8663-200.hdf5')\n",
    "\n",
    "y_pred_rnn_with_glove_embeddings = best_rnn_model_with_glove_embeddings.predict(\n",
    "    padded_text_sequences, verbose=1, batch_size=2048)\n",
    "\n",
    "y_pred_rnn_with_glove_embeddings = pd.DataFrame(y_pred_rnn_with_glove_embeddings, columns=['prediction'])\n",
    "y_pred_rnn_with_glove_embeddings['prediction'] = y_pred_rnn_with_glove_embeddings['prediction'].map(lambda p: \n",
    "                                                                                                    1 if p >= 0.5 else 0)\n",
    "y_pred_rnn_with_glove_embeddings.to_csv('./predictions/tweets_rnn_with_glove_embeddings.csv', index=False)"
   ]
  },
  {
   "cell_type": "code",
   "execution_count": 71,
   "metadata": {
    "collapsed": false
   },
   "outputs": [],
   "source": [
    "y_pred_rnn_with_glove_embeddings['user_id'] = rep_to"
   ]
  },
  {
   "cell_type": "code",
   "execution_count": 72,
   "metadata": {
    "collapsed": false
   },
   "outputs": [],
   "source": [
    "data = y_pred_rnn_with_glove_embeddings"
   ]
  },
  {
   "cell_type": "code",
   "execution_count": 73,
   "metadata": {
    "collapsed": false
   },
   "outputs": [],
   "source": [
    "tweet_set = []\n",
    "for tweet in text:\n",
    "    tweet_set.append(bag_of_words(tweet))"
   ]
  },
  {
   "cell_type": "code",
   "execution_count": 74,
   "metadata": {
    "collapsed": false
   },
   "outputs": [],
   "source": [
    "lsvmdata = nbclassifier.classify_many(tweet_set)"
   ]
  },
  {
   "cell_type": "code",
   "execution_count": 75,
   "metadata": {
    "collapsed": false
   },
   "outputs": [],
   "source": [
    "lsvmdata = pd.DataFrame(lsvmdata,columns=['prediction'])\n",
    "lsvmdata['user_id'] = rep_to"
   ]
  },
  {
   "cell_type": "code",
   "execution_count": 76,
   "metadata": {
    "collapsed": false
   },
   "outputs": [
    {
     "data": {
      "text/html": [
       "<div>\n",
       "<style scoped>\n",
       "    .dataframe tbody tr th:only-of-type {\n",
       "        vertical-align: middle;\n",
       "    }\n",
       "\n",
       "    .dataframe tbody tr th {\n",
       "        vertical-align: top;\n",
       "    }\n",
       "\n",
       "    .dataframe thead th {\n",
       "        text-align: right;\n",
       "    }\n",
       "</style>\n",
       "<table border=\"1\" class=\"dataframe\">\n",
       "  <thead>\n",
       "    <tr style=\"text-align: right;\">\n",
       "      <th></th>\n",
       "      <th>prediction</th>\n",
       "      <th>user_id</th>\n",
       "    </tr>\n",
       "  </thead>\n",
       "  <tbody>\n",
       "    <tr>\n",
       "      <th>0</th>\n",
       "      <td>1</td>\n",
       "      <td>79293791</td>\n",
       "    </tr>\n",
       "    <tr>\n",
       "      <th>1</th>\n",
       "      <td>0</td>\n",
       "      <td>25073877</td>\n",
       "    </tr>\n",
       "    <tr>\n",
       "      <th>2</th>\n",
       "      <td>1</td>\n",
       "      <td>25073877</td>\n",
       "    </tr>\n",
       "    <tr>\n",
       "      <th>3</th>\n",
       "      <td>0</td>\n",
       "      <td>25073877</td>\n",
       "    </tr>\n",
       "    <tr>\n",
       "      <th>4</th>\n",
       "      <td>0</td>\n",
       "      <td>25073877</td>\n",
       "    </tr>\n",
       "  </tbody>\n",
       "</table>\n",
       "</div>"
      ],
      "text/plain": [
       "   prediction   user_id\n",
       "0           1  79293791\n",
       "1           0  25073877\n",
       "2           1  25073877\n",
       "3           0  25073877\n",
       "4           0  25073877"
      ]
     },
     "execution_count": 76,
     "metadata": {},
     "output_type": "execute_result"
    }
   ],
   "source": [
    "data.head(5)"
   ]
  },
  {
   "cell_type": "code",
   "execution_count": 77,
   "metadata": {
    "collapsed": false
   },
   "outputs": [],
   "source": [
    "#lsvmdf=lsvmdata.groupby('user_id')['prediction'].apply(lambda x: (x=='ins').sum()).reset_index(name='ins_count')\n",
    "df = data.groupby('user_id')['prediction'].apply(lambda x: (x==1).sum()).reset_index(name='ins_count')\n",
    "#user_info = user_info.join(lsvmdf.set_index('user_id'),on='user_id')\n",
    "#user_info = user_info.join(df.set_index('user_id'),on='user_id')\n",
    "if 'ins_count' in user_info:\n",
    "    del user_info['ins_count']\n",
    "user_info = user_info.join(df.set_index('user_id'),on='user_id')\n"
   ]
  },
  {
   "cell_type": "code",
   "execution_count": 78,
   "metadata": {
    "collapsed": false
   },
   "outputs": [
    {
     "name": "stdout",
     "output_type": "stream",
     "text": [
      "        prediction    user_id\n",
      "0                1   79293791\n",
      "2                1   25073877\n",
      "39               1   25073877\n",
      "49               1   25073877\n",
      "51               1   25073877\n",
      "55               1   25073877\n",
      "57               1  132385468\n",
      "58               1   25073877\n",
      "62               1   25073877\n",
      "67               1     759251\n",
      "69               1   44409004\n",
      "76               1   25073877\n",
      "88               1   25073877\n",
      "95               1   25073877\n",
      "97               1   25073877\n",
      "102              1   25073877\n",
      "104              1     759251\n",
      "106              1   25073877\n",
      "120              1   25073877\n",
      "121              1    2557521\n",
      "123              1   25073877\n",
      "124              1   25073877\n",
      "125              1   25073877\n",
      "126              1   25073877\n",
      "128              1   25073877\n",
      "129              1   25073877\n",
      "132              1   18839785\n",
      "134              1   25073877\n",
      "147              1   25073877\n",
      "172              1   25073877\n",
      "...            ...        ...\n",
      "149862           1     759251\n",
      "149869           1  155659213\n",
      "149871           1     813286\n",
      "149878           1     759251\n",
      "149882           1     759251\n",
      "149893           1   10228272\n",
      "149894           1     759251\n",
      "149895           1  155659213\n",
      "149898           1   84279963\n",
      "149901           1   34507480\n",
      "149902           1     807095\n",
      "149903           1     759251\n",
      "149904           1     783214\n",
      "149912           1     783214\n",
      "149917           1   34507480\n",
      "149921           1  155659213\n",
      "149922           1   25365536\n",
      "149939           1   25365536\n",
      "149943           1     807095\n",
      "149949           1     783214\n",
      "149952           1     783214\n",
      "149961           1     759251\n",
      "149963           1     783214\n",
      "149976           1     759251\n",
      "149982           1     783214\n",
      "149984           1   25365536\n",
      "149989           1   79293791\n",
      "149990           1   34507480\n",
      "149992           1   10228272\n",
      "149995           1   34507480\n",
      "\n",
      "[25439 rows x 2 columns]\n",
      " Public opinion is WTF everytime you open your mouth\n",
      "@realDonaldTrump Public opinion is WTF everytime you open your mouth\n"
     ]
    }
   ],
   "source": [
    "print(data.loc[data['prediction']==1])\n",
    "print(cleantext[55])\n",
    "print(text[55])"
   ]
  },
  {
   "cell_type": "code",
   "execution_count": 79,
   "metadata": {
    "collapsed": false
   },
   "outputs": [
    {
     "data": {
      "text/plain": [
       "0      140\n",
       "1      137\n",
       "2      406\n",
       "3       46\n",
       "4      495\n",
       "5      200\n",
       "6       95\n",
       "7      577\n",
       "8      143\n",
       "9       15\n",
       "10     645\n",
       "11     630\n",
       "12     120\n",
       "13    3301\n",
       "14     286\n",
       "15      30\n",
       "16     261\n",
       "17    9362\n",
       "18     113\n",
       "19      17\n",
       "20      39\n",
       "21     143\n",
       "22     654\n",
       "23      20\n",
       "24      13\n",
       "25     746\n",
       "26     178\n",
       "27      28\n",
       "28    1983\n",
       "29     441\n",
       "30     117\n",
       "31      63\n",
       "32     118\n",
       "33      74\n",
       "34     242\n",
       "35     217\n",
       "36      17\n",
       "37     160\n",
       "38      34\n",
       "39     263\n",
       "40      25\n",
       "41     361\n",
       "42     160\n",
       "43      11\n",
       "44      50\n",
       "45    1034\n",
       "46      28\n",
       "47      25\n",
       "48    1168\n",
       "49       8\n",
       "Name: ins_count, dtype: int64"
      ]
     },
     "execution_count": 79,
     "metadata": {},
     "output_type": "execute_result"
    }
   ],
   "source": [
    "user_info['ins_count']"
   ]
  },
  {
   "cell_type": "code",
   "execution_count": 80,
   "metadata": {
    "collapsed": false
   },
   "outputs": [
    {
     "data": {
      "text/html": [
       "<div>\n",
       "<style scoped>\n",
       "    .dataframe tbody tr th:only-of-type {\n",
       "        vertical-align: middle;\n",
       "    }\n",
       "\n",
       "    .dataframe tbody tr th {\n",
       "        vertical-align: top;\n",
       "    }\n",
       "\n",
       "    .dataframe thead th {\n",
       "        text-align: right;\n",
       "    }\n",
       "</style>\n",
       "<table border=\"1\" class=\"dataframe\">\n",
       "  <thead>\n",
       "    <tr style=\"text-align: right;\">\n",
       "      <th></th>\n",
       "      <th>follower_rank</th>\n",
       "      <th>followers</th>\n",
       "      <th>user_id</th>\n",
       "      <th>actlevel</th>\n",
       "      <th>ins_count</th>\n",
       "      <th>count</th>\n",
       "      <th>norm_act</th>\n",
       "      <th>reply_expect</th>\n",
       "      <th>controversy</th>\n",
       "    </tr>\n",
       "  </thead>\n",
       "  <tbody>\n",
       "    <tr>\n",
       "      <th>count</th>\n",
       "      <td>49.000000</td>\n",
       "      <td>49.000000</td>\n",
       "      <td>4.900000e+01</td>\n",
       "      <td>49.000000</td>\n",
       "      <td>49.000000</td>\n",
       "      <td>49.000000</td>\n",
       "      <td>49.000000</td>\n",
       "      <td>49.000000</td>\n",
       "      <td>49.000000</td>\n",
       "    </tr>\n",
       "    <tr>\n",
       "      <th>mean</th>\n",
       "      <td>24.653061</td>\n",
       "      <td>50.816327</td>\n",
       "      <td>5.992345e+07</td>\n",
       "      <td>0.029888</td>\n",
       "      <td>328.102041</td>\n",
       "      <td>1802.040816</td>\n",
       "      <td>1.014944</td>\n",
       "      <td>50.798003</td>\n",
       "      <td>35.865071</td>\n",
       "    </tr>\n",
       "    <tr>\n",
       "      <th>std</th>\n",
       "      <td>14.687794</td>\n",
       "      <td>21.142053</td>\n",
       "      <td>6.527732e+07</td>\n",
       "      <td>0.820958</td>\n",
       "      <td>567.612553</td>\n",
       "      <td>2750.442805</td>\n",
       "      <td>0.410479</td>\n",
       "      <td>28.145259</td>\n",
       "      <td>46.039826</td>\n",
       "    </tr>\n",
       "    <tr>\n",
       "      <th>min</th>\n",
       "      <td>0.000000</td>\n",
       "      <td>30.000000</td>\n",
       "      <td>4.283330e+05</td>\n",
       "      <td>-0.996127</td>\n",
       "      <td>8.000000</td>\n",
       "      <td>28.000000</td>\n",
       "      <td>0.501937</td>\n",
       "      <td>16.420184</td>\n",
       "      <td>1.291783</td>\n",
       "    </tr>\n",
       "    <tr>\n",
       "      <th>25%</th>\n",
       "      <td>12.000000</td>\n",
       "      <td>35.000000</td>\n",
       "      <td>1.640968e+07</td>\n",
       "      <td>-0.829082</td>\n",
       "      <td>34.000000</td>\n",
       "      <td>267.000000</td>\n",
       "      <td>0.585459</td>\n",
       "      <td>27.576759</td>\n",
       "      <td>8.154133</td>\n",
       "    </tr>\n",
       "    <tr>\n",
       "      <th>50%</th>\n",
       "      <td>25.000000</td>\n",
       "      <td>42.000000</td>\n",
       "      <td>2.656595e+07</td>\n",
       "      <td>0.464652</td>\n",
       "      <td>140.000000</td>\n",
       "      <td>792.000000</td>\n",
       "      <td>1.232326</td>\n",
       "      <td>47.062306</td>\n",
       "      <td>18.572472</td>\n",
       "    </tr>\n",
       "    <tr>\n",
       "      <th>75%</th>\n",
       "      <td>37.000000</td>\n",
       "      <td>58.000000</td>\n",
       "      <td>1.002209e+08</td>\n",
       "      <td>0.820686</td>\n",
       "      <td>361.000000</td>\n",
       "      <td>2023.000000</td>\n",
       "      <td>1.410343</td>\n",
       "      <td>60.644750</td>\n",
       "      <td>36.504851</td>\n",
       "    </tr>\n",
       "    <tr>\n",
       "      <th>max</th>\n",
       "      <td>49.000000</td>\n",
       "      <td>110.000000</td>\n",
       "      <td>2.684145e+08</td>\n",
       "      <td>0.999605</td>\n",
       "      <td>3301.000000</td>\n",
       "      <td>13460.000000</td>\n",
       "      <td>1.499803</td>\n",
       "      <td>135.256400</td>\n",
       "      <td>226.537211</td>\n",
       "    </tr>\n",
       "  </tbody>\n",
       "</table>\n",
       "</div>"
      ],
      "text/plain": [
       "       follower_rank   followers       user_id   actlevel    ins_count  \\\n",
       "count      49.000000   49.000000  4.900000e+01  49.000000    49.000000   \n",
       "mean       24.653061   50.816327  5.992345e+07   0.029888   328.102041   \n",
       "std        14.687794   21.142053  6.527732e+07   0.820958   567.612553   \n",
       "min         0.000000   30.000000  4.283330e+05  -0.996127     8.000000   \n",
       "25%        12.000000   35.000000  1.640968e+07  -0.829082    34.000000   \n",
       "50%        25.000000   42.000000  2.656595e+07   0.464652   140.000000   \n",
       "75%        37.000000   58.000000  1.002209e+08   0.820686   361.000000   \n",
       "max        49.000000  110.000000  2.684145e+08   0.999605  3301.000000   \n",
       "\n",
       "              count   norm_act  reply_expect  controversy  \n",
       "count     49.000000  49.000000     49.000000    49.000000  \n",
       "mean    1802.040816   1.014944     50.798003    35.865071  \n",
       "std     2750.442805   0.410479     28.145259    46.039826  \n",
       "min       28.000000   0.501937     16.420184     1.291783  \n",
       "25%      267.000000   0.585459     27.576759     8.154133  \n",
       "50%      792.000000   1.232326     47.062306    18.572472  \n",
       "75%     2023.000000   1.410343     60.644750    36.504851  \n",
       "max    13460.000000   1.499803    135.256400   226.537211  "
      ]
     },
     "execution_count": 80,
     "metadata": {},
     "output_type": "execute_result"
    }
   ],
   "source": [
    "#cnt = lsvmdata.user_name.value_counts().reset_index().rename(columns={'index':'user_name','user_name':'count'})\n",
    "cnt = data.user_id.value_counts().reset_index().rename(columns={'index':'user_id','user_id':'count'})\n",
    "\n",
    "cnt.head(5)\n",
    "if 'count' in user_info:\n",
    "    del user_info['count']\n",
    "user_info = user_info.join(cnt.set_index('user_id'),on='user_id')\n",
    "user_info['norm_act'] = user_info['actlevel']*0.5+1\n",
    "user_info['reply_expect'] = user_info.norm_act.multiply(user_info['followers'])\n",
    "user_info.head(5)\n",
    "user_info = user_info.rename(index=str, columns={\"Unnamed: 0\": \"follower_rank\"})\n",
    "# there's an obvious outlier in the actual replies one get vs. expected reply based on current epoch activity * # followers!\n",
    "# we name the ratio of actual reply to the expected reply based on # of followers and user activity level as 'controversy'\n",
    "user_info['controversy'] = user_info['count']/user_info['reply_expect']\n",
    "user_info.loc[user_info['controversy']<700].describe()\n",
    "# there is no user who got 0 replies! \n",
    "# excluding the outlier, the standard deviation reduces significantly\n",
    "# "
   ]
  },
  {
   "cell_type": "code",
   "execution_count": 81,
   "metadata": {
    "collapsed": false
   },
   "outputs": [
    {
     "data": {
      "text/plain": [
       "<matplotlib.text.Text at 0x7f5beee7eeb8>"
      ]
     },
     "execution_count": 81,
     "metadata": {},
     "output_type": "execute_result"
    },
    {
     "data": {
      "image/png": "[encoded data removed]",
      "text/plain": [
       "<matplotlib.figure.Figure at 0x7f5beee692e8>"
      ]
     },
     "metadata": {},
     "output_type": "display_data"
    }
   ],
   "source": [
    "#plt.scatter(user_info['follower_rank'],user_info['controversy'])\n",
    "plt.scatter(user_info['follower_rank'].loc[user_info['controversy']<700],user_info['controversy'].loc[user_info['controversy']<700])\n",
    "plt.axhline(y=20,linestyle=':',color='black')\n",
    "plt.axhline(y=60,linestyle=':',color='black')\n",
    "plt.xlabel('follower_rank')\n",
    "plt.ylabel('controversy')"
   ]
  },
  {
   "cell_type": "code",
   "execution_count": 82,
   "metadata": {
    "collapsed": false
   },
   "outputs": [],
   "source": [
    "# create a categorical controversy data\n",
    "user_info.loc[user_info['controversy']<=20,'controversy_cat'] = 'low' #4\n",
    "user_info.loc[(user_info['controversy']<=60) & (user_info['controversy']>20),'controversy_cat'] = 'med' #11\n",
    "user_info.loc[user_info['controversy']>60,'controversy_cat'] = 'high' #34\n",
    "# define insult fraction : \n",
    "user_info['ins_frac'] = user_info['ins_count']/user_info['count']/0.5\n",
    "#user_info.head(10)"
   ]
  },
  {
   "cell_type": "code",
   "execution_count": 83,
   "metadata": {
    "collapsed": false
   },
   "outputs": [],
   "source": [
    "if 'followers' not in lsvmdata:\n",
    "    lsvmdata = lsvmdata.join(user_info.set_index('user_id'),on='user_id')\n",
    "if 'followers' not in data:\n",
    "    data = data.join(user_info.set_index('user_id'),on='user_id')\n",
    "#data.head(5)"
   ]
  },
  {
   "cell_type": "code",
   "execution_count": 98,
   "metadata": {
    "collapsed": false
   },
   "outputs": [
    {
     "data": {
      "text/plain": [
       "<seaborn.axisgrid.FacetGrid at 0x7f5bee451668>"
      ]
     },
     "execution_count": 98,
     "metadata": {},
     "output_type": "execute_result"
    },
    {
     "data": {
      "image/png": "[encoded data removed]",
      "text/plain": [
       "<matplotlib.figure.Figure at 0x7f5bee4515f8>"
      ]
     },
     "metadata": {},
     "output_type": "display_data"
    }
   ],
   "source": [
    "# tmp is the user_info with outlier removed\n",
    "tmp = user_info.loc[user_info['controversy']<700]\n",
    "sns.lmplot(x='controversy',y='ins_frac',hue='gender', data=tmp)"
   ]
  },
  {
   "cell_type": "markdown",
   "metadata": {},
   "source": [
    "# Interpretation\n",
    "For personal accounts (female and male both), there is a small trend in recieving more insult as the controversy level goes up (positive slope of the graphs), however there is large uncertainty due to limited number of accounts studied (50) and also small insult fraction (in most cases less than 10 %). Also as controversy for most accounts stays between [0,100], datapoints with higher controversy, which is relatively fewer in number, tend to dominate the slope.<br>\n",
    "Female accounts seem to receive more insult than male account in general regardless of the controversy, and the more controversial the account is, the more likely a female account is to be insulted. The slope is the steepest for female account amoun three groups."
   ]
  },
  {
   "cell_type": "markdown",
   "metadata": {},
   "source": [
    "# Playing aroud the data"
   ]
  },
  {
   "cell_type": "code",
   "execution_count": 85,
   "metadata": {
    "collapsed": false
   },
   "outputs": [],
   "source": [
    "# data includes sentiment analysis result from NN\n",
    "#data = data.rename(index=str, columns={\"Unnamed: 0\": \"follower_rank\"})\n",
    "# lsvmdata includes sentiment analysis result from linear svm\n",
    "#lsvmdata = lsvmdata.rename(index=str, columns={\"Unnamed: 0\": \"follower_rank\"})"
   ]
  },
  {
   "cell_type": "code",
   "execution_count": 86,
   "metadata": {
    "collapsed": false,
    "scrolled": false
   },
   "outputs": [
    {
     "data": {
      "text/plain": [
       "array(['Musician', 'Current U.S. President', 'News channel', 'Newspaper',\n",
       "       'Actor and producer', 'Social media platform', 'Sports channel',\n",
       "       'Current Prime Minister of India', 'Online video platform',\n",
       "       'Footballer', 'Actor', 'Musician and actress', 'Comedian', 'Rapper',\n",
       "       'Football club', 'Former U.S. President', 'Basketball player',\n",
       "       'Sports news', 'Television personality', 'Musician and actor',\n",
       "       'Comedian and actor', 'Television personality and businesswoman',\n",
       "       'Businessman and philanthropist', 'Band'], dtype=object)"
      ]
     },
     "execution_count": 86,
     "metadata": {},
     "output_type": "execute_result"
    }
   ],
   "source": [
    "data['activity'].unique()"
   ]
  },
  {
   "cell_type": "markdown",
   "metadata": {
    "collapsed": false
   },
   "source": [
    "# Categorizing activity into jobs\n",
    "lsvmdata.loc[lsvmdata.activity.apply(lambda x: ('Musician' or 'Rapper' or 'Band') in x), 'job'] = 'artist'\n",
    "lsvmdata.loc[lsvmdata.activity.apply(lambda x: ('Comedian' or 'Actor') in x), 'job'] = 'artist'\n",
    "lsvmdata.loc[lsvmdata.activity.apply(lambda x: ('President' or 'Minister') in x), 'job'] = 'politician'\n",
    "lsvmdata.loc[lsvmdata.activity.apply(lambda x: ('usiness' in x)), 'job'] = 'business'\n",
    "lsvmdata.loc[lsvmdata.activity.apply(lambda x: ('platform' in x)), 'job'] = 'platform'\n",
    "lsvmdata.loc[lsvmdata.activity.apply(lambda x: ('channel') in x), 'job'] = 'channel'\n",
    "lsvmdata.loc[lsvmdata.activity.apply(lambda x: ('ball') in x), 'job'] = 'sports'\n",
    "lsvmdata.loc[lsvmdata.activity.apply(lambda x: ('ews') in x), 'job'] = 'news'\n",
    "lsvmdata.loc[lsvmdata.activity.apply(lambda x: ('elevision') in x), 'job'] = 'TV'"
   ]
  },
  {
   "cell_type": "code",
   "execution_count": 87,
   "metadata": {
    "collapsed": false
   },
   "outputs": [
    {
     "data": {
      "text/html": [
       "<div>\n",
       "<style scoped>\n",
       "    .dataframe tbody tr th:only-of-type {\n",
       "        vertical-align: middle;\n",
       "    }\n",
       "\n",
       "    .dataframe tbody tr th {\n",
       "        vertical-align: top;\n",
       "    }\n",
       "\n",
       "    .dataframe thead th {\n",
       "        text-align: right;\n",
       "    }\n",
       "</style>\n",
       "<table border=\"1\" class=\"dataframe\">\n",
       "  <thead>\n",
       "    <tr style=\"text-align: right;\">\n",
       "      <th></th>\n",
       "      <th>follower_rank</th>\n",
       "      <th>followers</th>\n",
       "      <th>user_id</th>\n",
       "      <th>actlevel</th>\n",
       "      <th>ins_count</th>\n",
       "      <th>count</th>\n",
       "      <th>norm_act</th>\n",
       "      <th>reply_expect</th>\n",
       "      <th>controversy</th>\n",
       "      <th>ins_frac</th>\n",
       "    </tr>\n",
       "  </thead>\n",
       "  <tbody>\n",
       "    <tr>\n",
       "      <th>count</th>\n",
       "      <td>14.000000</td>\n",
       "      <td>14.000000</td>\n",
       "      <td>1.400000e+01</td>\n",
       "      <td>14.000000</td>\n",
       "      <td>14.000000</td>\n",
       "      <td>14.000000</td>\n",
       "      <td>14.000000</td>\n",
       "      <td>14.000000</td>\n",
       "      <td>14.000000</td>\n",
       "      <td>14.000000</td>\n",
       "    </tr>\n",
       "    <tr>\n",
       "      <th>mean</th>\n",
       "      <td>16.285714</td>\n",
       "      <td>62.428571</td>\n",
       "      <td>5.045506e+07</td>\n",
       "      <td>-0.296229</td>\n",
       "      <td>359.500000</td>\n",
       "      <td>1506.142857</td>\n",
       "      <td>0.851885</td>\n",
       "      <td>53.619379</td>\n",
       "      <td>25.219833</td>\n",
       "      <td>0.384738</td>\n",
       "    </tr>\n",
       "    <tr>\n",
       "      <th>std</th>\n",
       "      <td>14.301310</td>\n",
       "      <td>22.980642</td>\n",
       "      <td>6.664292e+07</td>\n",
       "      <td>0.802422</td>\n",
       "      <td>856.416842</td>\n",
       "      <td>3252.453414</td>\n",
       "      <td>0.401211</td>\n",
       "      <td>32.098677</td>\n",
       "      <td>37.829557</td>\n",
       "      <td>0.146234</td>\n",
       "    </tr>\n",
       "    <tr>\n",
       "      <th>min</th>\n",
       "      <td>0.000000</td>\n",
       "      <td>31.000000</td>\n",
       "      <td>1.423052e+07</td>\n",
       "      <td>-0.996127</td>\n",
       "      <td>11.000000</td>\n",
       "      <td>117.000000</td>\n",
       "      <td>0.501937</td>\n",
       "      <td>19.744589</td>\n",
       "      <td>2.136103</td>\n",
       "      <td>0.082397</td>\n",
       "    </tr>\n",
       "    <tr>\n",
       "      <th>25%</th>\n",
       "      <td>5.250000</td>\n",
       "      <td>46.750000</td>\n",
       "      <td>1.871795e+07</td>\n",
       "      <td>-0.827912</td>\n",
       "      <td>34.000000</td>\n",
       "      <td>271.000000</td>\n",
       "      <td>0.586044</td>\n",
       "      <td>26.990837</td>\n",
       "      <td>6.890532</td>\n",
       "      <td>0.314191</td>\n",
       "    </tr>\n",
       "    <tr>\n",
       "      <th>50%</th>\n",
       "      <td>13.500000</td>\n",
       "      <td>57.500000</td>\n",
       "      <td>2.604086e+07</td>\n",
       "      <td>-0.686924</td>\n",
       "      <td>116.500000</td>\n",
       "      <td>655.000000</td>\n",
       "      <td>0.656538</td>\n",
       "      <td>50.509132</td>\n",
       "      <td>11.782277</td>\n",
       "      <td>0.346607</td>\n",
       "    </tr>\n",
       "    <tr>\n",
       "      <th>75%</th>\n",
       "      <td>20.250000</td>\n",
       "      <td>78.750000</td>\n",
       "      <td>4.208041e+07</td>\n",
       "      <td>0.369119</td>\n",
       "      <td>185.750000</td>\n",
       "      <td>844.750000</td>\n",
       "      <td>1.184559</td>\n",
       "      <td>65.431292</td>\n",
       "      <td>23.615846</td>\n",
       "      <td>0.476227</td>\n",
       "    </tr>\n",
       "    <tr>\n",
       "      <th>max</th>\n",
       "      <td>47.000000</td>\n",
       "      <td>110.000000</td>\n",
       "      <td>2.684145e+08</td>\n",
       "      <td>0.999544</td>\n",
       "      <td>3301.000000</td>\n",
       "      <td>12685.000000</td>\n",
       "      <td>1.499772</td>\n",
       "      <td>132.484223</td>\n",
       "      <td>145.826787</td>\n",
       "      <td>0.673012</td>\n",
       "    </tr>\n",
       "  </tbody>\n",
       "</table>\n",
       "</div>"
      ],
      "text/plain": [
       "       follower_rank   followers       user_id   actlevel    ins_count  \\\n",
       "count      14.000000   14.000000  1.400000e+01  14.000000    14.000000   \n",
       "mean       16.285714   62.428571  5.045506e+07  -0.296229   359.500000   \n",
       "std        14.301310   22.980642  6.664292e+07   0.802422   856.416842   \n",
       "min         0.000000   31.000000  1.423052e+07  -0.996127    11.000000   \n",
       "25%         5.250000   46.750000  1.871795e+07  -0.827912    34.000000   \n",
       "50%        13.500000   57.500000  2.604086e+07  -0.686924   116.500000   \n",
       "75%        20.250000   78.750000  4.208041e+07   0.369119   185.750000   \n",
       "max        47.000000  110.000000  2.684145e+08   0.999544  3301.000000   \n",
       "\n",
       "              count   norm_act  reply_expect  controversy   ins_frac  \n",
       "count     14.000000  14.000000     14.000000    14.000000  14.000000  \n",
       "mean    1506.142857   0.851885     53.619379    25.219833   0.384738  \n",
       "std     3252.453414   0.401211     32.098677    37.829557   0.146234  \n",
       "min      117.000000   0.501937     19.744589     2.136103   0.082397  \n",
       "25%      271.000000   0.586044     26.990837     6.890532   0.314191  \n",
       "50%      655.000000   0.656538     50.509132    11.782277   0.346607  \n",
       "75%      844.750000   1.184559     65.431292    23.615846   0.476227  \n",
       "max    12685.000000   1.499772    132.484223   145.826787   0.673012  "
      ]
     },
     "execution_count": 87,
     "metadata": {},
     "output_type": "execute_result"
    }
   ],
   "source": [
    "user_info.loc[(user_info['gender']=='F')&(user_info['job']=='artist')].describe()"
   ]
  },
  {
   "cell_type": "code",
   "execution_count": 88,
   "metadata": {
    "collapsed": false,
    "scrolled": true
   },
   "outputs": [
    {
     "data": {
      "text/html": [
       "<div>\n",
       "<style scoped>\n",
       "    .dataframe tbody tr th:only-of-type {\n",
       "        vertical-align: middle;\n",
       "    }\n",
       "\n",
       "    .dataframe tbody tr th {\n",
       "        vertical-align: top;\n",
       "    }\n",
       "\n",
       "    .dataframe thead th {\n",
       "        text-align: right;\n",
       "    }\n",
       "</style>\n",
       "<table border=\"1\" class=\"dataframe\">\n",
       "  <thead>\n",
       "    <tr style=\"text-align: right;\">\n",
       "      <th></th>\n",
       "      <th>follower_rank</th>\n",
       "      <th>followers</th>\n",
       "      <th>user_id</th>\n",
       "      <th>actlevel</th>\n",
       "      <th>ins_count</th>\n",
       "      <th>count</th>\n",
       "      <th>norm_act</th>\n",
       "      <th>reply_expect</th>\n",
       "      <th>controversy</th>\n",
       "      <th>ins_frac</th>\n",
       "    </tr>\n",
       "  </thead>\n",
       "  <tbody>\n",
       "    <tr>\n",
       "      <th>count</th>\n",
       "      <td>15.000000</td>\n",
       "      <td>15.000000</td>\n",
       "      <td>1.500000e+01</td>\n",
       "      <td>15.000000</td>\n",
       "      <td>15.000000</td>\n",
       "      <td>15.000000</td>\n",
       "      <td>15.000000</td>\n",
       "      <td>15.000000</td>\n",
       "      <td>15.000000</td>\n",
       "      <td>15.000000</td>\n",
       "    </tr>\n",
       "    <tr>\n",
       "      <th>mean</th>\n",
       "      <td>31.400000</td>\n",
       "      <td>43.466667</td>\n",
       "      <td>8.431085e+07</td>\n",
       "      <td>0.233889</td>\n",
       "      <td>185.800000</td>\n",
       "      <td>1033.533333</td>\n",
       "      <td>1.116944</td>\n",
       "      <td>48.073197</td>\n",
       "      <td>25.388523</td>\n",
       "      <td>0.306214</td>\n",
       "    </tr>\n",
       "    <tr>\n",
       "      <th>std</th>\n",
       "      <td>13.048262</td>\n",
       "      <td>19.697232</td>\n",
       "      <td>5.692708e+07</td>\n",
       "      <td>0.755606</td>\n",
       "      <td>269.341313</td>\n",
       "      <td>1291.551054</td>\n",
       "      <td>0.377803</td>\n",
       "      <td>23.122724</td>\n",
       "      <td>29.423534</td>\n",
       "      <td>0.110760</td>\n",
       "    </tr>\n",
       "    <tr>\n",
       "      <th>min</th>\n",
       "      <td>1.000000</td>\n",
       "      <td>33.000000</td>\n",
       "      <td>1.548544e+07</td>\n",
       "      <td>-0.972609</td>\n",
       "      <td>15.000000</td>\n",
       "      <td>126.000000</td>\n",
       "      <td>0.513696</td>\n",
       "      <td>17.310294</td>\n",
       "      <td>1.291783</td>\n",
       "      <td>0.162679</td>\n",
       "    </tr>\n",
       "    <tr>\n",
       "      <th>25%</th>\n",
       "      <td>26.000000</td>\n",
       "      <td>34.000000</td>\n",
       "      <td>2.688053e+07</td>\n",
       "      <td>-0.462483</td>\n",
       "      <td>22.500000</td>\n",
       "      <td>176.000000</td>\n",
       "      <td>0.768758</td>\n",
       "      <td>35.036586</td>\n",
       "      <td>5.102486</td>\n",
       "      <td>0.217314</td>\n",
       "    </tr>\n",
       "    <tr>\n",
       "      <th>50%</th>\n",
       "      <td>36.000000</td>\n",
       "      <td>35.000000</td>\n",
       "      <td>1.002209e+08</td>\n",
       "      <td>0.532642</td>\n",
       "      <td>74.000000</td>\n",
       "      <td>570.000000</td>\n",
       "      <td>1.266321</td>\n",
       "      <td>47.062306</td>\n",
       "      <td>13.714864</td>\n",
       "      <td>0.277154</td>\n",
       "    </tr>\n",
       "    <tr>\n",
       "      <th>75%</th>\n",
       "      <td>40.500000</td>\n",
       "      <td>41.500000</td>\n",
       "      <td>1.243741e+08</td>\n",
       "      <td>0.803605</td>\n",
       "      <td>201.000000</td>\n",
       "      <td>1297.000000</td>\n",
       "      <td>1.401802</td>\n",
       "      <td>55.819018</td>\n",
       "      <td>34.591077</td>\n",
       "      <td>0.399893</td>\n",
       "    </tr>\n",
       "    <tr>\n",
       "      <th>max</th>\n",
       "      <td>45.000000</td>\n",
       "      <td>107.000000</td>\n",
       "      <td>1.815617e+08</td>\n",
       "      <td>0.999605</td>\n",
       "      <td>1034.000000</td>\n",
       "      <td>5029.000000</td>\n",
       "      <td>1.499803</td>\n",
       "      <td>97.539597</td>\n",
       "      <td>112.428847</td>\n",
       "      <td>0.475313</td>\n",
       "    </tr>\n",
       "  </tbody>\n",
       "</table>\n",
       "</div>"
      ],
      "text/plain": [
       "       follower_rank   followers       user_id   actlevel    ins_count  \\\n",
       "count      15.000000   15.000000  1.500000e+01  15.000000    15.000000   \n",
       "mean       31.400000   43.466667  8.431085e+07   0.233889   185.800000   \n",
       "std        13.048262   19.697232  5.692708e+07   0.755606   269.341313   \n",
       "min         1.000000   33.000000  1.548544e+07  -0.972609    15.000000   \n",
       "25%        26.000000   34.000000  2.688053e+07  -0.462483    22.500000   \n",
       "50%        36.000000   35.000000  1.002209e+08   0.532642    74.000000   \n",
       "75%        40.500000   41.500000  1.243741e+08   0.803605   201.000000   \n",
       "max        45.000000  107.000000  1.815617e+08   0.999605  1034.000000   \n",
       "\n",
       "             count   norm_act  reply_expect  controversy   ins_frac  \n",
       "count    15.000000  15.000000     15.000000    15.000000  15.000000  \n",
       "mean   1033.533333   1.116944     48.073197    25.388523   0.306214  \n",
       "std    1291.551054   0.377803     23.122724    29.423534   0.110760  \n",
       "min     126.000000   0.513696     17.310294     1.291783   0.162679  \n",
       "25%     176.000000   0.768758     35.036586     5.102486   0.217314  \n",
       "50%     570.000000   1.266321     47.062306    13.714864   0.277154  \n",
       "75%    1297.000000   1.401802     55.819018    34.591077   0.399893  \n",
       "max    5029.000000   1.499803     97.539597   112.428847   0.475313  "
      ]
     },
     "execution_count": 88,
     "metadata": {},
     "output_type": "execute_result"
    }
   ],
   "source": [
    "user_info.loc[(user_info['gender']=='M') & (user_info['controversy']<500)&(user_info['job']=='artist')].describe()"
   ]
  },
  {
   "cell_type": "markdown",
   "metadata": {},
   "source": [
    "# Summary\n",
    "i) there are 14 female and 9 male artists in this data<br>\n",
    "ii) female artists have more followers <br>\n",
    "iii) expected reply level is similar for both gendes, with larger scatter for females<br>\n",
    "iv) mean and meadian controversy of male artists are more than double of that of female artists<br>\n",
    "v) scatter in controversy is larger for male artists than female<br>\n",
    "vi) male users tend to be more active on Twitter<br>\n"
   ]
  },
  {
   "cell_type": "markdown",
   "metadata": {},
   "source": [
    "## Visualization\n",
    "we have defined target activity via measures such as:\n",
    "\n",
    "i) actlevel (norm_act) : activity model based on number of tweets published per most recent cycle (see section), and renormalization of it<br>\n",
    "ii) reply_expect : actlevel * # of followers<br>\n",
    "iii) controversy : actual reply count / reply_expect\n",
    "\n",
    "while insult level is independently measured from the replies as it only relies on the sentiment from the text.\n",
    "We use these quantities and see if there's any trend in data."
   ]
  },
  {
   "cell_type": "code",
   "execution_count": 89,
   "metadata": {
    "collapsed": false
   },
   "outputs": [
    {
     "data": {
      "text/plain": [
       "<matplotlib.axes._subplots.AxesSubplot at 0x7f5beee6fe48>"
      ]
     },
     "execution_count": 89,
     "metadata": {},
     "output_type": "execute_result"
    },
    {
     "data": {
      "image/png": "[encoded data removed]",
      "text/plain": [
       "<matplotlib.figure.Figure at 0x7f5beed849b0>"
      ]
     },
     "metadata": {},
     "output_type": "display_data"
    }
   ],
   "source": [
    "tmpdata = data.loc[data['follower_rank']!=17]\n",
    "sns.countplot(data['follower_rank'])\n",
    "# an obvious outlier is shown...."
   ]
  },
  {
   "cell_type": "code",
   "execution_count": 90,
   "metadata": {
    "collapsed": false
   },
   "outputs": [
    {
     "data": {
      "image/png": "[encoded data removed]",
      "text/plain": [
       "<matplotlib.figure.Figure at 0x7f5beebc7b00>"
      ]
     },
     "metadata": {},
     "output_type": "display_data"
    }
   ],
   "source": [
    "sns.countplot(x=\"controversy_cat\",hue=\"prediction\", data=data);\n",
    "# in controversy_cat order, high-low-med, insult_fraction decreases (i.e. not a simple function of controversy)"
   ]
  },
  {
   "cell_type": "code",
   "execution_count": 91,
   "metadata": {
    "collapsed": false
   },
   "outputs": [
    {
     "data": {
      "text/html": [
       "<div>\n",
       "<style scoped>\n",
       "    .dataframe tbody tr th:only-of-type {\n",
       "        vertical-align: middle;\n",
       "    }\n",
       "\n",
       "    .dataframe tbody tr th {\n",
       "        vertical-align: top;\n",
       "    }\n",
       "\n",
       "    .dataframe thead th {\n",
       "        text-align: right;\n",
       "    }\n",
       "</style>\n",
       "<table border=\"1\" class=\"dataframe\">\n",
       "  <thead>\n",
       "    <tr style=\"text-align: right;\">\n",
       "      <th></th>\n",
       "      <th>prediction</th>\n",
       "      <th>user_id</th>\n",
       "      <th>follower_rank</th>\n",
       "      <th>followers</th>\n",
       "      <th>actlevel</th>\n",
       "      <th>ins_count</th>\n",
       "      <th>count</th>\n",
       "      <th>norm_act</th>\n",
       "      <th>reply_expect</th>\n",
       "      <th>controversy</th>\n",
       "      <th>ins_frac</th>\n",
       "    </tr>\n",
       "  </thead>\n",
       "  <tbody>\n",
       "    <tr>\n",
       "      <th>count</th>\n",
       "      <td>10790.000000</td>\n",
       "      <td>1.079000e+04</td>\n",
       "      <td>10790.000000</td>\n",
       "      <td>10790.000000</td>\n",
       "      <td>10790.000000</td>\n",
       "      <td>10790.000000</td>\n",
       "      <td>10790.000000</td>\n",
       "      <td>10790.000000</td>\n",
       "      <td>10790.000000</td>\n",
       "      <td>10790.000000</td>\n",
       "      <td>10790.000000</td>\n",
       "    </tr>\n",
       "    <tr>\n",
       "      <th>mean</th>\n",
       "      <td>0.166172</td>\n",
       "      <td>4.775137e+07</td>\n",
       "      <td>20.500649</td>\n",
       "      <td>58.684337</td>\n",
       "      <td>0.102656</td>\n",
       "      <td>109.629379</td>\n",
       "      <td>636.408897</td>\n",
       "      <td>1.051328</td>\n",
       "      <td>56.121776</td>\n",
       "      <td>11.868955</td>\n",
       "      <td>0.332345</td>\n",
       "    </tr>\n",
       "    <tr>\n",
       "      <th>std</th>\n",
       "      <td>0.372253</td>\n",
       "      <td>5.498768e+07</td>\n",
       "      <td>14.761751</td>\n",
       "      <td>26.581080</td>\n",
       "      <td>0.788406</td>\n",
       "      <td>63.476190</td>\n",
       "      <td>296.101568</td>\n",
       "      <td>0.394203</td>\n",
       "      <td>21.856840</td>\n",
       "      <td>4.841126</td>\n",
       "      <td>0.109587</td>\n",
       "    </tr>\n",
       "    <tr>\n",
       "      <th>min</th>\n",
       "      <td>0.000000</td>\n",
       "      <td>5.402612e+06</td>\n",
       "      <td>0.000000</td>\n",
       "      <td>30.000000</td>\n",
       "      <td>-0.995836</td>\n",
       "      <td>8.000000</td>\n",
       "      <td>28.000000</td>\n",
       "      <td>0.502082</td>\n",
       "      <td>16.420184</td>\n",
       "      <td>1.291783</td>\n",
       "      <td>0.082397</td>\n",
       "    </tr>\n",
       "    <tr>\n",
       "      <th>25%</th>\n",
       "      <td>0.000000</td>\n",
       "      <td>1.640968e+07</td>\n",
       "      <td>5.000000</td>\n",
       "      <td>36.000000</td>\n",
       "      <td>-0.726156</td>\n",
       "      <td>46.000000</td>\n",
       "      <td>409.000000</td>\n",
       "      <td>0.636922</td>\n",
       "      <td>46.929012</td>\n",
       "      <td>8.260497</td>\n",
       "      <td>0.254884</td>\n",
       "    </tr>\n",
       "    <tr>\n",
       "      <th>50%</th>\n",
       "      <td>0.000000</td>\n",
       "      <td>2.625717e+07</td>\n",
       "      <td>20.000000</td>\n",
       "      <td>46.000000</td>\n",
       "      <td>0.543908</td>\n",
       "      <td>118.000000</td>\n",
       "      <td>713.000000</td>\n",
       "      <td>1.271954</td>\n",
       "      <td>53.232799</td>\n",
       "      <td>13.699579</td>\n",
       "      <td>0.297980</td>\n",
       "    </tr>\n",
       "    <tr>\n",
       "      <th>75%</th>\n",
       "      <td>0.000000</td>\n",
       "      <td>4.440900e+07</td>\n",
       "      <td>35.000000</td>\n",
       "      <td>79.000000</td>\n",
       "      <td>0.957378</td>\n",
       "      <td>140.000000</td>\n",
       "      <td>859.000000</td>\n",
       "      <td>1.478689</td>\n",
       "      <td>67.858637</td>\n",
       "      <td>14.831330</td>\n",
       "      <td>0.440165</td>\n",
       "    </tr>\n",
       "    <tr>\n",
       "      <th>max</th>\n",
       "      <td>1.000000</td>\n",
       "      <td>2.684145e+08</td>\n",
       "      <td>49.000000</td>\n",
       "      <td>110.000000</td>\n",
       "      <td>0.998366</td>\n",
       "      <td>217.000000</td>\n",
       "      <td>1075.000000</td>\n",
       "      <td>1.499183</td>\n",
       "      <td>132.484223</td>\n",
       "      <td>18.898123</td>\n",
       "      <td>0.571429</td>\n",
       "    </tr>\n",
       "  </tbody>\n",
       "</table>\n",
       "</div>"
      ],
      "text/plain": [
       "         prediction       user_id  follower_rank     followers      actlevel  \\\n",
       "count  10790.000000  1.079000e+04   10790.000000  10790.000000  10790.000000   \n",
       "mean       0.166172  4.775137e+07      20.500649     58.684337      0.102656   \n",
       "std        0.372253  5.498768e+07      14.761751     26.581080      0.788406   \n",
       "min        0.000000  5.402612e+06       0.000000     30.000000     -0.995836   \n",
       "25%        0.000000  1.640968e+07       5.000000     36.000000     -0.726156   \n",
       "50%        0.000000  2.625717e+07      20.000000     46.000000      0.543908   \n",
       "75%        0.000000  4.440900e+07      35.000000     79.000000      0.957378   \n",
       "max        1.000000  2.684145e+08      49.000000    110.000000      0.998366   \n",
       "\n",
       "          ins_count         count      norm_act  reply_expect   controversy  \\\n",
       "count  10790.000000  10790.000000  10790.000000  10790.000000  10790.000000   \n",
       "mean     109.629379    636.408897      1.051328     56.121776     11.868955   \n",
       "std       63.476190    296.101568      0.394203     21.856840      4.841126   \n",
       "min        8.000000     28.000000      0.502082     16.420184      1.291783   \n",
       "25%       46.000000    409.000000      0.636922     46.929012      8.260497   \n",
       "50%      118.000000    713.000000      1.271954     53.232799     13.699579   \n",
       "75%      140.000000    859.000000      1.478689     67.858637     14.831330   \n",
       "max      217.000000   1075.000000      1.499183    132.484223     18.898123   \n",
       "\n",
       "           ins_frac  \n",
       "count  10790.000000  \n",
       "mean       0.332345  \n",
       "std        0.109587  \n",
       "min        0.082397  \n",
       "25%        0.254884  \n",
       "50%        0.297980  \n",
       "75%        0.440165  \n",
       "max        0.571429  "
      ]
     },
     "execution_count": 91,
     "metadata": {},
     "output_type": "execute_result"
    }
   ],
   "source": [
    "tmpdata.loc[(tmpdata['controversy_cat']=='low')].describe() # ins_frac=(0.340,0.111)"
   ]
  },
  {
   "cell_type": "code",
   "execution_count": 92,
   "metadata": {
    "collapsed": false
   },
   "outputs": [
    {
     "data": {
      "text/html": [
       "<div>\n",
       "<style scoped>\n",
       "    .dataframe tbody tr th:only-of-type {\n",
       "        vertical-align: middle;\n",
       "    }\n",
       "\n",
       "    .dataframe tbody tr th {\n",
       "        vertical-align: top;\n",
       "    }\n",
       "\n",
       "    .dataframe thead th {\n",
       "        text-align: right;\n",
       "    }\n",
       "</style>\n",
       "<table border=\"1\" class=\"dataframe\">\n",
       "  <thead>\n",
       "    <tr style=\"text-align: right;\">\n",
       "      <th></th>\n",
       "      <th>prediction</th>\n",
       "      <th>user_id</th>\n",
       "      <th>follower_rank</th>\n",
       "      <th>followers</th>\n",
       "      <th>actlevel</th>\n",
       "      <th>ins_count</th>\n",
       "      <th>count</th>\n",
       "      <th>norm_act</th>\n",
       "      <th>reply_expect</th>\n",
       "      <th>controversy</th>\n",
       "      <th>ins_frac</th>\n",
       "    </tr>\n",
       "  </thead>\n",
       "  <tbody>\n",
       "    <tr>\n",
       "      <th>count</th>\n",
       "      <td>23556.000000</td>\n",
       "      <td>2.355600e+04</td>\n",
       "      <td>23556.000000</td>\n",
       "      <td>23556.000000</td>\n",
       "      <td>23556.000000</td>\n",
       "      <td>23556.000000</td>\n",
       "      <td>23556.000000</td>\n",
       "      <td>23556.000000</td>\n",
       "      <td>23556.000000</td>\n",
       "      <td>23556.000000</td>\n",
       "      <td>23556.000000</td>\n",
       "    </tr>\n",
       "    <tr>\n",
       "      <th>mean</th>\n",
       "      <td>0.186449</td>\n",
       "      <td>4.622756e+07</td>\n",
       "      <td>20.937468</td>\n",
       "      <td>56.510104</td>\n",
       "      <td>0.382713</td>\n",
       "      <td>381.323697</td>\n",
       "      <td>2101.674817</td>\n",
       "      <td>1.191357</td>\n",
       "      <td>68.465874</td>\n",
       "      <td>33.744568</td>\n",
       "      <td>0.372899</td>\n",
       "    </tr>\n",
       "    <tr>\n",
       "      <th>std</th>\n",
       "      <td>0.389477</td>\n",
       "      <td>5.156744e+07</td>\n",
       "      <td>14.341498</td>\n",
       "      <td>23.424515</td>\n",
       "      <td>0.715178</td>\n",
       "      <td>176.086269</td>\n",
       "      <td>857.277733</td>\n",
       "      <td>0.357589</td>\n",
       "      <td>35.859669</td>\n",
       "      <td>9.342548</td>\n",
       "      <td>0.137960</td>\n",
       "    </tr>\n",
       "    <tr>\n",
       "      <th>min</th>\n",
       "      <td>0.000000</td>\n",
       "      <td>4.283330e+05</td>\n",
       "      <td>2.000000</td>\n",
       "      <td>33.000000</td>\n",
       "      <td>-0.981678</td>\n",
       "      <td>50.000000</td>\n",
       "      <td>570.000000</td>\n",
       "      <td>0.509161</td>\n",
       "      <td>17.310294</td>\n",
       "      <td>22.377053</td>\n",
       "      <td>0.175439</td>\n",
       "    </tr>\n",
       "    <tr>\n",
       "      <th>25%</th>\n",
       "      <td>0.000000</td>\n",
       "      <td>8.132860e+05</td>\n",
       "      <td>10.000000</td>\n",
       "      <td>36.000000</td>\n",
       "      <td>0.464652</td>\n",
       "      <td>261.000000</td>\n",
       "      <td>1519.000000</td>\n",
       "      <td>1.232326</td>\n",
       "      <td>47.370905</td>\n",
       "      <td>25.296971</td>\n",
       "      <td>0.258033</td>\n",
       "    </tr>\n",
       "    <tr>\n",
       "      <th>50%</th>\n",
       "      <td>0.000000</td>\n",
       "      <td>2.308340e+07</td>\n",
       "      <td>16.000000</td>\n",
       "      <td>55.000000</td>\n",
       "      <td>0.626338</td>\n",
       "      <td>406.000000</td>\n",
       "      <td>2023.000000</td>\n",
       "      <td>1.313169</td>\n",
       "      <td>58.149255</td>\n",
       "      <td>32.514084</td>\n",
       "      <td>0.375639</td>\n",
       "    </tr>\n",
       "    <tr>\n",
       "      <th>75%</th>\n",
       "      <td>0.000000</td>\n",
       "      <td>1.013114e+08</td>\n",
       "      <td>34.000000</td>\n",
       "      <td>63.000000</td>\n",
       "      <td>0.984078</td>\n",
       "      <td>495.000000</td>\n",
       "      <td>3268.000000</td>\n",
       "      <td>1.492039</td>\n",
       "      <td>89.522348</td>\n",
       "      <td>36.504851</td>\n",
       "      <td>0.473581</td>\n",
       "    </tr>\n",
       "    <tr>\n",
       "      <th>max</th>\n",
       "      <td>1.000000</td>\n",
       "      <td>1.584873e+08</td>\n",
       "      <td>44.000000</td>\n",
       "      <td>103.000000</td>\n",
       "      <td>0.999605</td>\n",
       "      <td>645.000000</td>\n",
       "      <td>3303.000000</td>\n",
       "      <td>1.499803</td>\n",
       "      <td>135.256400</td>\n",
       "      <td>52.711101</td>\n",
       "      <td>0.673012</td>\n",
       "    </tr>\n",
       "  </tbody>\n",
       "</table>\n",
       "</div>"
      ],
      "text/plain": [
       "         prediction       user_id  follower_rank     followers      actlevel  \\\n",
       "count  23556.000000  2.355600e+04   23556.000000  23556.000000  23556.000000   \n",
       "mean       0.186449  4.622756e+07      20.937468     56.510104      0.382713   \n",
       "std        0.389477  5.156744e+07      14.341498     23.424515      0.715178   \n",
       "min        0.000000  4.283330e+05       2.000000     33.000000     -0.981678   \n",
       "25%        0.000000  8.132860e+05      10.000000     36.000000      0.464652   \n",
       "50%        0.000000  2.308340e+07      16.000000     55.000000      0.626338   \n",
       "75%        0.000000  1.013114e+08      34.000000     63.000000      0.984078   \n",
       "max        1.000000  1.584873e+08      44.000000    103.000000      0.999605   \n",
       "\n",
       "          ins_count         count      norm_act  reply_expect   controversy  \\\n",
       "count  23556.000000  23556.000000  23556.000000  23556.000000  23556.000000   \n",
       "mean     381.323697   2101.674817      1.191357     68.465874     33.744568   \n",
       "std      176.086269    857.277733      0.357589     35.859669      9.342548   \n",
       "min       50.000000    570.000000      0.509161     17.310294     22.377053   \n",
       "25%      261.000000   1519.000000      1.232326     47.370905     25.296971   \n",
       "50%      406.000000   2023.000000      1.313169     58.149255     32.514084   \n",
       "75%      495.000000   3268.000000      1.492039     89.522348     36.504851   \n",
       "max      645.000000   3303.000000      1.499803    135.256400     52.711101   \n",
       "\n",
       "           ins_frac  \n",
       "count  23556.000000  \n",
       "mean       0.372899  \n",
       "std        0.137960  \n",
       "min        0.175439  \n",
       "25%        0.258033  \n",
       "50%        0.375639  \n",
       "75%        0.473581  \n",
       "max        0.673012  "
      ]
     },
     "execution_count": 92,
     "metadata": {},
     "output_type": "execute_result"
    }
   ],
   "source": [
    "tmpdata.loc[(tmpdata['controversy_cat']=='med')].describe() # ins_frac=(0.365,0.134)"
   ]
  },
  {
   "cell_type": "code",
   "execution_count": 93,
   "metadata": {
    "collapsed": false
   },
   "outputs": [
    {
     "data": {
      "text/html": [
       "<div>\n",
       "<style scoped>\n",
       "    .dataframe tbody tr th:only-of-type {\n",
       "        vertical-align: middle;\n",
       "    }\n",
       "\n",
       "    .dataframe tbody tr th {\n",
       "        vertical-align: top;\n",
       "    }\n",
       "\n",
       "    .dataframe thead th {\n",
       "        text-align: right;\n",
       "    }\n",
       "</style>\n",
       "<table border=\"1\" class=\"dataframe\">\n",
       "  <thead>\n",
       "    <tr style=\"text-align: right;\">\n",
       "      <th></th>\n",
       "      <th>prediction</th>\n",
       "      <th>user_id</th>\n",
       "      <th>follower_rank</th>\n",
       "      <th>followers</th>\n",
       "      <th>actlevel</th>\n",
       "      <th>ins_count</th>\n",
       "      <th>count</th>\n",
       "      <th>norm_act</th>\n",
       "      <th>reply_expect</th>\n",
       "      <th>controversy</th>\n",
       "      <th>ins_frac</th>\n",
       "    </tr>\n",
       "  </thead>\n",
       "  <tbody>\n",
       "    <tr>\n",
       "      <th>count</th>\n",
       "      <td>53954.000000</td>\n",
       "      <td>5.395400e+04</td>\n",
       "      <td>53954.000000</td>\n",
       "      <td>53954.000000</td>\n",
       "      <td>53954.000000</td>\n",
       "      <td>53954.000000</td>\n",
       "      <td>53954.000000</td>\n",
       "      <td>53954.000000</td>\n",
       "      <td>53954.000000</td>\n",
       "      <td>53954.000000</td>\n",
       "      <td>53954.000000</td>\n",
       "    </tr>\n",
       "    <tr>\n",
       "      <th>mean</th>\n",
       "      <td>0.183341</td>\n",
       "      <td>3.878477e+07</td>\n",
       "      <td>24.162954</td>\n",
       "      <td>47.656411</td>\n",
       "      <td>0.508177</td>\n",
       "      <td>1654.284668</td>\n",
       "      <td>8634.451755</td>\n",
       "      <td>1.254088</td>\n",
       "      <td>57.823164</td>\n",
       "      <td>144.555913</td>\n",
       "      <td>0.366683</td>\n",
       "    </tr>\n",
       "    <tr>\n",
       "      <th>std</th>\n",
       "      <td>0.386950</td>\n",
       "      <td>5.787788e+07</td>\n",
       "      <td>12.404891</td>\n",
       "      <td>12.501473</td>\n",
       "      <td>0.700291</td>\n",
       "      <td>1067.957055</td>\n",
       "      <td>4406.437596</td>\n",
       "      <td>0.350146</td>\n",
       "      <td>19.118214</td>\n",
       "      <td>54.954191</td>\n",
       "      <td>0.121287</td>\n",
       "    </tr>\n",
       "    <tr>\n",
       "      <th>min</th>\n",
       "      <td>0.000000</td>\n",
       "      <td>7.592510e+05</td>\n",
       "      <td>7.000000</td>\n",
       "      <td>31.000000</td>\n",
       "      <td>-0.996127</td>\n",
       "      <td>143.000000</td>\n",
       "      <td>1725.000000</td>\n",
       "      <td>0.501937</td>\n",
       "      <td>28.610390</td>\n",
       "      <td>60.292781</td>\n",
       "      <td>0.111762</td>\n",
       "    </tr>\n",
       "    <tr>\n",
       "      <th>25%</th>\n",
       "      <td>0.000000</td>\n",
       "      <td>8.070950e+05</td>\n",
       "      <td>13.000000</td>\n",
       "      <td>41.000000</td>\n",
       "      <td>0.609948</td>\n",
       "      <td>746.000000</td>\n",
       "      <td>5029.000000</td>\n",
       "      <td>1.304974</td>\n",
       "      <td>40.454188</td>\n",
       "      <td>109.951534</td>\n",
       "      <td>0.294651</td>\n",
       "    </tr>\n",
       "    <tr>\n",
       "      <th>50%</th>\n",
       "      <td>0.000000</td>\n",
       "      <td>1.883978e+07</td>\n",
       "      <td>25.000000</td>\n",
       "      <td>42.000000</td>\n",
       "      <td>0.898355</td>\n",
       "      <td>1168.000000</td>\n",
       "      <td>5502.000000</td>\n",
       "      <td>1.449178</td>\n",
       "      <td>59.416287</td>\n",
       "      <td>145.826787</td>\n",
       "      <td>0.331594</td>\n",
       "    </tr>\n",
       "    <tr>\n",
       "      <th>75%</th>\n",
       "      <td>0.000000</td>\n",
       "      <td>3.450748e+07</td>\n",
       "      <td>28.000000</td>\n",
       "      <td>58.000000</td>\n",
       "      <td>0.984078</td>\n",
       "      <td>1983.000000</td>\n",
       "      <td>12685.000000</td>\n",
       "      <td>1.492039</td>\n",
       "      <td>64.157683</td>\n",
       "      <td>158.745186</td>\n",
       "      <td>0.520457</td>\n",
       "    </tr>\n",
       "    <tr>\n",
       "      <th>max</th>\n",
       "      <td>1.000000</td>\n",
       "      <td>1.815617e+08</td>\n",
       "      <td>48.000000</td>\n",
       "      <td>74.000000</td>\n",
       "      <td>0.999544</td>\n",
       "      <td>3301.000000</td>\n",
       "      <td>13460.000000</td>\n",
       "      <td>1.499772</td>\n",
       "      <td>86.986762</td>\n",
       "      <td>226.537211</td>\n",
       "      <td>0.525180</td>\n",
       "    </tr>\n",
       "  </tbody>\n",
       "</table>\n",
       "</div>"
      ],
      "text/plain": [
       "         prediction       user_id  follower_rank     followers      actlevel  \\\n",
       "count  53954.000000  5.395400e+04   53954.000000  53954.000000  53954.000000   \n",
       "mean       0.183341  3.878477e+07      24.162954     47.656411      0.508177   \n",
       "std        0.386950  5.787788e+07      12.404891     12.501473      0.700291   \n",
       "min        0.000000  7.592510e+05       7.000000     31.000000     -0.996127   \n",
       "25%        0.000000  8.070950e+05      13.000000     41.000000      0.609948   \n",
       "50%        0.000000  1.883978e+07      25.000000     42.000000      0.898355   \n",
       "75%        0.000000  3.450748e+07      28.000000     58.000000      0.984078   \n",
       "max        1.000000  1.815617e+08      48.000000     74.000000      0.999544   \n",
       "\n",
       "          ins_count         count      norm_act  reply_expect   controversy  \\\n",
       "count  53954.000000  53954.000000  53954.000000  53954.000000  53954.000000   \n",
       "mean    1654.284668   8634.451755      1.254088     57.823164    144.555913   \n",
       "std     1067.957055   4406.437596      0.350146     19.118214     54.954191   \n",
       "min      143.000000   1725.000000      0.501937     28.610390     60.292781   \n",
       "25%      746.000000   5029.000000      1.304974     40.454188    109.951534   \n",
       "50%     1168.000000   5502.000000      1.449178     59.416287    145.826787   \n",
       "75%     1983.000000  12685.000000      1.492039     64.157683    158.745186   \n",
       "max     3301.000000  13460.000000      1.499772     86.986762    226.537211   \n",
       "\n",
       "           ins_frac  \n",
       "count  53954.000000  \n",
       "mean       0.366683  \n",
       "std        0.121287  \n",
       "min        0.111762  \n",
       "25%        0.294651  \n",
       "50%        0.331594  \n",
       "75%        0.520457  \n",
       "max        0.525180  "
      ]
     },
     "execution_count": 93,
     "metadata": {},
     "output_type": "execute_result"
    }
   ],
   "source": [
    "tmpdata.loc[(tmpdata['controversy_cat']=='high')].describe() # ins_frac=(0.359,0.115)"
   ]
  },
  {
   "cell_type": "code",
   "execution_count": 94,
   "metadata": {
    "collapsed": false
   },
   "outputs": [
    {
     "data": {
      "text/plain": [
       "<matplotlib.axes._subplots.AxesSubplot at 0x7f5beed71828>"
      ]
     },
     "execution_count": 94,
     "metadata": {},
     "output_type": "execute_result"
    },
    {
     "data": {
      "image/png": "[encoded data removed]",
      "text/plain": [
       "<matplotlib.figure.Figure at 0x7f5beec1e5f8>"
      ]
     },
     "metadata": {},
     "output_type": "display_data"
    }
   ],
   "source": [
    "# remove outlier and plot #\n",
    "sns.countplot(x=\"gender\",hue=\"prediction\", data=data.loc[(data['user_name']!='realDonaldTrump')&(data['job']=='artist')])"
   ]
  },
  {
   "cell_type": "code",
   "execution_count": 95,
   "metadata": {
    "collapsed": false
   },
   "outputs": [
    {
     "data": {
      "text/plain": [
       "<matplotlib.axes._subplots.AxesSubplot at 0x7f5beeb71f98>"
      ]
     },
     "execution_count": 95,
     "metadata": {},
     "output_type": "execute_result"
    },
    {
     "data": {
      "image/png": "[encoded data removed]",
      "text/plain": [
       "<matplotlib.figure.Figure at 0x7f5beeb2a358>"
      ]
     },
     "metadata": {},
     "output_type": "display_data"
    }
   ],
   "source": [
    "#sns.countplot(x=\"job\",hue=\"prediction\", data=lsvmdata.loc[lsvmdata['user_name']=='CNN'])\n",
    "sns.countplot(x=\"job\",hue=\"prediction\", data=data.loc[data['user_name']!='realDonaldTrump'])"
   ]
  },
  {
   "cell_type": "code",
   "execution_count": 96,
   "metadata": {
    "collapsed": false
   },
   "outputs": [
    {
     "name": "stderr",
     "output_type": "stream",
     "text": [
      "/home/ijee/anaconda3/lib/python3.5/site-packages/seaborn/axisgrid.py:703: UserWarning: Using the countplot function without specifying `order` is likely to produce an incorrect plot.\n",
      "  warnings.warn(warning)\n"
     ]
    },
    {
     "data": {
      "image/png": "[encoded data removed]",
      "text/plain": [
       "<matplotlib.figure.Figure at 0x7f5beead48d0>"
      ]
     },
     "metadata": {},
     "output_type": "display_data"
    }
   ],
   "source": [
    "# removing outlier (getting WAY TOO MANY replies than other users)\n",
    "grid = sns.FacetGrid(data.loc[data['user_name']!='realDonaldTrump'], col='gender', row='job', size=2.2, aspect=1.6)\n",
    "grid.map(sns.countplot, 'prediction', alpha=.5)\n",
    "grid.add_legend();\n",
    "# among artists, where they have recieved similar amount of replies, the amount of insult female recieve is higher than that toward males"
   ]
  },
  {
   "cell_type": "markdown",
   "metadata": {
    "collapsed": true
   },
   "source": [
    "# Conclusions\n",
    "We have performed sentiment analysis on collected Twitter replies to 50 most followed people, to see if there is a bias in the degree of insult people perceive depending on their background. Looking at collection of insulting comments were not particularly a pleasing experience, but as a result a few interesting results were found:\n",
    "## Gender bias in occupation:\n",
    "Note that all female figures has job that can be categorized either in \"artist\" or \"TV personality\", while fields e.g. \"business\" or \"politician\", \"sports\" are all males in the top 50 list. This makes the analysis harder, as we would like to remove as much difference as possible and compare an apple to another apple. In the end the only job category we could use for the main analysis was 'artist'.\n",
    "## Insult bias\n",
    "Using linear SVM classification for sentiment analysis, we found that female artist figures on Twitter recieves more insulting comments than male on average (We wanted to compare insult fraction among users with the same occupation category, however due to gender bias in occupation, we can only do so among artists).\n",
    "## controversy - insult correlation?\n",
    "The data exhibit a small correlation in controversy-insult correlation for both female and male accounts. No such trend is observed for group accounts. \n",
    "\n",
    "## Limitations\n",
    "Since the number of accounts analyzed here are only 50, we cannot defend the statistical significance of our result.<br>\n",
    "We collected tweets using Streaming API for random time windows, which may bias replies to users in specific time zones. We may be able to model this by analysing tweet distribution at one timezone and take into account this during the streaming window ws open, but we decided that this is out of the scope of current work.<br>\n",
    "The type of sentiment analysis training data we perform is strictly speaking not a perfect match to the Twitter, as they are plain text. They are replies on a forum, which would at least guarantee similar length of text as tweets (won't be extensive in length), and it provides a large labeled dataset for insult classification, which is why we decided to reply on it to train the algorithm. The Twitter data from Mean Birds paper were inappropriate for our analysis, as their focus was more on finding the individual users who are aggressive / bullying or spamming. Furthermore, many of the problematic accounts / tweets were suspended or deleted, so it was hard to collect the text data from the list. Also, many of the accounts they categorized as aggressive were highly topic-related: such as Men's Right Activist etc, which, by text alone, does not show high degree of insult / aggression. <br>\n"
   ]
  },
  {
   "cell_type": "code",
   "execution_count": null,
   "metadata": {
    "collapsed": true
   },
   "outputs": [],
   "source": []
  }
 ],
 "metadata": {
  "anaconda-cloud": {},
  "kernelspec": {
   "display_name": "Python [anaconda3]",
   "language": "python",
   "name": "Python [anaconda3]"
  },
  "language_info": {
   "codemirror_mode": {
    "name": "ipython",
    "version": 3
   },
   "file_extension": ".py",
   "mimetype": "text/x-python",
   "name": "python",
   "nbconvert_exporter": "python",
   "pygments_lexer": "ipython3",
   "version": "3.5.2"
  }
 },
 "nbformat": 4,
 "nbformat_minor": 2
}

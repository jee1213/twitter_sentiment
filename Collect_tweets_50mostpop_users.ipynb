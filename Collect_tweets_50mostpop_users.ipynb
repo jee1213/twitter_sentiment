{
 "cells": [
  {
   "cell_type": "markdown",
   "metadata": {
    "collapsed": true
   },
   "source": [
    "# Intro\n",
    "This ipython notebook is created to use Twitter API to collect data of interest. The first part is obtaining user id from the user name, the second part is collecting tweets from the users using streaming API, and the third part is collecting past 100 tweets from the users such that the activity level of the users can be estimated. The actual analysis using these data is done in the notebook \n",
    "twitter_NLP_insult_GloVe_RNN.ipynb."
   ]
  },
  {
   "cell_type": "code",
   "execution_count": 1,
   "metadata": {
    "collapsed": true
   },
   "outputs": [],
   "source": [
    "try:\n",
    "    import json\n",
    "except ImportError:\n",
    "    import simplejson as json\n",
    "\n",
    "# Import the necessary methods from \"twitter\" library\n",
    "from twitter import Twitter, OAuth, TwitterHTTPError, TwitterStream"
   ]
  },
  {
   "cell_type": "code",
   "execution_count": 11,
   "metadata": {
    "collapsed": false
   },
   "outputs": [],
   "source": [
    "import pandas as pd\n",
    "# Obtain list of 50 most followed people worldwide from wikipedia\n",
    "import wikipedia as wp\n",
    " \n",
    "#Get the html source\n",
    "#html = wp.page(\"List of most-followed Twitter accounts\").html().encode(\"UTF-8\")\n",
    "#df = pd.read_html(html)[0]\n",
    "#df.to_csv('twitter_list_of_influencers.csv',header=0,index=False)\n",
    "df = pd.read_csv('twitter_list_of_influencers.csv')\n",
    "# remove outlier\n",
    "df = df.drop(df.index[17])\n",
    "user_list = list(df['Account name'])[:]\n",
    "# remove '@' infront of the screen names and save the list as user_list\n",
    "user_list = [a[1:] for a in user_list]"
   ]
  },
  {
   "cell_type": "code",
   "execution_count": 12,
   "metadata": {
    "collapsed": false
   },
   "outputs": [
    {
     "name": "stdout",
     "output_type": "stream",
     "text": [
      "    Rank  Change (monthly)    Account name                Owner  \\\n",
      "0    1.0               NaN      @katyperry           Katy Perry   \n",
      "1    2.0               NaN   @justinbieber        Justin Bieber   \n",
      "2    3.0               NaN    @BarackObama         Barack Obama   \n",
      "3    4.0               NaN        @rihanna              Rihanna   \n",
      "4    5.0               NaN  @taylorswift13         Taylor Swift   \n",
      "5    6.0               NaN       @ladygaga            Lady Gaga   \n",
      "6    7.0               NaN   @TheEllenShow      Ellen DeGeneres   \n",
      "7    8.0               NaN      @Cristiano    Cristiano Ronaldo   \n",
      "8    9.0               NaN        @YouTube              YouTube   \n",
      "9   10.0               NaN    @jtimberlake    Justin Timberlake   \n",
      "10  11.0               NaN        @twitter              Twitter   \n",
      "11  12.0               NaN  @KimKardashian  Kim Kardashian West   \n",
      "12  13.0               NaN  @britneyspears       Britney Spears   \n",
      "13  14.0               NaN   @ArianaGrande        Ariana Grande   \n",
      "14  15.0               NaN       @ddlovato          Demi Lovato   \n",
      "15  16.0               NaN    @selenagomez         Selena Gomez   \n",
      "16  17.0               NaN         @cnnbrk    CNN Breaking News   \n",
      "18  19.0               NaN        @shakira              Shakira   \n",
      "19  20.0               NaN    @jimmyfallon         Jimmy Fallon   \n",
      "20  21.0               NaN      @BillGates           Bill Gates   \n",
      "\n",
      "    Followers (millions)                        Activity Country  \n",
      "0                    110                        Musician     USA  \n",
      "1                    107                        Musician     CAN  \n",
      "2                    103           Former U.S. President     USA  \n",
      "3                     89                        Musician     BAR  \n",
      "4                     86                        Musician     USA  \n",
      "5                     79                        Musician     USA  \n",
      "6                     78                        Comedian     USA  \n",
      "7                     74                      Footballer     POR  \n",
      "8                     72           Online video platform     USA  \n",
      "9                     66              Musician and actor     USA  \n",
      "10                    63           Social media platform     USA  \n",
      "11                    60          Television personality     USA  \n",
      "12                    58                        Musician     USA  \n",
      "13                    58                        Musician     USA  \n",
      "14                    57                        Musician     USA  \n",
      "15                    57            Musician and actress     USA  \n",
      "16                    55                    News channel     USA  \n",
      "18                    52                        Musician     COL  \n",
      "19                    51                        Comedian     USA  \n",
      "20                    46  Businessman and philanthropist     USA  \n"
     ]
    }
   ],
   "source": [
    "print(df.head(20))"
   ]
  },
  {
   "cell_type": "code",
   "execution_count": 13,
   "metadata": {
    "collapsed": false
   },
   "outputs": [],
   "source": [
    "# Variables that contains the user credentials to access Twitter API \n",
    "ACCESS_TOKEN = ''\n",
    "ACCESS_SECRET = ''\n",
    "CONSUMER_KEY = ''\n",
    "CONSUMER_SECRET = ''\n",
    "\n",
    "oauth = OAuth(ACCESS_TOKEN, ACCESS_SECRET, CONSUMER_KEY, CONSUMER_SECRET)\n",
    "\n",
    "t = Twitter(auth=oauth)\n",
    "id_list = t.users.lookup(screen_name=','.join(user_list))"
   ]
  },
  {
   "cell_type": "code",
   "execution_count": 16,
   "metadata": {
    "collapsed": false
   },
   "outputs": [
    {
     "name": "stdout",
     "output_type": "stream",
     "text": [
      "['21447363', '27260086', '813286', '79293791', '17919972', '14230524', '15846407', '155659213', '10228272', '26565946', '783214', '25365536', '16409683', '34507480', '21111883', '23375688', '428333', '44409004', '15485441', '50393960', '85603854', '18839785', '100220864', '19397785', '807095', '23083404', '268414482', '759251', '105119490', '158487331', '180505807', '5402612', '27195114', '101311381', '26257166', '23151437', '145125358', '116362700', '2557521', '20322929', '132385468', '84279963', '28706024', '158314798', '181561712', '209708391', '35094637', '14872237', '60865434']\n"
     ]
    }
   ],
   "source": [
    "user_id = [id_list[x]['id_str'] for x in range(49)]\n",
    "#user_id = [id_list[x]['id_str'] for x in range(50)]\n",
    "\n",
    "print(user_id)"
   ]
  },
  {
   "cell_type": "code",
   "execution_count": 18,
   "metadata": {
    "collapsed": false
   },
   "outputs": [
    {
     "data": {
      "text/html": [
       "<div>\n",
       "<style scoped>\n",
       "    .dataframe tbody tr th:only-of-type {\n",
       "        vertical-align: middle;\n",
       "    }\n",
       "\n",
       "    .dataframe tbody tr th {\n",
       "        vertical-align: top;\n",
       "    }\n",
       "\n",
       "    .dataframe thead th {\n",
       "        text-align: right;\n",
       "    }\n",
       "</style>\n",
       "<table border=\"1\" class=\"dataframe\">\n",
       "  <thead>\n",
       "    <tr style=\"text-align: right;\">\n",
       "      <th></th>\n",
       "      <th>activity</th>\n",
       "      <th>country</th>\n",
       "      <th>followers</th>\n",
       "      <th>user_id</th>\n",
       "      <th>user_name</th>\n",
       "    </tr>\n",
       "  </thead>\n",
       "  <tbody>\n",
       "    <tr>\n",
       "      <th>0</th>\n",
       "      <td>Musician</td>\n",
       "      <td>USA</td>\n",
       "      <td>110</td>\n",
       "      <td>21447363</td>\n",
       "      <td>katyperry</td>\n",
       "    </tr>\n",
       "    <tr>\n",
       "      <th>1</th>\n",
       "      <td>Musician</td>\n",
       "      <td>CAN</td>\n",
       "      <td>107</td>\n",
       "      <td>27260086</td>\n",
       "      <td>justinbieber</td>\n",
       "    </tr>\n",
       "    <tr>\n",
       "      <th>2</th>\n",
       "      <td>Former U.S. President</td>\n",
       "      <td>USA</td>\n",
       "      <td>103</td>\n",
       "      <td>813286</td>\n",
       "      <td>BarackObama</td>\n",
       "    </tr>\n",
       "    <tr>\n",
       "      <th>3</th>\n",
       "      <td>Musician</td>\n",
       "      <td>BAR</td>\n",
       "      <td>89</td>\n",
       "      <td>79293791</td>\n",
       "      <td>rihanna</td>\n",
       "    </tr>\n",
       "    <tr>\n",
       "      <th>4</th>\n",
       "      <td>Musician</td>\n",
       "      <td>USA</td>\n",
       "      <td>86</td>\n",
       "      <td>17919972</td>\n",
       "      <td>taylorswift13</td>\n",
       "    </tr>\n",
       "    <tr>\n",
       "      <th>5</th>\n",
       "      <td>Musician</td>\n",
       "      <td>USA</td>\n",
       "      <td>79</td>\n",
       "      <td>14230524</td>\n",
       "      <td>ladygaga</td>\n",
       "    </tr>\n",
       "    <tr>\n",
       "      <th>6</th>\n",
       "      <td>Comedian</td>\n",
       "      <td>USA</td>\n",
       "      <td>78</td>\n",
       "      <td>15846407</td>\n",
       "      <td>TheEllenShow</td>\n",
       "    </tr>\n",
       "    <tr>\n",
       "      <th>7</th>\n",
       "      <td>Footballer</td>\n",
       "      <td>POR</td>\n",
       "      <td>74</td>\n",
       "      <td>155659213</td>\n",
       "      <td>Cristiano</td>\n",
       "    </tr>\n",
       "    <tr>\n",
       "      <th>8</th>\n",
       "      <td>Online video platform</td>\n",
       "      <td>USA</td>\n",
       "      <td>72</td>\n",
       "      <td>10228272</td>\n",
       "      <td>YouTube</td>\n",
       "    </tr>\n",
       "    <tr>\n",
       "      <th>9</th>\n",
       "      <td>Musician and actor</td>\n",
       "      <td>USA</td>\n",
       "      <td>66</td>\n",
       "      <td>26565946</td>\n",
       "      <td>jtimberlake</td>\n",
       "    </tr>\n",
       "    <tr>\n",
       "      <th>10</th>\n",
       "      <td>Social media platform</td>\n",
       "      <td>USA</td>\n",
       "      <td>63</td>\n",
       "      <td>783214</td>\n",
       "      <td>twitter</td>\n",
       "    </tr>\n",
       "    <tr>\n",
       "      <th>11</th>\n",
       "      <td>Television personality</td>\n",
       "      <td>USA</td>\n",
       "      <td>60</td>\n",
       "      <td>25365536</td>\n",
       "      <td>KimKardashian</td>\n",
       "    </tr>\n",
       "    <tr>\n",
       "      <th>12</th>\n",
       "      <td>Musician</td>\n",
       "      <td>USA</td>\n",
       "      <td>58</td>\n",
       "      <td>16409683</td>\n",
       "      <td>britneyspears</td>\n",
       "    </tr>\n",
       "    <tr>\n",
       "      <th>13</th>\n",
       "      <td>Musician</td>\n",
       "      <td>USA</td>\n",
       "      <td>58</td>\n",
       "      <td>34507480</td>\n",
       "      <td>ArianaGrande</td>\n",
       "    </tr>\n",
       "    <tr>\n",
       "      <th>14</th>\n",
       "      <td>Musician</td>\n",
       "      <td>USA</td>\n",
       "      <td>57</td>\n",
       "      <td>21111883</td>\n",
       "      <td>ddlovato</td>\n",
       "    </tr>\n",
       "    <tr>\n",
       "      <th>15</th>\n",
       "      <td>Musician and actress</td>\n",
       "      <td>USA</td>\n",
       "      <td>57</td>\n",
       "      <td>23375688</td>\n",
       "      <td>selenagomez</td>\n",
       "    </tr>\n",
       "    <tr>\n",
       "      <th>16</th>\n",
       "      <td>News channel</td>\n",
       "      <td>USA</td>\n",
       "      <td>55</td>\n",
       "      <td>428333</td>\n",
       "      <td>cnnbrk</td>\n",
       "    </tr>\n",
       "    <tr>\n",
       "      <th>18</th>\n",
       "      <td>Musician</td>\n",
       "      <td>COL</td>\n",
       "      <td>52</td>\n",
       "      <td>44409004</td>\n",
       "      <td>shakira</td>\n",
       "    </tr>\n",
       "    <tr>\n",
       "      <th>19</th>\n",
       "      <td>Comedian</td>\n",
       "      <td>USA</td>\n",
       "      <td>51</td>\n",
       "      <td>15485441</td>\n",
       "      <td>jimmyfallon</td>\n",
       "    </tr>\n",
       "    <tr>\n",
       "      <th>20</th>\n",
       "      <td>Businessman and philanthropist</td>\n",
       "      <td>USA</td>\n",
       "      <td>46</td>\n",
       "      <td>50393960</td>\n",
       "      <td>BillGates</td>\n",
       "    </tr>\n",
       "  </tbody>\n",
       "</table>\n",
       "</div>"
      ],
      "text/plain": [
       "                          activity country  followers    user_id  \\\n",
       "0                         Musician     USA        110   21447363   \n",
       "1                         Musician     CAN        107   27260086   \n",
       "2            Former U.S. President     USA        103     813286   \n",
       "3                         Musician     BAR         89   79293791   \n",
       "4                         Musician     USA         86   17919972   \n",
       "5                         Musician     USA         79   14230524   \n",
       "6                         Comedian     USA         78   15846407   \n",
       "7                       Footballer     POR         74  155659213   \n",
       "8            Online video platform     USA         72   10228272   \n",
       "9               Musician and actor     USA         66   26565946   \n",
       "10           Social media platform     USA         63     783214   \n",
       "11          Television personality     USA         60   25365536   \n",
       "12                        Musician     USA         58   16409683   \n",
       "13                        Musician     USA         58   34507480   \n",
       "14                        Musician     USA         57   21111883   \n",
       "15            Musician and actress     USA         57   23375688   \n",
       "16                    News channel     USA         55     428333   \n",
       "18                        Musician     COL         52   44409004   \n",
       "19                        Comedian     USA         51   15485441   \n",
       "20  Businessman and philanthropist     USA         46   50393960   \n",
       "\n",
       "        user_name  \n",
       "0       katyperry  \n",
       "1    justinbieber  \n",
       "2     BarackObama  \n",
       "3         rihanna  \n",
       "4   taylorswift13  \n",
       "5        ladygaga  \n",
       "6    TheEllenShow  \n",
       "7       Cristiano  \n",
       "8         YouTube  \n",
       "9     jtimberlake  \n",
       "10        twitter  \n",
       "11  KimKardashian  \n",
       "12  britneyspears  \n",
       "13   ArianaGrande  \n",
       "14       ddlovato  \n",
       "15    selenagomez  \n",
       "16         cnnbrk  \n",
       "18        shakira  \n",
       "19    jimmyfallon  \n",
       "20      BillGates  "
      ]
     },
     "execution_count": 18,
     "metadata": {},
     "output_type": "execute_result"
    }
   ],
   "source": [
    "user_info = pd.DataFrame({\"user_name\":user_list,\"user_id\":user_id,\"activity\":df['Activity'],\"country\":df['Country'],\"followers\":df['Followers (millions)']})\n",
    "user_info.head(20)\n",
    "#user_info.to_csv(\"user_info.csv\")"
   ]
  },
  {
   "cell_type": "code",
   "execution_count": 38,
   "metadata": {
    "collapsed": false
   },
   "outputs": [
    {
     "name": "stdout",
     "output_type": "stream",
     "text": [
      "file exists\n",
      "file not complete, stream twitter for collecting further tweets\n"
     ]
    }
   ],
   "source": [
    "# Initiate the connection to Twitter Streaming API\n",
    "twitter_stream = TwitterStream(auth=oauth)\n",
    "iterator = twitter_stream.statuses.filter(lang='en',follow=','.join(user_id))\n",
    "\n",
    "# Get a sample of the public data following through Twitter\n",
    "# iterator = twitter_stream.statuses.sample()\n",
    "# As a pilot survey we set it to stop after getting 1000 tweets. \n",
    "# You don't have to set it to stop, but can continue running \n",
    "# the Twitter API to collect data for days or even longer. \n",
    "\n",
    "tweets_filename = 'twitter_savereplies_nsamp40000woDT.json'\n",
    "#tweets_file = open(tweets_filename, \"r\")\n",
    "import os.path\n",
    "# find out a way to filter replies only:\n",
    "# save to json file\n",
    "tweet_count = 40000\n",
    "tweet_cnt = tweet_count\n",
    "tweets = []\n",
    "try:\n",
    "    os.path.isfile(tweets_filename)\n",
    "    with open(tweets_filename, 'r') as f:\n",
    "        tweets = json.load(f) # readline only the first tweet/line\n",
    "        print(\"file exists\")\n",
    "        if len(tweets) < tweet_cnt:\n",
    "            raise DataError\n",
    "        pass\n",
    "except:\n",
    "    tweet_count = tweet_cnt - len(tweets)\n",
    "    print(\"file not complete, stream twitter for collecting further tweets\")\n",
    "    new_tweets = []\n",
    "    for tweet in iterator:\n",
    "    # select only \"replies\" to top 50 followed users\n",
    "        try:\n",
    "            if str(tweet['in_reply_to_user_id']) in user_id:\n",
    "        #print(tweet['in_reply_to_user_id'])\n",
    "                tweet_count -= 1\n",
    "                new_tweets.append(tweet)\n",
    "        except:\n",
    "            continue\n",
    "        if tweet_count <= 0:\n",
    "            break \n",
    "    # Twitter Python Tool wraps the data returned by Twitter \n",
    "    # as a TwitterDictResponse object.\n",
    "    # We convert it back to the JSON format to print/score\n",
    "    # loads converts json format to python dictionary\n",
    "    # dumps converts python dictionary to json format\n",
    "    # The command below will do pretty printing for JSON data, try it out\n",
    "    # print json.dumps(tweet, indent=4)\n",
    "#        with open(tweets_filename, 'w') as outfile:\n",
    "#            json.dump(tweets,outfile,indent=4)\n",
    "\n",
    "#    tweets.update(new_tweets)\n",
    "    tweets.extend(new_tweets)\n",
    "    with open(tweets_filename, 'w') as f:\n",
    "        json.dump(tweets, f)"
   ]
  },
  {
   "cell_type": "code",
   "execution_count": 39,
   "metadata": {
    "collapsed": false
   },
   "outputs": [
    {
     "name": "stdout",
     "output_type": "stream",
     "text": [
      "40000\n"
     ]
    }
   ],
   "source": [
    "print(len(tweets))"
   ]
  },
  {
   "cell_type": "code",
   "execution_count": 9,
   "metadata": {
    "collapsed": true
   },
   "outputs": [],
   "source": [
    "# obtain past 100 tweets from 50 most followed users (including replies and RTs : any kind of activity by the user), \n",
    "# such that we can estimate how active the user is. \n",
    "#time_filename = \"past_100_tweets.json\" \n",
    "#tweets = []\n",
    "#t = Twitter(auth=oauth)\n",
    "#for i in range(len(user_id)):\n",
    "#    tweet = t.statuses.user_timeline(user_id = user_id[i],count=100,trim_user=True)\n",
    "#    tweets.append(tweet)\n",
    "#with open(time_filename, 'w') as f:\n",
    "#    json.dump(tweets, f)\n",
    "#id_list = t.users.lookup(screen_name=','.join(user_list))"
   ]
  },
  {
   "cell_type": "code",
   "execution_count": 10,
   "metadata": {
    "collapsed": false
   },
   "outputs": [
    {
     "name": "stdout",
     "output_type": "stream",
     "text": [
      "50\n"
     ]
    }
   ],
   "source": [
    "#print(len(tweets))"
   ]
  },
  {
   "cell_type": "code",
   "execution_count": null,
   "metadata": {
    "collapsed": true
   },
   "outputs": [],
   "source": []
  }
 ],
 "metadata": {
  "anaconda-cloud": {},
  "kernelspec": {
   "display_name": "Python [anaconda3]",
   "language": "python",
   "name": "Python [anaconda3]"
  },
  "language_info": {
   "codemirror_mode": {
    "name": "ipython",
    "version": 3
   },
   "file_extension": ".py",
   "mimetype": "text/x-python",
   "name": "python",
   "nbconvert_exporter": "python",
   "pygments_lexer": "ipython3",
   "version": "3.5.2"
  }
 },
 "nbformat": 4,
 "nbformat_minor": 2
}
